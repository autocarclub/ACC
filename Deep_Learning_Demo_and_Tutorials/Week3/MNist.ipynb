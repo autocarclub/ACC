{
  "nbformat": 4,
  "nbformat_minor": 0,
  "metadata": {
    "colab": {
      "name": "MNist.ipynb",
      "version": "0.3.2",
      "provenance": []
    },
    "kernelspec": {
      "name": "python3",
      "display_name": "Python 3"
    },
    "accelerator": "GPU"
  },
  "cells": [
    {
      "cell_type": "code",
      "metadata": {
        "id": "_u1UkZL-E-5D",
        "colab_type": "code",
        "colab": {}
      },
      "source": [
        "import keras \n",
        "keras.__version__"
      ],
      "execution_count": 0,
      "outputs": []
    },
    {
      "cell_type": "code",
      "metadata": {
        "id": "AARnTAtKFJb6",
        "colab_type": "code",
        "colab": {}
      },
      "source": [
        "# Phase 1: ====== Load mnist ======="
      ],
      "execution_count": 0,
      "outputs": []
    },
    {
      "cell_type": "code",
      "metadata": {
        "id": "ztMILDjMKQ28",
        "colab_type": "code",
        "colab": {}
      },
      "source": [
        "from keras.datasets import mnist\n",
        "\n",
        "(train_images, train_labels), (test_images, test_labels) = mnist.load_data()"
      ],
      "execution_count": 0,
      "outputs": []
    },
    {
      "cell_type": "code",
      "metadata": {
        "id": "hcJfg6nrKhWn",
        "colab_type": "code",
        "colab": {}
      },
      "source": [
        "# Phase 2: =========== EDA ==============="
      ],
      "execution_count": 0,
      "outputs": []
    },
    {
      "cell_type": "code",
      "metadata": {
        "id": "m3l_rFv1KnFO",
        "colab_type": "code",
        "colab": {}
      },
      "source": [
        "print(type(train_images))\n",
        "print(train_images.shape)\n"
      ],
      "execution_count": 0,
      "outputs": []
    },
    {
      "cell_type": "code",
      "metadata": {
        "id": "JzQZ8A6RK2Dy",
        "colab_type": "code",
        "colab": {}
      },
      "source": [
        "print(type(train_labels))\n",
        "print(len(train_labels))"
      ],
      "execution_count": 0,
      "outputs": []
    },
    {
      "cell_type": "code",
      "metadata": {
        "id": "932vPqAmLIeS",
        "colab_type": "code",
        "colab": {}
      },
      "source": [
        "print(type(test_images))\n",
        "print(test_images.shape)\n"
      ],
      "execution_count": 0,
      "outputs": []
    },
    {
      "cell_type": "code",
      "metadata": {
        "id": "K_Uuu-QuLWKm",
        "colab_type": "code",
        "colab": {}
      },
      "source": [
        "print(type(test_labels))\n",
        "print(len(test_labels))"
      ],
      "execution_count": 0,
      "outputs": []
    },
    {
      "cell_type": "code",
      "metadata": {
        "id": "kvF8zWgBLmBq",
        "colab_type": "code",
        "colab": {}
      },
      "source": [
        "import matplotlib.pyplot as plt \n",
        "\n",
        "plt.imshow(train_images[0], cmap='gray')\n",
        "plt.show()"
      ],
      "execution_count": 0,
      "outputs": []
    },
    {
      "cell_type": "code",
      "metadata": {
        "id": "EU9PF8llL0v2",
        "colab_type": "code",
        "colab": {}
      },
      "source": [
        "# Phase 3: ========= Build neural network ================"
      ],
      "execution_count": 0,
      "outputs": []
    },
    {
      "cell_type": "code",
      "metadata": {
        "id": "JrxCuVxVMIvo",
        "colab_type": "code",
        "colab": {}
      },
      "source": [
        "from keras import models\n",
        "from keras import layers\n",
        "\n",
        "network = models.Sequential()\n",
        "network.add(layers.Dense(512, activation='relu', input_shape=(28*28,)))\n",
        "network.add(layers.Dense(10, activation='softmax'))\n",
        "\n",
        "network.compile(optimizer='rmsprop',\n",
        "               loss='categorical_crossentropy',\n",
        "               metrics=['accuracy'])"
      ],
      "execution_count": 0,
      "outputs": []
    },
    {
      "cell_type": "code",
      "metadata": {
        "id": "j54jezj1NPBZ",
        "colab_type": "code",
        "colab": {}
      },
      "source": [
        "network.summary()"
      ],
      "execution_count": 0,
      "outputs": []
    },
    {
      "cell_type": "code",
      "metadata": {
        "id": "SjBS30hBMNg_",
        "colab_type": "code",
        "colab": {}
      },
      "source": [
        "# Phase 4: ========== Process data =============="
      ],
      "execution_count": 0,
      "outputs": []
    },
    {
      "cell_type": "code",
      "metadata": {
        "id": "o9bE2-LTNcpv",
        "colab_type": "code",
        "colab": {}
      },
      "source": [
        "train_image_reshaped = train_images.reshape(60000, 28*28)\n",
        "train_image_scaled = train_image_reshaped.astype('float32')/255\n",
        "\n",
        "test_image_reshaped = test_images.reshape(10000, 28*28)\n",
        "test_image_scaled = test_image_reshaped.astype('float32')/255\n",
        "\n",
        "\n"
      ],
      "execution_count": 0,
      "outputs": []
    },
    {
      "cell_type": "code",
      "metadata": {
        "id": "sef5XfHJOAie",
        "colab_type": "code",
        "colab": {}
      },
      "source": [
        "from keras.utils import to_categorical\n",
        "train_labels_cate = to_categorical(train_labels, num_classes=10)\n",
        "test_labels_cate = to_categorical(test_labels, num_classes=10)\n"
      ],
      "execution_count": 0,
      "outputs": []
    },
    {
      "cell_type": "code",
      "metadata": {
        "id": "bHX5pSnNOZeW",
        "colab_type": "code",
        "colab": {}
      },
      "source": [
        "# Phase 5: =============== Training ==============="
      ],
      "execution_count": 0,
      "outputs": []
    },
    {
      "cell_type": "code",
      "metadata": {
        "id": "Tw7p19OTOvhX",
        "colab_type": "code",
        "colab": {}
      },
      "source": [
        "network.fit(train_image_scaled, train_labels_cate, epochs=5, batch_size=256)"
      ],
      "execution_count": 0,
      "outputs": []
    },
    {
      "cell_type": "code",
      "metadata": {
        "id": "uu39Q-LrO6T2",
        "colab_type": "code",
        "colab": {}
      },
      "source": [
        "# Phase 6: =============== Evaluation ==============="
      ],
      "execution_count": 0,
      "outputs": []
    },
    {
      "cell_type": "code",
      "metadata": {
        "id": "4wd7RL1TPBYa",
        "colab_type": "code",
        "colab": {}
      },
      "source": [
        "network.evaluate(test_image_scaled, test_labels_cate)"
      ],
      "execution_count": 0,
      "outputs": []
    },
    {
      "cell_type": "code",
      "metadata": {
        "id": "9QAptvT6PHe2",
        "colab_type": "code",
        "colab": {}
      },
      "source": [
        "# Phase 7: =============== Inference ================"
      ],
      "execution_count": 0,
      "outputs": []
    },
    {
      "cell_type": "code",
      "metadata": {
        "id": "1PYWdyKePUuq",
        "colab_type": "code",
        "colab": {}
      },
      "source": [
        "plt.imshow(test_images[20])\n",
        "plt.show()"
      ],
      "execution_count": 0,
      "outputs": []
    },
    {
      "cell_type": "code",
      "metadata": {
        "id": "XoJLWj8EPbMd",
        "colab_type": "code",
        "colab": {}
      },
      "source": [
        "import numpy as np"
      ],
      "execution_count": 0,
      "outputs": []
    },
    {
      "cell_type": "code",
      "metadata": {
        "id": "AB5_Aq4gPj6e",
        "colab_type": "code",
        "colab": {}
      },
      "source": [
        "predict_image = test_image_reshaped[20].reshape(1, 28 * 28)"
      ],
      "execution_count": 0,
      "outputs": []
    },
    {
      "cell_type": "code",
      "metadata": {
        "id": "uG7x_9HIP_eK",
        "colab_type": "code",
        "colab": {}
      },
      "source": [
        "result = network.predict(predict_image)"
      ],
      "execution_count": 0,
      "outputs": []
    },
    {
      "cell_type": "code",
      "metadata": {
        "id": "QN0jwGHhQEq-",
        "colab_type": "code",
        "colab": {}
      },
      "source": [
        "print(np.argmax(result[0]))"
      ],
      "execution_count": 0,
      "outputs": []
    },
    {
      "cell_type": "code",
      "metadata": {
        "id": "q5FiW4E1QUmD",
        "colab_type": "code",
        "colab": {}
      },
      "source": [
        ""
      ],
      "execution_count": 0,
      "outputs": []
    }
  ]
}