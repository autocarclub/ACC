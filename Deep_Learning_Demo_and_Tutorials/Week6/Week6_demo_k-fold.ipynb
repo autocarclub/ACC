{
 "cells": [
  {
   "cell_type": "code",
   "execution_count": 1,
   "metadata": {},
   "outputs": [
    {
     "name": "stdout",
     "output_type": "stream",
     "text": [
      "Requirement already satisfied: numpy==1.16.1 in /home/viettq/anaconda3/lib/python3.6/site-packages\n",
      "\u001b[33mYou are using pip version 9.0.1, however version 19.1.1 is available.\n",
      "You should consider upgrading via the 'pip install --upgrade pip' command.\u001b[0m\n"
     ]
    }
   ],
   "source": [
    "!pip install numpy==1.16.1"
   ]
  },
  {
   "cell_type": "code",
   "execution_count": 2,
   "metadata": {},
   "outputs": [
    {
     "name": "stderr",
     "output_type": "stream",
     "text": [
      "/home/viettq/anaconda3/lib/python3.6/site-packages/h5py/__init__.py:34: FutureWarning: Conversion of the second argument of issubdtype from `float` to `np.floating` is deprecated. In future, it will be treated as `np.float64 == np.dtype(float).type`.\n",
      "  from ._conv import register_converters as _register_converters\n",
      "Using TensorFlow backend.\n"
     ]
    }
   ],
   "source": [
    "import keras\n",
    "from keras.datasets import imdb\n",
    "import numpy as np\n",
    "import matplotlib as plt\n"
   ]
  },
  {
   "cell_type": "code",
   "execution_count": 3,
   "metadata": {},
   "outputs": [],
   "source": [
    "(train_data, train_labels),(test_data, test_labels) = imdb.load_data(num_words=10000)"
   ]
  },
  {
   "cell_type": "code",
   "execution_count": 5,
   "metadata": {},
   "outputs": [
    {
     "name": "stdout",
     "output_type": "stream",
     "text": [
      "(25000,)\n",
      "(25000,)\n"
     ]
    }
   ],
   "source": [
    "print(train_data.shape)\n",
    "print(train_labels.shape)"
   ]
  },
  {
   "cell_type": "code",
   "execution_count": 6,
   "metadata": {
    "collapsed": true
   },
   "outputs": [],
   "source": [
    "# EDA\n",
    "def vectorize_sequences(sequences , dim = 10000):\n",
    "    results = np.zeros((len(sequences), dim))\n",
    "    for i,sequence in enumerate(sequences):\n",
    "        results[i, sequence] = 1.\n",
    "    return results"
   ]
  },
  {
   "cell_type": "code",
   "execution_count": 7,
   "metadata": {
    "collapsed": true
   },
   "outputs": [],
   "source": [
    "x_train = vectorize_sequences(train_data)\n",
    "x_test = vectorize_sequences(test_data)\n",
    "\n"
   ]
  },
  {
   "cell_type": "code",
   "execution_count": 23,
   "metadata": {},
   "outputs": [],
   "source": [
    "#Architect\n",
    "from keras import models\n",
    "from keras import layers\n",
    "\n",
    "def net_model(x_train, x_labels, y_test, y_labels):\n",
    "    model = models.Sequential()\n",
    "    model.add(layers.Dense(16, activation = 'relu', input_shape = (10000,)))\n",
    "    model.add(layers.Dense(16, activation='relu'))\n",
    "    model.add(layers.Dense(1, activation='sigmoid'))\n",
    "    \n",
    "    model.compile(optimizer='rmsprop',\n",
    "                  loss = 'binary_crossentropy',\n",
    "                  metrics = ['acc'])\n",
    "    \n",
    "    model.fit(x_train,\n",
    "              x_labels,\n",
    "              epochs = 5,\n",
    "              batch_size = 32,\n",
    "              validation_data = (y_test, y_labels)\n",
    "              )\n",
    "    \n",
    "    \n",
    "    return model"
   ]
  },
  {
   "cell_type": "code",
   "execution_count": 24,
   "metadata": {},
   "outputs": [
    {
     "name": "stdout",
     "output_type": "stream",
     "text": [
      "Train on 18750 samples, validate on 6250 samples\n",
      "Epoch 1/5\n",
      "18750/18750 [==============================] - 10s 507us/step - loss: 0.3305 - acc: 0.8654 - val_loss: 0.2690 - val_acc: 0.8944\n",
      "Epoch 2/5\n",
      "18750/18750 [==============================] - 5s 269us/step - loss: 0.2057 - acc: 0.9226 - val_loss: 0.3081 - val_acc: 0.8827\n",
      "Epoch 3/5\n",
      "18750/18750 [==============================] - 5s 270us/step - loss: 0.1677 - acc: 0.9375 - val_loss: 0.3032 - val_acc: 0.8901\n",
      "Epoch 4/5\n",
      "18750/18750 [==============================] - 5s 272us/step - loss: 0.1442 - acc: 0.9466 - val_loss: 0.3225 - val_acc: 0.8890\n",
      "Epoch 5/5\n",
      "18750/18750 [==============================] - 5s 277us/step - loss: 0.1258 - acc: 0.9545 - val_loss: 0.3579 - val_acc: 0.8826\n",
      "25000/25000 [==============================] - 16s 630us/step\n",
      "Train on 18750 samples, validate on 6250 samples\n",
      "Epoch 1/5\n",
      "18750/18750 [==============================] - 8s 447us/step - loss: 0.3326 - acc: 0.8649 - val_loss: 0.2843 - val_acc: 0.8862\n",
      "Epoch 2/5\n",
      "18750/18750 [==============================] - 6s 303us/step - loss: 0.2073 - acc: 0.9209 - val_loss: 0.2880 - val_acc: 0.8914\n",
      "Epoch 3/5\n",
      "18750/18750 [==============================] - 5s 280us/step - loss: 0.1677 - acc: 0.9384 - val_loss: 0.3072 - val_acc: 0.8901\n",
      "Epoch 4/5\n",
      "18750/18750 [==============================] - 5s 281us/step - loss: 0.1393 - acc: 0.9495 - val_loss: 0.3318 - val_acc: 0.8882\n",
      "Epoch 5/5\n",
      "18750/18750 [==============================] - 5s 290us/step - loss: 0.1188 - acc: 0.9589 - val_loss: 0.3668 - val_acc: 0.8850\n",
      "25000/25000 [==============================] - 14s 570us/step\n",
      "Train on 18750 samples, validate on 6250 samples\n",
      "Epoch 1/5\n",
      "18750/18750 [==============================] - 12s 618us/step - loss: 0.3405 - acc: 0.8597 - val_loss: 0.2761 - val_acc: 0.8910\n",
      "Epoch 2/5\n",
      "18750/18750 [==============================] - 6s 297us/step - loss: 0.2054 - acc: 0.9218 - val_loss: 0.2981 - val_acc: 0.8923\n",
      "Epoch 3/5\n",
      "18750/18750 [==============================] - 6s 300us/step - loss: 0.1672 - acc: 0.9394 - val_loss: 0.3038 - val_acc: 0.8864\n",
      "Epoch 4/5\n",
      "18750/18750 [==============================] - 6s 310us/step - loss: 0.1413 - acc: 0.9485 - val_loss: 0.3452 - val_acc: 0.8872\n",
      "Epoch 5/5\n",
      "18750/18750 [==============================] - 6s 316us/step - loss: 0.1224 - acc: 0.9569 - val_loss: 0.3735 - val_acc: 0.8774\n",
      "25000/25000 [==============================] - 12s 491us/step\n",
      "Train on 18750 samples, validate on 6250 samples\n",
      "Epoch 1/5\n",
      "18750/18750 [==============================] - 14s 745us/step - loss: 0.3358 - acc: 0.8640 - val_loss: 0.2698 - val_acc: 0.8942\n",
      "Epoch 2/5\n",
      "18750/18750 [==============================] - 5s 285us/step - loss: 0.2051 - acc: 0.9195 - val_loss: 0.3129 - val_acc: 0.8808\n",
      "Epoch 3/5\n",
      "18750/18750 [==============================] - 5s 282us/step - loss: 0.1677 - acc: 0.9359 - val_loss: 0.3238 - val_acc: 0.8829\n",
      "Epoch 4/5\n",
      "18750/18750 [==============================] - 5s 283us/step - loss: 0.1391 - acc: 0.9509 - val_loss: 0.3402 - val_acc: 0.8842\n",
      "Epoch 5/5\n",
      "18750/18750 [==============================] - 5s 285us/step - loss: 0.1193 - acc: 0.9576 - val_loss: 0.3888 - val_acc: 0.8771\n",
      "25000/25000 [==============================] - 14s 560us/step\n"
     ]
    }
   ],
   "source": [
    "#k-fold\n",
    "fold = 4\n",
    "k = len(x_train)//fold\n",
    "validation_scores = []\n",
    "for i in range(fold):\n",
    "    x_val = x_train[i*k:k*(i+1)]\n",
    "    y_val = train_labels[i*k:k*(i+1)]\n",
    "    \n",
    "    x_val_pratial = np.concatenate([x_train[:i*k], x_train[k*(i+1):]]) \n",
    "    y_val_pratial = np.concatenate([train_labels[:i*k], train_labels[k*(i+1):]]) \n",
    "    network = net_model(x_val_pratial,y_val_pratial,x_val,y_val)\n",
    "    validation_score = network.evaluate(x_test,test_labels)\n",
    "    validation_scores.append(validation_score)"
   ]
  },
  {
   "cell_type": "code",
   "execution_count": 25,
   "metadata": {},
   "outputs": [
    {
     "data": {
      "text/plain": [
       "[[0.40579821220874784, 0.865],\n",
       " [0.41164810635089877, 0.87032],\n",
       " [0.40816759532928465, 0.86712],\n",
       " [0.4473195570421219, 0.86344]]"
      ]
     },
     "execution_count": 25,
     "metadata": {},
     "output_type": "execute_result"
    }
   ],
   "source": [
    "validation_scores"
   ]
  },
  {
   "cell_type": "code",
   "execution_count": null,
   "metadata": {
    "collapsed": true
   },
   "outputs": [],
   "source": []
  }
 ],
 "metadata": {
  "kernelspec": {
   "display_name": "Python 3",
   "language": "python",
   "name": "python3"
  },
  "language_info": {
   "codemirror_mode": {
    "name": "ipython",
    "version": 3
   },
   "file_extension": ".py",
   "mimetype": "text/x-python",
   "name": "python",
   "nbconvert_exporter": "python",
   "pygments_lexer": "ipython3",
   "version": "3.6.3"
  }
 },
 "nbformat": 4,
 "nbformat_minor": 2
}
