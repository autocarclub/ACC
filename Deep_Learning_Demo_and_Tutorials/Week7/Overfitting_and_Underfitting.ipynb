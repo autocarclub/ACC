{
  "nbformat": 4,
  "nbformat_minor": 0,
  "metadata": {
    "colab": {
      "name": "Overfitting and Underfitting.ipynb",
      "version": "0.3.2",
      "provenance": []
    },
    "kernelspec": {
      "name": "python3",
      "display_name": "Python 3"
    },
    "accelerator": "GPU"
  },
  "cells": [
    {
      "cell_type": "code",
      "metadata": {
        "id": "fDpgFI9JX9PQ",
        "colab_type": "code",
        "outputId": "4baaf9ba-5f2f-406d-dd2f-513907b61173",
        "colab": {
          "base_uri": "https://localhost:8080/",
          "height": 292
        }
      },
      "source": [
        "!pip install numpy==1.16.1"
      ],
      "execution_count": 0,
      "outputs": [
        {
          "output_type": "stream",
          "text": [
            "Collecting numpy==1.16.1\n",
            "\u001b[?25l  Downloading https://files.pythonhosted.org/packages/f5/bf/4981bcbee43934f0adb8f764a1e70ab0ee5a448f6505bd04a87a2fda2a8b/numpy-1.16.1-cp36-cp36m-manylinux1_x86_64.whl (17.3MB)\n",
            "\u001b[K     |████████████████████████████████| 17.3MB 3.4MB/s \n",
            "\u001b[31mERROR: datascience 0.10.6 has requirement folium==0.2.1, but you'll have folium 0.8.3 which is incompatible.\u001b[0m\n",
            "\u001b[31mERROR: albumentations 0.1.12 has requirement imgaug<0.2.7,>=0.2.5, but you'll have imgaug 0.2.9 which is incompatible.\u001b[0m\n",
            "\u001b[?25hInstalling collected packages: numpy\n",
            "  Found existing installation: numpy 1.16.4\n",
            "    Uninstalling numpy-1.16.4:\n",
            "      Successfully uninstalled numpy-1.16.4\n",
            "Successfully installed numpy-1.16.1\n"
          ],
          "name": "stdout"
        },
        {
          "output_type": "display_data",
          "data": {
            "application/vnd.colab-display-data+json": {
              "pip_warning": {
                "packages": [
                  "numpy"
                ]
              }
            }
          },
          "metadata": {
            "tags": []
          }
        }
      ]
    },
    {
      "cell_type": "markdown",
      "metadata": {
        "id": "f2pgB06Vmfw4",
        "colab_type": "text"
      },
      "source": [
        "# Load data"
      ]
    },
    {
      "cell_type": "code",
      "metadata": {
        "id": "GbljVnBEYc66",
        "colab_type": "code",
        "outputId": "b7f3ba0b-c2d9-429e-cdef-c01c32840599",
        "colab": {
          "base_uri": "https://localhost:8080/",
          "height": 34
        }
      },
      "source": [
        "from keras.datasets import imdb\n"
      ],
      "execution_count": 0,
      "outputs": [
        {
          "output_type": "stream",
          "text": [
            "Using TensorFlow backend.\n"
          ],
          "name": "stderr"
        }
      ]
    },
    {
      "cell_type": "code",
      "metadata": {
        "id": "AJR9RpTWYfgi",
        "colab_type": "code",
        "outputId": "f22d9b02-0db7-43b1-c1e3-faef7c5fc4b6",
        "colab": {
          "base_uri": "https://localhost:8080/",
          "height": 51
        }
      },
      "source": [
        "(x_train, y_train), (x_test, y_test) = imdb.load_data(num_words=10000)"
      ],
      "execution_count": 0,
      "outputs": [
        {
          "output_type": "stream",
          "text": [
            "Downloading data from https://s3.amazonaws.com/text-datasets/imdb.npz\n",
            "17465344/17464789 [==============================] - 0s 0us/step\n"
          ],
          "name": "stdout"
        }
      ]
    },
    {
      "cell_type": "code",
      "metadata": {
        "id": "nnn1gqzbYjJa",
        "colab_type": "code",
        "colab": {}
      },
      "source": [
        "import numpy as np"
      ],
      "execution_count": 0,
      "outputs": []
    },
    {
      "cell_type": "code",
      "metadata": {
        "id": "QVvzAPhkYkFD",
        "colab_type": "code",
        "colab": {}
      },
      "source": [
        "def one_hot_encode(sequences, dimension=10000):\n",
        "  results = np.zeros((len(sequences), dimension))\n",
        "  for i, sequence in enumerate(sequences):\n",
        "    results[i, sequence] = 1\n",
        "  return results"
      ],
      "execution_count": 0,
      "outputs": []
    },
    {
      "cell_type": "code",
      "metadata": {
        "id": "N-6BE-LpYlqV",
        "colab_type": "code",
        "colab": {}
      },
      "source": [
        "X_train = one_hot_encode(x_train)\n",
        "X_test = one_hot_encode(x_test)"
      ],
      "execution_count": 0,
      "outputs": []
    },
    {
      "cell_type": "code",
      "metadata": {
        "id": "1ci9yabvYnUC",
        "colab_type": "code",
        "colab": {}
      },
      "source": [
        "X_val = X_train[:10000]\n",
        "partial_x_train = X_train[10000:]"
      ],
      "execution_count": 0,
      "outputs": []
    },
    {
      "cell_type": "code",
      "metadata": {
        "id": "ji9wtVIGYwtH",
        "colab_type": "code",
        "colab": {}
      },
      "source": [
        "Y_train = np.array(y_train).astype('float32')\n",
        "Y_test = np.array(y_test).astype('float32')"
      ],
      "execution_count": 0,
      "outputs": []
    },
    {
      "cell_type": "code",
      "metadata": {
        "id": "e9-Vb6VAY0Fd",
        "colab_type": "code",
        "colab": {}
      },
      "source": [
        "Y_val = Y_train[:10000]\n",
        "partial_y_train = Y_train[10000:]"
      ],
      "execution_count": 0,
      "outputs": []
    },
    {
      "cell_type": "code",
      "metadata": {
        "id": "axswc-JfY4lX",
        "colab_type": "code",
        "colab": {}
      },
      "source": [
        "from keras import models, layers"
      ],
      "execution_count": 0,
      "outputs": []
    },
    {
      "cell_type": "code",
      "metadata": {
        "id": "tBbQFrvyala6",
        "colab_type": "code",
        "colab": {}
      },
      "source": [
        "import matplotlib.pyplot as plt\n",
        "def plot_compare_loss(oldLoss, newLoss):\n",
        "  epochs = range(1, 21)\n",
        "  plt.plot(epochs, oldLoss, 'b+', label='Original Model')\n",
        "  plt.plot(epochs, newLoss, 'bo', label='New Model')\n",
        "  plt.xlabel('Epochs')\n",
        "  plt.ylabel('Validation Loss')\n",
        "  plt.legend()\n",
        "  plt.show()"
      ],
      "execution_count": 0,
      "outputs": []
    },
    {
      "cell_type": "markdown",
      "metadata": {
        "id": "Ek5DLLyfmlwB",
        "colab_type": "text"
      },
      "source": [
        "# Original Model"
      ]
    },
    {
      "cell_type": "code",
      "metadata": {
        "id": "lCkg1im6Y-Z1",
        "colab_type": "code",
        "outputId": "501ecc80-1bda-4f26-c0da-3ec4a554669e",
        "colab": {
          "base_uri": "https://localhost:8080/",
          "height": 1000
        }
      },
      "source": [
        "model = models.Sequential()\n",
        "model.add(layers.Dense(16, activation='relu', input_shape=(10000,)))\n",
        "model.add(layers.Dense(16, activation='relu'))\n",
        "model.add(layers.Dense(1, activation='sigmoid'))\n",
        "\n",
        "model.compile(optimizer='rmsprop', loss='binary_crossentropy', metrics=['acc'])\n",
        "\n",
        "history = model.fit(partial_x_train, partial_y_train, epochs=20, batch_size=512, validation_data=(X_val, Y_val))\n",
        "history_dict = history.history"
      ],
      "execution_count": 0,
      "outputs": [
        {
          "output_type": "stream",
          "text": [
            "WARNING: Logging before flag parsing goes to stderr.\n",
            "W0625 13:28:28.746228 139678988101504 deprecation_wrapper.py:119] From /usr/local/lib/python3.6/dist-packages/keras/backend/tensorflow_backend.py:74: The name tf.get_default_graph is deprecated. Please use tf.compat.v1.get_default_graph instead.\n",
            "\n",
            "W0625 13:28:28.788313 139678988101504 deprecation_wrapper.py:119] From /usr/local/lib/python3.6/dist-packages/keras/backend/tensorflow_backend.py:517: The name tf.placeholder is deprecated. Please use tf.compat.v1.placeholder instead.\n",
            "\n",
            "W0625 13:28:28.793771 139678988101504 deprecation_wrapper.py:119] From /usr/local/lib/python3.6/dist-packages/keras/backend/tensorflow_backend.py:4138: The name tf.random_uniform is deprecated. Please use tf.random.uniform instead.\n",
            "\n",
            "W0625 13:28:28.847387 139678988101504 deprecation_wrapper.py:119] From /usr/local/lib/python3.6/dist-packages/keras/optimizers.py:790: The name tf.train.Optimizer is deprecated. Please use tf.compat.v1.train.Optimizer instead.\n",
            "\n",
            "W0625 13:28:28.865283 139678988101504 deprecation_wrapper.py:119] From /usr/local/lib/python3.6/dist-packages/keras/backend/tensorflow_backend.py:3376: The name tf.log is deprecated. Please use tf.math.log instead.\n",
            "\n",
            "W0625 13:28:28.871408 139678988101504 deprecation.py:323] From /usr/local/lib/python3.6/dist-packages/tensorflow/python/ops/nn_impl.py:180: add_dispatch_support.<locals>.wrapper (from tensorflow.python.ops.array_ops) is deprecated and will be removed in a future version.\n",
            "Instructions for updating:\n",
            "Use tf.where in 2.0, which has the same broadcast rule as np.where\n",
            "W0625 13:28:29.078496 139678988101504 deprecation_wrapper.py:119] From /usr/local/lib/python3.6/dist-packages/keras/backend/tensorflow_backend.py:986: The name tf.assign_add is deprecated. Please use tf.compat.v1.assign_add instead.\n",
            "\n"
          ],
          "name": "stderr"
        },
        {
          "output_type": "stream",
          "text": [
            "Train on 15000 samples, validate on 10000 samples\n",
            "Epoch 1/20\n",
            "15000/15000 [==============================] - 5s 353us/step - loss: 0.5084 - acc: 0.7813 - val_loss: 0.3797 - val_acc: 0.8684\n",
            "Epoch 2/20\n",
            "15000/15000 [==============================] - 2s 101us/step - loss: 0.3004 - acc: 0.9047 - val_loss: 0.3004 - val_acc: 0.8897\n",
            "Epoch 3/20\n",
            "15000/15000 [==============================] - 1s 93us/step - loss: 0.2179 - acc: 0.9285 - val_loss: 0.3085 - val_acc: 0.8711\n",
            "Epoch 4/20\n",
            "15000/15000 [==============================] - 1s 90us/step - loss: 0.1750 - acc: 0.9437 - val_loss: 0.2840 - val_acc: 0.8832\n",
            "Epoch 5/20\n",
            "15000/15000 [==============================] - 1s 89us/step - loss: 0.1427 - acc: 0.9543 - val_loss: 0.2841 - val_acc: 0.8872\n",
            "Epoch 6/20\n",
            "15000/15000 [==============================] - 1s 89us/step - loss: 0.1150 - acc: 0.9650 - val_loss: 0.3166 - val_acc: 0.8772\n",
            "Epoch 7/20\n",
            "15000/15000 [==============================] - 1s 89us/step - loss: 0.0980 - acc: 0.9705 - val_loss: 0.3127 - val_acc: 0.8846\n",
            "Epoch 8/20\n",
            "15000/15000 [==============================] - 1s 90us/step - loss: 0.0807 - acc: 0.9763 - val_loss: 0.3859 - val_acc: 0.8649\n",
            "Epoch 9/20\n",
            "15000/15000 [==============================] - 1s 88us/step - loss: 0.0661 - acc: 0.9821 - val_loss: 0.3635 - val_acc: 0.8782\n",
            "Epoch 10/20\n",
            "15000/15000 [==============================] - 1s 88us/step - loss: 0.0561 - acc: 0.9853 - val_loss: 0.3843 - val_acc: 0.8792\n",
            "Epoch 11/20\n",
            "15000/15000 [==============================] - 1s 88us/step - loss: 0.0439 - acc: 0.9893 - val_loss: 0.4153 - val_acc: 0.8779\n",
            "Epoch 12/20\n",
            "15000/15000 [==============================] - 1s 88us/step - loss: 0.0381 - acc: 0.9921 - val_loss: 0.4525 - val_acc: 0.8690\n",
            "Epoch 13/20\n",
            "15000/15000 [==============================] - 1s 89us/step - loss: 0.0300 - acc: 0.9928 - val_loss: 0.4698 - val_acc: 0.8729\n",
            "Epoch 14/20\n",
            "15000/15000 [==============================] - 1s 88us/step - loss: 0.0247 - acc: 0.9945 - val_loss: 0.5022 - val_acc: 0.8726\n",
            "Epoch 15/20\n",
            "15000/15000 [==============================] - 1s 89us/step - loss: 0.0175 - acc: 0.9979 - val_loss: 0.5341 - val_acc: 0.8693\n",
            "Epoch 16/20\n",
            "15000/15000 [==============================] - 1s 91us/step - loss: 0.0149 - acc: 0.9983 - val_loss: 0.5709 - val_acc: 0.8698\n",
            "Epoch 17/20\n",
            "15000/15000 [==============================] - 1s 89us/step - loss: 0.0151 - acc: 0.9971 - val_loss: 0.6024 - val_acc: 0.8697\n",
            "Epoch 18/20\n",
            "15000/15000 [==============================] - 1s 90us/step - loss: 0.0075 - acc: 0.9996 - val_loss: 0.6782 - val_acc: 0.8633\n",
            "Epoch 19/20\n",
            "15000/15000 [==============================] - 1s 90us/step - loss: 0.0117 - acc: 0.9975 - val_loss: 0.6692 - val_acc: 0.8674\n",
            "Epoch 20/20\n",
            "15000/15000 [==============================] - 1s 91us/step - loss: 0.0041 - acc: 0.9999 - val_loss: 0.6941 - val_acc: 0.8658\n"
          ],
          "name": "stdout"
        }
      ]
    },
    {
      "cell_type": "markdown",
      "metadata": {
        "id": "D8kwubbamqYq",
        "colab_type": "text"
      },
      "source": [
        "# Reducing network's size"
      ]
    },
    {
      "cell_type": "code",
      "metadata": {
        "id": "NUpxiPldZDYi",
        "colab_type": "code",
        "outputId": "7f6b2c18-7e69-4902-b64a-b2efd3cf6b32",
        "colab": {
          "base_uri": "https://localhost:8080/",
          "height": 714
        }
      },
      "source": [
        "model1 = models.Sequential()\n",
        "model1.add(layers.Dense(8, activation='relu', input_shape=(10000,)))\n",
        "model1.add(layers.Dense(8, activation='relu'))\n",
        "model1.add(layers.Dense(1, activation='sigmoid'))\n",
        "\n",
        "model1.compile(optimizer='rmsprop', loss='binary_crossentropy', metrics=['acc'])\n",
        "\n",
        "history1 = model1.fit(partial_x_train, partial_y_train, epochs=20, batch_size=512, validation_data=(X_val, Y_val))\n",
        "history_dict1 = history1.history"
      ],
      "execution_count": 0,
      "outputs": [
        {
          "output_type": "stream",
          "text": [
            "Train on 15000 samples, validate on 10000 samples\n",
            "Epoch 1/20\n",
            "15000/15000 [==============================] - 2s 120us/step - loss: 0.5729 - acc: 0.7927 - val_loss: 0.4772 - val_acc: 0.8403\n",
            "Epoch 2/20\n",
            "15000/15000 [==============================] - 1s 97us/step - loss: 0.3905 - acc: 0.8875 - val_loss: 0.3634 - val_acc: 0.8761\n",
            "Epoch 3/20\n",
            "15000/15000 [==============================] - 1s 89us/step - loss: 0.2940 - acc: 0.9097 - val_loss: 0.3111 - val_acc: 0.8873\n",
            "Epoch 4/20\n",
            "15000/15000 [==============================] - 1s 91us/step - loss: 0.2334 - acc: 0.9274 - val_loss: 0.3009 - val_acc: 0.8786\n",
            "Epoch 5/20\n",
            "15000/15000 [==============================] - 1s 91us/step - loss: 0.1938 - acc: 0.9375 - val_loss: 0.2742 - val_acc: 0.8904\n",
            "Epoch 6/20\n",
            "15000/15000 [==============================] - 1s 90us/step - loss: 0.1647 - acc: 0.9474 - val_loss: 0.2734 - val_acc: 0.8906\n",
            "Epoch 7/20\n",
            "15000/15000 [==============================] - 1s 90us/step - loss: 0.1416 - acc: 0.9552 - val_loss: 0.2795 - val_acc: 0.8888\n",
            "Epoch 8/20\n",
            "15000/15000 [==============================] - 1s 90us/step - loss: 0.1239 - acc: 0.9612 - val_loss: 0.2818 - val_acc: 0.8888\n",
            "Epoch 9/20\n",
            "15000/15000 [==============================] - 1s 90us/step - loss: 0.1067 - acc: 0.9688 - val_loss: 0.2946 - val_acc: 0.8866\n",
            "Epoch 10/20\n",
            "15000/15000 [==============================] - 1s 90us/step - loss: 0.0922 - acc: 0.9744 - val_loss: 0.3213 - val_acc: 0.8838\n",
            "Epoch 11/20\n",
            "15000/15000 [==============================] - 1s 88us/step - loss: 0.0813 - acc: 0.9777 - val_loss: 0.3212 - val_acc: 0.8844\n",
            "Epoch 12/20\n",
            "15000/15000 [==============================] - 1s 88us/step - loss: 0.0688 - acc: 0.9827 - val_loss: 0.3468 - val_acc: 0.8792\n",
            "Epoch 13/20\n",
            "15000/15000 [==============================] - 1s 90us/step - loss: 0.0603 - acc: 0.9854 - val_loss: 0.3593 - val_acc: 0.8794\n",
            "Epoch 14/20\n",
            "15000/15000 [==============================] - 1s 90us/step - loss: 0.0519 - acc: 0.9884 - val_loss: 0.3757 - val_acc: 0.8792\n",
            "Epoch 15/20\n",
            "15000/15000 [==============================] - 1s 89us/step - loss: 0.0446 - acc: 0.9899 - val_loss: 0.4051 - val_acc: 0.8801\n",
            "Epoch 16/20\n",
            "15000/15000 [==============================] - 1s 89us/step - loss: 0.0371 - acc: 0.9921 - val_loss: 0.4378 - val_acc: 0.8693\n",
            "Epoch 17/20\n",
            "15000/15000 [==============================] - 1s 90us/step - loss: 0.0318 - acc: 0.9941 - val_loss: 0.4474 - val_acc: 0.8751\n",
            "Epoch 18/20\n",
            "15000/15000 [==============================] - 1s 88us/step - loss: 0.0268 - acc: 0.9954 - val_loss: 0.4773 - val_acc: 0.8718\n",
            "Epoch 19/20\n",
            "15000/15000 [==============================] - 1s 89us/step - loss: 0.0218 - acc: 0.9967 - val_loss: 0.5022 - val_acc: 0.8726\n",
            "Epoch 20/20\n",
            "15000/15000 [==============================] - 1s 89us/step - loss: 0.0173 - acc: 0.9979 - val_loss: 0.5394 - val_acc: 0.8662\n"
          ],
          "name": "stdout"
        }
      ]
    },
    {
      "cell_type": "code",
      "metadata": {
        "id": "oZPpKyroZHmK",
        "colab_type": "code",
        "outputId": "3da5dfce-0422-4910-aec4-e5e9152b3bc0",
        "colab": {
          "base_uri": "https://localhost:8080/",
          "height": 283
        }
      },
      "source": [
        "oldLoss = history_dict['val_loss']\n",
        "newLoss = history_dict1['val_loss']\n",
        "plot_compare_loss(oldLoss, newLoss)"
      ],
      "execution_count": 0,
      "outputs": [
        {
          "output_type": "display_data",
          "data": {
            "image/png": "[encoded data removed]",
            "text/plain": [
              "<Figure size 432x288 with 1 Axes>"
            ]
          },
          "metadata": {
            "tags": []
          }
        }
      ]
    },
    {
      "cell_type": "code",
      "metadata": {
        "id": "mE9365HKbima",
        "colab_type": "code",
        "outputId": "20d45b31-dc16-4edf-a7c1-c01336a3d939",
        "colab": {
          "base_uri": "https://localhost:8080/",
          "height": 714
        }
      },
      "source": [
        "model2 = models.Sequential()\n",
        "model2.add(layers.Dense(512, activation='relu', input_shape=(10000,)))\n",
        "model2.add(layers.Dense(512, activation='relu'))\n",
        "model2.add(layers.Dense(1, activation='sigmoid'))\n",
        "\n",
        "model2.compile(optimizer='rmsprop', loss='binary_crossentropy', metrics=['acc'])\n",
        "\n",
        "history2 = model2.fit(partial_x_train, partial_y_train, epochs=20, batch_size=512, validation_data=(X_val, Y_val))\n",
        "history_dict2 = history2.history"
      ],
      "execution_count": 0,
      "outputs": [
        {
          "output_type": "stream",
          "text": [
            "Train on 15000 samples, validate on 10000 samples\n",
            "Epoch 1/20\n",
            "15000/15000 [==============================] - 2s 141us/step - loss: 0.5360 - acc: 0.7760 - val_loss: 0.2941 - val_acc: 0.8825\n",
            "Epoch 2/20\n",
            "15000/15000 [==============================] - 2s 107us/step - loss: 0.2677 - acc: 0.9007 - val_loss: 0.3113 - val_acc: 0.8656\n",
            "Epoch 3/20\n",
            "15000/15000 [==============================] - 2s 105us/step - loss: 0.1435 - acc: 0.9455 - val_loss: 0.4161 - val_acc: 0.8426\n",
            "Epoch 4/20\n",
            "15000/15000 [==============================] - 2s 106us/step - loss: 0.0938 - acc: 0.9691 - val_loss: 0.3630 - val_acc: 0.8891\n",
            "Epoch 5/20\n",
            "15000/15000 [==============================] - 2s 106us/step - loss: 0.0143 - acc: 0.9962 - val_loss: 3.2552 - val_acc: 0.6024\n",
            "Epoch 6/20\n",
            "15000/15000 [==============================] - 2s 105us/step - loss: 0.0779 - acc: 0.9863 - val_loss: 0.4558 - val_acc: 0.8858\n",
            "Epoch 7/20\n",
            "15000/15000 [==============================] - 2s 105us/step - loss: 7.1792e-04 - acc: 1.0000 - val_loss: 0.5551 - val_acc: 0.8858\n",
            "Epoch 8/20\n",
            "15000/15000 [==============================] - 2s 105us/step - loss: 1.0838e-04 - acc: 1.0000 - val_loss: 0.6438 - val_acc: 0.8854\n",
            "Epoch 9/20\n",
            "15000/15000 [==============================] - 2s 105us/step - loss: 2.1294e-05 - acc: 1.0000 - val_loss: 0.7220 - val_acc: 0.8853\n",
            "Epoch 10/20\n",
            "15000/15000 [==============================] - 2s 106us/step - loss: 4.7494e-06 - acc: 1.0000 - val_loss: 0.7694 - val_acc: 0.8864\n",
            "Epoch 11/20\n",
            "15000/15000 [==============================] - 2s 106us/step - loss: 1.3855e-06 - acc: 1.0000 - val_loss: 0.8181 - val_acc: 0.8862\n",
            "Epoch 12/20\n",
            "15000/15000 [==============================] - 2s 106us/step - loss: 4.9552e-07 - acc: 1.0000 - val_loss: 0.8616 - val_acc: 0.8853\n",
            "Epoch 13/20\n",
            "15000/15000 [==============================] - 2s 106us/step - loss: 2.2582e-07 - acc: 1.0000 - val_loss: 0.9022 - val_acc: 0.8858\n",
            "Epoch 14/20\n",
            "15000/15000 [==============================] - 2s 104us/step - loss: 1.5121e-07 - acc: 1.0000 - val_loss: 0.9273 - val_acc: 0.8855\n",
            "Epoch 15/20\n",
            "15000/15000 [==============================] - 2s 105us/step - loss: 1.2742e-07 - acc: 1.0000 - val_loss: 0.9414 - val_acc: 0.8856\n",
            "Epoch 16/20\n",
            "15000/15000 [==============================] - 2s 106us/step - loss: 1.1921e-07 - acc: 1.0000 - val_loss: 0.9511 - val_acc: 0.8856\n",
            "Epoch 17/20\n",
            "15000/15000 [==============================] - 2s 105us/step - loss: 1.1575e-07 - acc: 1.0000 - val_loss: 0.9582 - val_acc: 0.8855\n",
            "Epoch 18/20\n",
            "15000/15000 [==============================] - 2s 105us/step - loss: 1.1385e-07 - acc: 1.0000 - val_loss: 0.9648 - val_acc: 0.8857\n",
            "Epoch 19/20\n",
            "15000/15000 [==============================] - 2s 106us/step - loss: 1.1268e-07 - acc: 1.0000 - val_loss: 0.9693 - val_acc: 0.8856\n",
            "Epoch 20/20\n",
            "15000/15000 [==============================] - 2s 105us/step - loss: 1.1201e-07 - acc: 1.0000 - val_loss: 0.9737 - val_acc: 0.8857\n"
          ],
          "name": "stdout"
        }
      ]
    },
    {
      "cell_type": "code",
      "metadata": {
        "id": "5u9_J0kmduq9",
        "colab_type": "code",
        "outputId": "b153a7e6-e757-48bb-912a-fe31c2c4a44e",
        "colab": {
          "base_uri": "https://localhost:8080/",
          "height": 283
        }
      },
      "source": [
        "oldLoss = history_dict['val_loss']\n",
        "newLoss = history_dict2['val_loss']\n",
        "plot_compare_loss(oldLoss, newLoss)"
      ],
      "execution_count": 0,
      "outputs": [
        {
          "output_type": "display_data",
          "data": {
            "image/png": "[encoded data removed]",
            "text/plain": [
              "<Figure size 432x288 with 1 Axes>"
            ]
          },
          "metadata": {
            "tags": []
          }
        }
      ]
    },
    {
      "cell_type": "markdown",
      "metadata": {
        "id": "jeYGPkh0m4Tb",
        "colab_type": "text"
      },
      "source": [
        "# L2 Regularization"
      ]
    },
    {
      "cell_type": "code",
      "metadata": {
        "id": "oBjNHtLanjcK",
        "colab_type": "code",
        "colab": {}
      },
      "source": [
        "from keras import regularizers"
      ],
      "execution_count": 0,
      "outputs": []
    },
    {
      "cell_type": "code",
      "metadata": {
        "id": "BgpbziQne-3Y",
        "colab_type": "code",
        "outputId": "366750c5-9ce3-4822-8f7d-f6498958d040",
        "colab": {
          "base_uri": "https://localhost:8080/",
          "height": 714
        }
      },
      "source": [
        "model3 = models.Sequential()\n",
        "model3.add(layers.Dense(16, kernel_regularizer=regularizers.l2(0.001), activation='relu', input_shape=(10000,)))\n",
        "model3.add(layers.Dense(16, kernel_regularizer=regularizers.l2(0.001), activation='relu'))\n",
        "model3.add(layers.Dense(1, activation='sigmoid'))\n",
        "\n",
        "model3.compile(optimizer='rmsprop', loss='binary_crossentropy', metrics=['acc'])\n",
        "\n",
        "history3 = model3.fit(partial_x_train, partial_y_train, epochs=20, batch_size=512, validation_data=(X_val, Y_val))\n",
        "history_dict3 = history3.history"
      ],
      "execution_count": 0,
      "outputs": [
        {
          "output_type": "stream",
          "text": [
            "Train on 15000 samples, validate on 10000 samples\n",
            "Epoch 1/20\n",
            "15000/15000 [==============================] - 2s 124us/step - loss: 0.5700 - acc: 0.7876 - val_loss: 0.4846 - val_acc: 0.8243\n",
            "Epoch 2/20\n",
            "15000/15000 [==============================] - 2s 102us/step - loss: 0.3755 - acc: 0.8954 - val_loss: 0.3678 - val_acc: 0.8756\n",
            "Epoch 3/20\n",
            "15000/15000 [==============================] - 1s 95us/step - loss: 0.2948 - acc: 0.9184 - val_loss: 0.3354 - val_acc: 0.8882\n",
            "Epoch 4/20\n",
            "15000/15000 [==============================] - 1s 91us/step - loss: 0.2553 - acc: 0.9304 - val_loss: 0.3374 - val_acc: 0.8826\n",
            "Epoch 5/20\n",
            "15000/15000 [==============================] - 1s 92us/step - loss: 0.2337 - acc: 0.9399 - val_loss: 0.3418 - val_acc: 0.8823\n",
            "Epoch 6/20\n",
            "15000/15000 [==============================] - 1s 92us/step - loss: 0.2180 - acc: 0.9466 - val_loss: 0.3330 - val_acc: 0.8848\n",
            "Epoch 7/20\n",
            "15000/15000 [==============================] - 1s 92us/step - loss: 0.2031 - acc: 0.9526 - val_loss: 0.3396 - val_acc: 0.8857\n",
            "Epoch 8/20\n",
            "15000/15000 [==============================] - 1s 93us/step - loss: 0.1958 - acc: 0.9548 - val_loss: 0.3471 - val_acc: 0.8836\n",
            "Epoch 9/20\n",
            "15000/15000 [==============================] - 1s 91us/step - loss: 0.1888 - acc: 0.9581 - val_loss: 0.3553 - val_acc: 0.8834\n",
            "Epoch 10/20\n",
            "15000/15000 [==============================] - 1s 92us/step - loss: 0.1795 - acc: 0.9600 - val_loss: 0.3686 - val_acc: 0.8758\n",
            "Epoch 11/20\n",
            "15000/15000 [==============================] - 1s 91us/step - loss: 0.1729 - acc: 0.9655 - val_loss: 0.3794 - val_acc: 0.8813\n",
            "Epoch 12/20\n",
            "15000/15000 [==============================] - 1s 91us/step - loss: 0.1683 - acc: 0.9669 - val_loss: 0.3761 - val_acc: 0.8788\n",
            "Epoch 13/20\n",
            "15000/15000 [==============================] - 1s 91us/step - loss: 0.1650 - acc: 0.9664 - val_loss: 0.3919 - val_acc: 0.8740\n",
            "Epoch 14/20\n",
            "15000/15000 [==============================] - 1s 91us/step - loss: 0.1566 - acc: 0.9717 - val_loss: 0.3909 - val_acc: 0.8768\n",
            "Epoch 15/20\n",
            "15000/15000 [==============================] - 1s 93us/step - loss: 0.1573 - acc: 0.9697 - val_loss: 0.4025 - val_acc: 0.8728\n",
            "Epoch 16/20\n",
            "15000/15000 [==============================] - 1s 91us/step - loss: 0.1528 - acc: 0.9715 - val_loss: 0.4130 - val_acc: 0.8696\n",
            "Epoch 17/20\n",
            "15000/15000 [==============================] - 1s 90us/step - loss: 0.1469 - acc: 0.9746 - val_loss: 0.4596 - val_acc: 0.8636\n",
            "Epoch 18/20\n",
            "15000/15000 [==============================] - 1s 92us/step - loss: 0.1423 - acc: 0.9760 - val_loss: 0.4499 - val_acc: 0.8692\n",
            "Epoch 19/20\n",
            "15000/15000 [==============================] - 1s 92us/step - loss: 0.1436 - acc: 0.9761 - val_loss: 0.4271 - val_acc: 0.8697\n",
            "Epoch 20/20\n",
            "15000/15000 [==============================] - 1s 92us/step - loss: 0.1356 - acc: 0.9802 - val_loss: 0.4268 - val_acc: 0.8743\n"
          ],
          "name": "stdout"
        }
      ]
    },
    {
      "cell_type": "code",
      "metadata": {
        "id": "4qGgi_9xnWxk",
        "colab_type": "code",
        "outputId": "77efa5ac-6970-4294-fd5f-309e03c64110",
        "colab": {
          "base_uri": "https://localhost:8080/",
          "height": 283
        }
      },
      "source": [
        "oldLoss = history_dict['val_loss']\n",
        "newLoss = history_dict3['val_loss']\n",
        "plot_compare_loss(oldLoss, newLoss)"
      ],
      "execution_count": 0,
      "outputs": [
        {
          "output_type": "display_data",
          "data": {
            "image/png": "[encoded data removed]",
            "text/plain": [
              "<Figure size 432x288 with 1 Axes>"
            ]
          },
          "metadata": {
            "tags": []
          }
        }
      ]
    },
    {
      "cell_type": "markdown",
      "metadata": {
        "id": "eWew8X8ooLEu",
        "colab_type": "text"
      },
      "source": [
        "# Dropout"
      ]
    },
    {
      "cell_type": "code",
      "metadata": {
        "id": "kp56CVn7n65b",
        "colab_type": "code",
        "outputId": "2ce6ff61-a82b-404c-c238-cf8c9eb5b83f",
        "colab": {
          "base_uri": "https://localhost:8080/",
          "height": 785
        }
      },
      "source": [
        "model4 = models.Sequential()\n",
        "model4.add(layers.Dense(16, activation='relu', input_shape=(10000,)))\n",
        "model4.add(layers.Dropout(0.5))\n",
        "model4.add(layers.Dense(16, activation='relu'))\n",
        "model4.add(layers.Dropout(0.5))\n",
        "model4.add(layers.Dense(1, activation='sigmoid'))\n",
        "\n",
        "model4.compile(optimizer='rmsprop', loss='binary_crossentropy', metrics=['acc'])\n",
        "\n",
        "history4 = model4.fit(partial_x_train, partial_y_train, epochs=20, batch_size=512, validation_data=(X_val, Y_val))\n",
        "history_dict4 = history4.history"
      ],
      "execution_count": 0,
      "outputs": [
        {
          "output_type": "stream",
          "text": [
            "W0625 13:59:45.463710 139678988101504 deprecation.py:506] From /usr/local/lib/python3.6/dist-packages/keras/backend/tensorflow_backend.py:3445: calling dropout (from tensorflow.python.ops.nn_ops) with keep_prob is deprecated and will be removed in a future version.\n",
            "Instructions for updating:\n",
            "Please use `rate` instead of `keep_prob`. Rate should be set to `rate = 1 - keep_prob`.\n"
          ],
          "name": "stderr"
        },
        {
          "output_type": "stream",
          "text": [
            "Train on 15000 samples, validate on 10000 samples\n",
            "Epoch 1/20\n",
            "15000/15000 [==============================] - 2s 133us/step - loss: 0.6383 - acc: 0.6236 - val_loss: 0.5497 - val_acc: 0.8381\n",
            "Epoch 2/20\n",
            "15000/15000 [==============================] - 1s 99us/step - loss: 0.5392 - acc: 0.7463 - val_loss: 0.4584 - val_acc: 0.8383\n",
            "Epoch 3/20\n",
            "15000/15000 [==============================] - 1s 91us/step - loss: 0.4616 - acc: 0.8129 - val_loss: 0.4049 - val_acc: 0.8526\n",
            "Epoch 4/20\n",
            "15000/15000 [==============================] - 1s 92us/step - loss: 0.4007 - acc: 0.8477 - val_loss: 0.3372 - val_acc: 0.8834\n",
            "Epoch 5/20\n",
            "15000/15000 [==============================] - 1s 91us/step - loss: 0.3480 - acc: 0.8749 - val_loss: 0.3140 - val_acc: 0.8842\n",
            "Epoch 6/20\n",
            "15000/15000 [==============================] - 1s 93us/step - loss: 0.3063 - acc: 0.8989 - val_loss: 0.3048 - val_acc: 0.8868\n",
            "Epoch 7/20\n",
            "15000/15000 [==============================] - 1s 91us/step - loss: 0.2686 - acc: 0.9145 - val_loss: 0.3007 - val_acc: 0.8871\n",
            "Epoch 8/20\n",
            "15000/15000 [==============================] - 1s 93us/step - loss: 0.2446 - acc: 0.9274 - val_loss: 0.2937 - val_acc: 0.8831\n",
            "Epoch 9/20\n",
            "15000/15000 [==============================] - 1s 91us/step - loss: 0.2218 - acc: 0.9349 - val_loss: 0.3047 - val_acc: 0.8843\n",
            "Epoch 10/20\n",
            "15000/15000 [==============================] - 1s 91us/step - loss: 0.1960 - acc: 0.9439 - val_loss: 0.3337 - val_acc: 0.8876\n",
            "Epoch 11/20\n",
            "15000/15000 [==============================] - 1s 91us/step - loss: 0.1826 - acc: 0.9483 - val_loss: 0.3497 - val_acc: 0.8861\n",
            "Epoch 12/20\n",
            "15000/15000 [==============================] - 1s 92us/step - loss: 0.1734 - acc: 0.9513 - val_loss: 0.3417 - val_acc: 0.8776\n",
            "Epoch 13/20\n",
            "15000/15000 [==============================] - 1s 92us/step - loss: 0.1530 - acc: 0.9584 - val_loss: 0.3930 - val_acc: 0.8832\n",
            "Epoch 14/20\n",
            "15000/15000 [==============================] - 1s 91us/step - loss: 0.1408 - acc: 0.9639 - val_loss: 0.3711 - val_acc: 0.8799\n",
            "Epoch 15/20\n",
            "15000/15000 [==============================] - 1s 92us/step - loss: 0.1339 - acc: 0.9653 - val_loss: 0.4059 - val_acc: 0.8823\n",
            "Epoch 16/20\n",
            "15000/15000 [==============================] - 1s 91us/step - loss: 0.1238 - acc: 0.9703 - val_loss: 0.4155 - val_acc: 0.8794\n",
            "Epoch 17/20\n",
            "15000/15000 [==============================] - 1s 91us/step - loss: 0.1137 - acc: 0.9717 - val_loss: 0.5003 - val_acc: 0.8811\n",
            "Epoch 18/20\n",
            "15000/15000 [==============================] - 1s 92us/step - loss: 0.1124 - acc: 0.9727 - val_loss: 0.4664 - val_acc: 0.8832\n",
            "Epoch 19/20\n",
            "15000/15000 [==============================] - 1s 91us/step - loss: 0.1047 - acc: 0.9735 - val_loss: 0.4812 - val_acc: 0.8801\n",
            "Epoch 20/20\n",
            "15000/15000 [==============================] - 1s 92us/step - loss: 0.1039 - acc: 0.9756 - val_loss: 0.5312 - val_acc: 0.8817\n"
          ],
          "name": "stdout"
        }
      ]
    },
    {
      "cell_type": "code",
      "metadata": {
        "id": "CkipiXT0v_Je",
        "colab_type": "code",
        "outputId": "b55a3914-c30f-45e6-a619-955ccd8037a7",
        "colab": {
          "base_uri": "https://localhost:8080/",
          "height": 283
        }
      },
      "source": [
        "oldLoss = history_dict['val_loss']\n",
        "newLoss = history_dict4['val_loss']\n",
        "plot_compare_loss(oldLoss, newLoss)"
      ],
      "execution_count": 0,
      "outputs": [
        {
          "output_type": "display_data",
          "data": {
            "image/png": "[encoded data removed]",
            "text/plain": [
              "<Figure size 432x288 with 1 Axes>"
            ]
          },
          "metadata": {
            "tags": []
          }
        }
      ]
    },
    {
      "cell_type": "code",
      "metadata": {
        "id": "g8ERF_vLwH_H",
        "colab_type": "code",
        "colab": {}
      },
      "source": [
        ""
      ],
      "execution_count": 0,
      "outputs": []
    }
  ]
}