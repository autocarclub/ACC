{
  "nbformat": 4,
  "nbformat_minor": 0,
  "metadata": {
    "colab": {
      "name": "Homework_week5_bostonhouse.ipynb",
      "version": "0.3.2",
      "provenance": [],
      "collapsed_sections": []
    },
    "kernelspec": {
      "name": "python3",
      "display_name": "Python 3"
    },
    "accelerator": "GPU"
  },
  "cells": [
    {
      "cell_type": "markdown",
      "metadata": {
        "id": "e4OEYJYeVRjJ",
        "colab_type": "text"
      },
      "source": [
        "1. import lib"
      ]
    },
    {
      "cell_type": "code",
      "metadata": {
        "id": "SpytHd5LVDPP",
        "colab_type": "code",
        "colab": {}
      },
      "source": [
        "import numpy as np\n",
        "from keras.datasets import boston_housing"
      ],
      "execution_count": 0,
      "outputs": []
    },
    {
      "cell_type": "code",
      "metadata": {
        "id": "YWDOcUibVb_1",
        "colab_type": "code",
        "outputId": "162cb282-42f0-42f8-d448-74e936f66d5d",
        "colab": {
          "base_uri": "https://localhost:8080/",
          "height": 51
        }
      },
      "source": [
        "(train_data, train_labels),(test_data, test_labels) = boston_housing.load_data()\n",
        "print(train_data.shape)\n",
        "print(train_labels.shape)"
      ],
      "execution_count": 0,
      "outputs": [
        {
          "output_type": "stream",
          "text": [
            "(404, 13)\n",
            "(404,)\n"
          ],
          "name": "stdout"
        }
      ]
    },
    {
      "cell_type": "markdown",
      "metadata": {
        "id": "qLNLLNOgWeJr",
        "colab_type": "text"
      },
      "source": [
        "2.EDA\n"
      ]
    },
    {
      "cell_type": "code",
      "metadata": {
        "id": "EAqzJh3PV0lb",
        "colab_type": "code",
        "colab": {}
      },
      "source": [
        "mean = train_data.mean(axis = 0)\n",
        "train_data -= mean\n",
        "std = train_data.std(axis = 0)\n",
        "train_data /= std\n",
        "\n",
        "test_data -= mean\n",
        "test_data /=std"
      ],
      "execution_count": 0,
      "outputs": []
    },
    {
      "cell_type": "code",
      "metadata": {
        "id": "UUpvE1GAXKke",
        "colab_type": "code",
        "outputId": "9470bd5a-7b49-41e5-b7cd-0261c2f81311",
        "colab": {
          "base_uri": "https://localhost:8080/",
          "height": 85
        }
      },
      "source": [
        "print(mean)"
      ],
      "execution_count": 0,
      "outputs": [
        {
          "output_type": "stream",
          "text": [
            "[3.74511057e+00 1.14801980e+01 1.11044307e+01 6.18811881e-02\n",
            " 5.57355941e-01 6.26708168e+00 6.90106436e+01 3.74027079e+00\n",
            " 9.44059406e+00 4.05898515e+02 1.84759901e+01 3.54783168e+02\n",
            " 1.27408168e+01]\n"
          ],
          "name": "stdout"
        }
      ]
    },
    {
      "cell_type": "code",
      "metadata": {
        "id": "bIyHi2WSXOA3",
        "colab_type": "code",
        "colab": {}
      },
      "source": [
        "x_val = train_data[:100]\n",
        "y_val = train_labels[:100]\n",
        "\n",
        "x_val_partial = train_data[100:]\n",
        "y_val_partial = train_labels[100:]"
      ],
      "execution_count": 0,
      "outputs": []
    },
    {
      "cell_type": "markdown",
      "metadata": {
        "id": "Oq2RK3f_YJnO",
        "colab_type": "text"
      },
      "source": [
        "3. Architect "
      ]
    },
    {
      "cell_type": "code",
      "metadata": {
        "id": "9e14C96RYHQ4",
        "colab_type": "code",
        "colab": {}
      },
      "source": [
        "from keras import models\n",
        "from keras import layers\n",
        "model = models.Sequential()\n",
        "model.add(layers.Dense(64, activation='relu',input_shape=(13,)))\n",
        "model.add(layers.Dense(64, activation='relu'))\n",
        "model.add(layers.Dense(1))\n"
      ],
      "execution_count": 0,
      "outputs": []
    },
    {
      "cell_type": "markdown",
      "metadata": {
        "id": "X5ULqFyVZEWG",
        "colab_type": "text"
      },
      "source": [
        "4.compile"
      ]
    },
    {
      "cell_type": "code",
      "metadata": {
        "id": "qv_JVe5SYU_W",
        "colab_type": "code",
        "colab": {}
      },
      "source": [
        "model.compile(optimizer='rmsprop',\n",
        "             loss='mse',\n",
        "             metrics = ['mae'])"
      ],
      "execution_count": 0,
      "outputs": []
    },
    {
      "cell_type": "markdown",
      "metadata": {
        "id": "pFbgM6B5Zsht",
        "colab_type": "text"
      },
      "source": [
        "5.fit"
      ]
    },
    {
      "cell_type": "code",
      "metadata": {
        "id": "XssGq_twZnH6",
        "colab_type": "code",
        "outputId": "2c325015-6b57-4ee5-b23d-ff061f65a50f",
        "colab": {
          "base_uri": "https://localhost:8080/",
          "height": 734
        }
      },
      "source": [
        "network = model.fit(x_val_partial,\n",
        "                   y_val_partial,\n",
        "                   epochs = 20,\n",
        "                   batch_size = 20,\n",
        "                   validation_data =(x_val,y_val))"
      ],
      "execution_count": 0,
      "outputs": [
        {
          "output_type": "stream",
          "text": [
            "Train on 304 samples, validate on 100 samples\n",
            "Epoch 1/20\n",
            "304/304 [==============================] - 0s 1ms/step - loss: 542.6085 - mean_absolute_error: 21.3575 - val_loss: 448.7734 - val_mean_absolute_error: 18.7925\n",
            "Epoch 2/20\n",
            "304/304 [==============================] - 0s 183us/step - loss: 439.9540 - mean_absolute_error: 18.8378 - val_loss: 348.3422 - val_mean_absolute_error: 16.0353\n",
            "Epoch 3/20\n",
            "304/304 [==============================] - 0s 181us/step - loss: 329.3355 - mean_absolute_error: 15.7930 - val_loss: 230.3115 - val_mean_absolute_error: 12.5059\n",
            "Epoch 4/20\n",
            "304/304 [==============================] - 0s 185us/step - loss: 212.4410 - mean_absolute_error: 12.2426 - val_loss: 126.2852 - val_mean_absolute_error: 8.7747\n",
            "Epoch 5/20\n",
            "304/304 [==============================] - 0s 179us/step - loss: 120.4394 - mean_absolute_error: 8.6516 - val_loss: 71.7973 - val_mean_absolute_error: 6.3377\n",
            "Epoch 6/20\n",
            "304/304 [==============================] - 0s 182us/step - loss: 74.4181 - mean_absolute_error: 6.6328 - val_loss: 46.8763 - val_mean_absolute_error: 4.9172\n",
            "Epoch 7/20\n",
            "304/304 [==============================] - 0s 181us/step - loss: 51.2504 - mean_absolute_error: 5.4227 - val_loss: 37.9493 - val_mean_absolute_error: 4.3114\n",
            "Epoch 8/20\n",
            "304/304 [==============================] - 0s 189us/step - loss: 39.6113 - mean_absolute_error: 4.7562 - val_loss: 32.1204 - val_mean_absolute_error: 3.9233\n",
            "Epoch 9/20\n",
            "304/304 [==============================] - 0s 236us/step - loss: 32.2195 - mean_absolute_error: 4.2196 - val_loss: 26.7366 - val_mean_absolute_error: 3.3945\n",
            "Epoch 10/20\n",
            "304/304 [==============================] - 0s 174us/step - loss: 27.2757 - mean_absolute_error: 3.8489 - val_loss: 23.7883 - val_mean_absolute_error: 3.3044\n",
            "Epoch 11/20\n",
            "304/304 [==============================] - 0s 194us/step - loss: 24.0557 - mean_absolute_error: 3.6025 - val_loss: 20.6476 - val_mean_absolute_error: 2.9813\n",
            "Epoch 12/20\n",
            "304/304 [==============================] - 0s 183us/step - loss: 21.9326 - mean_absolute_error: 3.3994 - val_loss: 18.8281 - val_mean_absolute_error: 2.8762\n",
            "Epoch 13/20\n",
            "304/304 [==============================] - 0s 187us/step - loss: 20.0657 - mean_absolute_error: 3.2304 - val_loss: 17.1966 - val_mean_absolute_error: 2.7399\n",
            "Epoch 14/20\n",
            "304/304 [==============================] - 0s 181us/step - loss: 18.5930 - mean_absolute_error: 3.0813 - val_loss: 15.9668 - val_mean_absolute_error: 2.7086\n",
            "Epoch 15/20\n",
            "304/304 [==============================] - 0s 191us/step - loss: 17.7363 - mean_absolute_error: 2.9820 - val_loss: 16.1651 - val_mean_absolute_error: 2.7790\n",
            "Epoch 16/20\n",
            "304/304 [==============================] - 0s 182us/step - loss: 16.5638 - mean_absolute_error: 2.8760 - val_loss: 14.2814 - val_mean_absolute_error: 2.6290\n",
            "Epoch 17/20\n",
            "304/304 [==============================] - 0s 179us/step - loss: 15.9317 - mean_absolute_error: 2.8453 - val_loss: 13.6824 - val_mean_absolute_error: 2.6222\n",
            "Epoch 18/20\n",
            "304/304 [==============================] - 0s 182us/step - loss: 15.1705 - mean_absolute_error: 2.7445 - val_loss: 12.8706 - val_mean_absolute_error: 2.5625\n",
            "Epoch 19/20\n",
            "304/304 [==============================] - 0s 197us/step - loss: 14.6859 - mean_absolute_error: 2.7238 - val_loss: 12.2330 - val_mean_absolute_error: 2.4290\n",
            "Epoch 20/20\n",
            "304/304 [==============================] - 0s 179us/step - loss: 14.1567 - mean_absolute_error: 2.6475 - val_loss: 12.7062 - val_mean_absolute_error: 2.4943\n"
          ],
          "name": "stdout"
        }
      ]
    },
    {
      "cell_type": "markdown",
      "metadata": {
        "id": "6SXnMvZKahi_",
        "colab_type": "text"
      },
      "source": [
        "6. visualize "
      ]
    },
    {
      "cell_type": "code",
      "metadata": {
        "id": "ReSSiPULaRwg",
        "colab_type": "code",
        "outputId": "fa3d55cb-689c-4653-b369-53e98216b170",
        "colab": {
          "base_uri": "https://localhost:8080/",
          "height": 34
        }
      },
      "source": [
        "import matplotlib.pyplot as plt\n",
        "history_dict = network.history\n",
        "history_dict.keys()"
      ],
      "execution_count": 0,
      "outputs": [
        {
          "output_type": "execute_result",
          "data": {
            "text/plain": [
              "dict_keys(['val_loss', 'val_mean_absolute_error', 'loss', 'mean_absolute_error'])"
            ]
          },
          "metadata": {
            "tags": []
          },
          "execution_count": 79
        }
      ]
    },
    {
      "cell_type": "code",
      "metadata": {
        "id": "c5pg-dSca98f",
        "colab_type": "code",
        "colab": {}
      },
      "source": [
        "val_loss = history_dict['val_loss']\n",
        "val_mean_absolute_error = history_dict['val_mean_absolute_error']\n",
        "loss = history_dict['loss']\n",
        "mean_absolute_error = history_dict['mean_absolute_error']\n",
        "epochs = range(1, len(mean_absolute_error)+1)"
      ],
      "execution_count": 0,
      "outputs": []
    },
    {
      "cell_type": "code",
      "metadata": {
        "id": "HQpkqm0Dbe7t",
        "colab_type": "code",
        "outputId": "b8b8bd4e-18b8-43b0-8df6-77e62955ae80",
        "colab": {
          "base_uri": "https://localhost:8080/",
          "height": 295
        }
      },
      "source": [
        "plt.plot(epochs,loss,'bo', label ='loss')\n",
        "plt.plot(epochs,val_loss,'r', label ='val_loss')\n",
        "plt.title('Training and validation loss')\n",
        "plt.xlabel('epochs')\n",
        "plt.ylabel('loss')\n",
        "plt.legend()\n",
        "plt.show()"
      ],
      "execution_count": 0,
      "outputs": [
        {
          "output_type": "display_data",
          "data": {
            "image/png": "[encoded data removed]",
            "text/plain": [
              "<Figure size 432x288 with 1 Axes>"
            ]
          },
          "metadata": {
            "tags": []
          }
        }
      ]
    },
    {
      "cell_type": "code",
      "metadata": {
        "id": "BM-mjk0FcUCF",
        "colab_type": "code",
        "outputId": "8b7ca22e-1441-4451-deb8-9116fcee0ffd",
        "colab": {
          "base_uri": "https://localhost:8080/",
          "height": 295
        }
      },
      "source": [
        "plt.clf()\n",
        "plt.plot(epochs,mean_absolute_error,'bo', label ='mean_absolute_error')\n",
        "plt.plot(epochs,val_mean_absolute_error,'r', label ='val_mean_absolute_error')\n",
        "plt.title('Training and validation mean_absolute_error')\n",
        "plt.xlabel('epochs')\n",
        "plt.ylabel('mean_absolute_error')\n",
        "plt.legend()\n",
        "plt.show()"
      ],
      "execution_count": 0,
      "outputs": [
        {
          "output_type": "display_data",
          "data": {
            "image/png": "[encoded data removed]",
            "text/plain": [
              "<Figure size 432x288 with 1 Axes>"
            ]
          },
          "metadata": {
            "tags": []
          }
        }
      ]
    },
    {
      "cell_type": "code",
      "metadata": {
        "id": "NCoTEylNcvPH",
        "colab_type": "code",
        "outputId": "f563a875-2b1e-4b4a-b36c-e4d031d800f1",
        "colab": {
          "base_uri": "https://localhost:8080/",
          "height": 51
        }
      },
      "source": [
        "results = model.evaluate(test_data,test_labels)\n",
        "results"
      ],
      "execution_count": 0,
      "outputs": [
        {
          "output_type": "stream",
          "text": [
            "102/102 [==============================] - 0s 116us/step\n"
          ],
          "name": "stdout"
        },
        {
          "output_type": "execute_result",
          "data": {
            "text/plain": [
              "[22.587879854090072, 3.3373357267940746]"
            ]
          },
          "metadata": {
            "tags": []
          },
          "execution_count": 83
        }
      ]
    },
    {
      "cell_type": "code",
      "metadata": {
        "id": "elRxC8xPdrkE",
        "colab_type": "code",
        "outputId": "fab0c6c4-b4f2-456b-e9f9-b75ccf8735f6",
        "colab": {
          "base_uri": "https://localhost:8080/",
          "height": 1751
        }
      },
      "source": [
        "solution = model.predict_classes(test_data)\n",
        "print(solution)"
      ],
      "execution_count": 0,
      "outputs": [
        {
          "output_type": "stream",
          "text": [
            "[[1]\n",
            " [1]\n",
            " [1]\n",
            " [1]\n",
            " [1]\n",
            " [1]\n",
            " [1]\n",
            " [1]\n",
            " [1]\n",
            " [1]\n",
            " [1]\n",
            " [1]\n",
            " [1]\n",
            " [1]\n",
            " [1]\n",
            " [1]\n",
            " [1]\n",
            " [1]\n",
            " [1]\n",
            " [1]\n",
            " [1]\n",
            " [1]\n",
            " [1]\n",
            " [1]\n",
            " [1]\n",
            " [1]\n",
            " [1]\n",
            " [1]\n",
            " [1]\n",
            " [1]\n",
            " [1]\n",
            " [1]\n",
            " [1]\n",
            " [1]\n",
            " [1]\n",
            " [1]\n",
            " [1]\n",
            " [1]\n",
            " [1]\n",
            " [1]\n",
            " [1]\n",
            " [1]\n",
            " [1]\n",
            " [1]\n",
            " [1]\n",
            " [1]\n",
            " [1]\n",
            " [1]\n",
            " [1]\n",
            " [1]\n",
            " [1]\n",
            " [1]\n",
            " [1]\n",
            " [1]\n",
            " [1]\n",
            " [1]\n",
            " [1]\n",
            " [1]\n",
            " [1]\n",
            " [1]\n",
            " [1]\n",
            " [1]\n",
            " [1]\n",
            " [1]\n",
            " [1]\n",
            " [1]\n",
            " [1]\n",
            " [1]\n",
            " [1]\n",
            " [1]\n",
            " [1]\n",
            " [1]\n",
            " [1]\n",
            " [1]\n",
            " [1]\n",
            " [1]\n",
            " [1]\n",
            " [1]\n",
            " [1]\n",
            " [1]\n",
            " [1]\n",
            " [1]\n",
            " [1]\n",
            " [1]\n",
            " [1]\n",
            " [1]\n",
            " [1]\n",
            " [1]\n",
            " [1]\n",
            " [1]\n",
            " [1]\n",
            " [1]\n",
            " [1]\n",
            " [1]\n",
            " [1]\n",
            " [1]\n",
            " [1]\n",
            " [1]\n",
            " [1]\n",
            " [1]\n",
            " [1]\n",
            " [1]]\n"
          ],
          "name": "stdout"
        }
      ]
    },
    {
      "cell_type": "code",
      "metadata": {
        "id": "rcEPpMMieRH9",
        "colab_type": "code",
        "colab": {}
      },
      "source": [
        ""
      ],
      "execution_count": 0,
      "outputs": []
    }
  ]
}