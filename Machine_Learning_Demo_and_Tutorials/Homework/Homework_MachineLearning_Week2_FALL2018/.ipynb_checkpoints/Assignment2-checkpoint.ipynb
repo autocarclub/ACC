{
 "cells": [
  {
   "cell_type": "code",
   "execution_count": 4,
   "metadata": {
    "colab": {
     "autoexec": {
      "startup": false,
      "wait_interval": 0
     }
    },
    "colab_type": "code",
    "id": "UDUm2uygr23c"
   },
   "outputs": [],
   "source": [
    "import numpy as np\n",
    "import matplotlib.pyplot as plt\n"
   ]
  },
  {
   "cell_type": "markdown",
   "metadata": {},
   "source": [
    "# 1. Load data\n",
    "- We load data from text file into X and y, while X is training features and y is training label\n",
    "- X has shape (97,1), which means there are 97 training examples and each has only 1 feature\n",
    "- y has shape (97,1): 97 training label corresponding to X"
   ]
  },
  {
   "cell_type": "code",
   "execution_count": 6,
   "metadata": {
    "colab": {
     "autoexec": {
      "startup": false,
      "wait_interval": 0
     }
    },
    "colab_type": "code",
    "id": "q5jGPJc7tsU-"
   },
   "outputs": [
    {
     "name": "stdout",
     "output_type": "stream",
     "text": [
      "X shape:  (97, 1)\n",
      "y shape:  (97, 1)\n"
     ]
    }
   ],
   "source": [
    "#read data from txt\n",
    "mat = np.loadtxt('ex1data1.txt',delimiter=',')\n",
    "X = mat[:,0]\n",
    "y = mat[:,1]\n",
    "\n",
    "# m: number of training examples\n",
    "m = len(y)\n",
    "\n",
    "X = X.reshape(m,1)\n",
    "y = y.reshape(m,1)\n",
    "\n",
    "#initialize w\n",
    "w = np.zeros((2,1))\n",
    "\n",
    "print(\"X shape: \", X.shape)\n",
    "print(\"y shape: \", y.shape)"
   ]
  },
  {
   "cell_type": "code",
   "execution_count": 55,
   "metadata": {
    "colab": {
     "autoexec": {
      "startup": false,
      "wait_interval": 0
     },
     "base_uri": "https://localhost:8080/",
     "height": 347
    },
    "colab_type": "code",
    "executionInfo": {
     "elapsed": 762,
     "status": "ok",
     "timestamp": 1529258229889,
     "user": {
      "displayName": "Nguyen Nam",
      "photoUrl": "https://lh3.googleusercontent.com/a/default-user=s128",
      "userId": "100974802585415237805"
     },
     "user_tz": -420
    },
    "id": "sW7P-yxCv6U2",
    "outputId": "c1c633d3-9de3-4ba1-d2fd-20d7f2543ece"
   },
   "outputs": [
    {
     "data": {
      "image/png": "[encoded data removed]",
      "text/plain": [
       "<Figure size 432x288 with 1 Axes>"
      ]
     },
     "metadata": {},
     "output_type": "display_data"
    }
   ],
   "source": [
    "#plot data\n",
    "def plot_data(X,y):\n",
    "    plt.scatter(X,y)\n",
    "  \n",
    "plot_data(X,y)"
   ]
  },
  {
   "cell_type": "markdown",
   "metadata": {},
   "source": [
    "# 2. Make Xbar\n",
    "- Xbar is created when you add a columns of 1 to the left of the X matrix\n",
    "- Its purpose is to make computation with matrix more efficient"
   ]
  },
  {
   "cell_type": "code",
   "execution_count": 56,
   "metadata": {
    "colab": {
     "autoexec": {
      "startup": false,
      "wait_interval": 0
     }
    },
    "colab_type": "code",
    "id": "sJmwA1ZUw0Yy"
   },
   "outputs": [],
   "source": [
    "#append vector of all 1 to X\n",
    "# ============= YOUR CODE HERE ================\n",
    "vector_ones = None   # edit this line to create a column vector of all 1\n",
    "X = np.append(vector_ones, X, axis = 1)\n",
    "# ============================================="
   ]
  },
  {
   "cell_type": "markdown",
   "metadata": {},
   "source": [
    "# 3. Compute cost and gradients:\n",
    "- This function combines the 2 steps of compute cost and compute gradients\n",
    "- Use matrix operation to finish this"
   ]
  },
  {
   "cell_type": "code",
   "execution_count": 57,
   "metadata": {
    "colab": {
     "autoexec": {
      "startup": false,
      "wait_interval": 0
     }
    },
    "colab_type": "code",
    "id": "XGdQ0_Cp08kM"
   },
   "outputs": [],
   "source": [
    "#compute cost and gradient\n",
    "def compute_cost_and_gradient(X,y, w):\n",
    "    ''' J: cost,  grad: gradients \n",
    "        This function is to compute cost and gradients with respect to current w\n",
    "        with matrix operations, please not using for loop\n",
    "    '''\n",
    "    # =================== YOUR CODE HERE ==================\n",
    "    J = None\n",
    "    grad = None\n",
    "    # =====================================================\n",
    "    return J, grad\n",
    "  \n",
    "  "
   ]
  },
  {
   "cell_type": "code",
   "execution_count": 58,
   "metadata": {
    "colab": {
     "autoexec": {
      "startup": false,
      "wait_interval": 0
     },
     "base_uri": "https://localhost:8080/",
     "height": 67
    },
    "colab_type": "code",
    "executionInfo": {
     "elapsed": 1051,
     "status": "ok",
     "timestamp": 1529142089440,
     "user": {
      "displayName": "Nguyen Nam",
      "photoUrl": "https://lh3.googleusercontent.com/a/default-user=s128",
      "userId": "100974802585415237805"
     },
     "user_tz": -420
    },
    "id": "2D5aaQHB2T1s",
    "outputId": "10cc72ad-b536-40a2-e58c-ea4a9ed0883e"
   },
   "outputs": [
    {
     "name": "stdout",
     "output_type": "stream",
     "text": [
      "Now tesing cost with theta = [-1,2]\n",
      "This value should be about 54.242\n",
      "Cost computed by your function: 54.24245508201238\n"
     ]
    }
   ],
   "source": [
    "#Test function compute_cost_and_gradient with w = [-1,2]\n",
    "w = np.array([-1,2]).reshape(2,1)\n",
    "print(\"Now tesing cost with w = [-1,2]\\nThis value should be about 54.242\")\n",
    "cost, grad = compute_cost_and_gradient(X,y, w)\n",
    "print(\"Cost computed by your function: {}\".format(cost))\n"
   ]
  },
  {
   "cell_type": "markdown",
   "metadata": {},
   "source": [
    "# 4. Update gradients\n",
    "- when you receive gradients of w from compute_cost_and_gradient(), use it to update w"
   ]
  },
  {
   "cell_type": "code",
   "execution_count": 67,
   "metadata": {
    "colab": {
     "autoexec": {
      "startup": false,
      "wait_interval": 0
     },
     "base_uri": "https://localhost:8080/",
     "height": 554
    },
    "colab_type": "code",
    "executionInfo": {
     "elapsed": 1015,
     "status": "ok",
     "timestamp": 1529142545668,
     "user": {
      "displayName": "Nguyen Nam",
      "photoUrl": "https://lh3.googleusercontent.com/a/default-user=s128",
      "userId": "100974802585415237805"
     },
     "user_tz": -420
    },
    "id": "0xm5kE9n6k85",
    "outputId": "65f45adb-c628-44c1-816a-58ffb54c04de"
   },
   "outputs": [
    {
     "name": "stdout",
     "output_type": "stream",
     "text": [
      "Cost at iteration 0 : 5.1738181332536195\n",
      "Cost at iteration 50 : 5.1738181332536195\n",
      "Cost at iteration 100 : 5.1738181332536195\n",
      "Cost at iteration 150 : 5.1738181332536195\n",
      "Cost at iteration 200 : 5.1738181332536195\n",
      "Cost at iteration 250 : 5.1738181332536195\n",
      "Cost at iteration 300 : 5.1738181332536195\n",
      "Cost at iteration 350 : 5.1738181332536195\n",
      "Cost at iteration 400 : 5.1738181332536195\n",
      "Cost at iteration 450 : 5.1738181332536195\n",
      "Cost at iteration 500 : 5.1738181332536195\n",
      "Cost at iteration 550 : 5.1738181332536195\n",
      "Cost at iteration 600 : 5.1738181332536195\n",
      "Cost at iteration 650 : 5.1738181332536195\n",
      "Cost at iteration 700 : 5.1738181332536195\n",
      "Cost at iteration 750 : 5.1738181332536195\n",
      "Cost at iteration 800 : 5.1738181332536195\n",
      "Cost at iteration 850 : 5.1738181332536195\n",
      "Cost at iteration 900 : 5.1738181332536195\n",
      "Cost at iteration 950 : 5.1738181332536195\n",
      "Cost at iteration 1000 : 5.1738181332536195\n",
      "Cost at iteration 1050 : 5.1738181332536195\n",
      "Cost at iteration 1100 : 5.1738181332536195\n",
      "Cost at iteration 1150 : 5.1738181332536195\n",
      "Cost at iteration 1200 : 5.1738181332536195\n",
      "Cost at iteration 1250 : 5.1738181332536195\n",
      "Cost at iteration 1300 : 5.1738181332536195\n",
      "Cost at iteration 1350 : 5.1738181332536195\n",
      "Cost at iteration 1400 : 5.1738181332536195\n",
      "Cost at iteration 1450 : 5.1738181332536195\n",
      "Theta after training: [[-1.13419755]\n",
      " [ 0.91579752]]\n"
     ]
    }
   ],
   "source": [
    "#Start training\n",
    "iteration = 1500\n",
    "lnr = 0.01\n",
    "\n",
    "\n",
    "def train(iteration):\n",
    "    global w\n",
    "    for i in range(0,iteration):\n",
    "        cost, grad = compute_cost_and_gradient(X,y, w)\n",
    "        if(i % 50 == 0):\n",
    "            print(\"Cost at iteration {} : {}\".format(i, cost))\n",
    "    \n",
    "        #update w\n",
    "        # ============== YOUR CODE HERE ===============\n",
    "        w = None   # edit this line to assign new value to w\n",
    "        #=============================================\n",
    "    \n",
    "\n",
    "train(iteration)\n",
    "print(\"w after training: {}\".format(w))\n",
    "  "
   ]
  },
  {
   "cell_type": "code",
   "execution_count": 68,
   "metadata": {
    "colab": {
     "autoexec": {
      "startup": false,
      "wait_interval": 0
     },
     "base_uri": "https://localhost:8080/",
     "height": 364
    },
    "colab_type": "code",
    "executionInfo": {
     "elapsed": 926,
     "status": "ok",
     "timestamp": 1529142459930,
     "user": {
      "displayName": "Nguyen Nam",
      "photoUrl": "https://lh3.googleusercontent.com/a/default-user=s128",
      "userId": "100974802585415237805"
     },
     "user_tz": -420
    },
    "id": "0vs8_V2e-THY",
    "outputId": "aceebc23-3332-48ff-c9ad-eeaa9cd956c6"
   },
   "outputs": [
    {
     "data": {
      "text/plain": [
       "[<matplotlib.lines.Line2D at 0x7fa79f707d30>]"
      ]
     },
     "execution_count": 68,
     "metadata": {},
     "output_type": "execute_result"
    },
    {
     "data": {
      "image/png": "[encoded data removed]",
      "text/plain": [
       "<Figure size 432x288 with 1 Axes>"
      ]
     },
     "metadata": {},
     "output_type": "display_data"
    }
   ],
   "source": [
    "#plot data and fit line\n",
    "plot_data(X[:,1],y)\n",
    "\n",
    "y_hat = np.dot(X,w)\n",
    "\n",
    "plt.plot(X[:,1], y_hat, 'g')"
   ]
  },
  {
   "cell_type": "markdown",
   "metadata": {},
   "source": [
    "# 5. Perform some prediction on train set\n",
    "- Complete predict function to return label if input x \n",
    "- You may want to print shape of x and w to choose the proper operation"
   ]
  },
  {
   "cell_type": "code",
   "execution_count": 2,
   "metadata": {},
   "outputs": [],
   "source": [
    "# perform some prediction on training set\n",
    "\n",
    "def predict(x, w):\n",
    "    '''This function compute y_predict = cross product of x and w'''\n",
    "    # ================ YOUR CODE HERE ==================\n",
    "    return None # edit this line to return cross product of x and w\n",
    "    # ==================================================\n",
    "\n",
    "# choose 5 random training examples\n",
    "indices = np.random.permutation(m)[:5]\n",
    "for idx in indices:\n",
    "    x = X[idx, :]\n",
    "    y_predict = float(predict(x, w))\n",
    "    y_true = float(y[idx,:])\n",
    "    print(\"Your prediction on training examples %2d: %4.03f. \\tActual label is: %.03f\"%(idx, y_predict, y_true))"
   ]
  },
  {
   "cell_type": "code",
   "execution_count": null,
   "metadata": {},
   "outputs": [],
   "source": []
  }
 ],
 "metadata": {
  "colab": {
   "collapsed_sections": [],
   "default_view": {},
   "name": "Assignment1.ipynb",
   "provenance": [],
   "toc_visible": true,
   "version": "0.3.2",
   "views": {}
  },
  "kernelspec": {
   "display_name": "Python 3",
   "language": "python",
   "name": "python3"
  },
  "language_info": {
   "codemirror_mode": {
    "name": "ipython",
    "version": 3
   },
   "file_extension": ".py",
   "mimetype": "text/x-python",
   "name": "python",
   "nbconvert_exporter": "python",
   "pygments_lexer": "ipython3",
   "version": "3.6.3"
  }
 },
 "nbformat": 4,
 "nbformat_minor": 1
}
