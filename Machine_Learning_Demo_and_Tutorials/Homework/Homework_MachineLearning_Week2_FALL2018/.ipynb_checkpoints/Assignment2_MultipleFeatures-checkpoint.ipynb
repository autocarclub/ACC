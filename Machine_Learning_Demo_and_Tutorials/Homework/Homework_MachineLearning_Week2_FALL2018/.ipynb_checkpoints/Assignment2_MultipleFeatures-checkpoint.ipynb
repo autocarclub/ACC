{
 "cells": [
  {
   "cell_type": "code",
   "execution_count": 1,
   "metadata": {
    "colab": {},
    "colab_type": "code",
    "id": "UDUm2uygr23c"
   },
   "outputs": [],
   "source": [
    "import numpy as np\n",
    "import matplotlib.pyplot as plt\n"
   ]
  },
  {
   "cell_type": "markdown",
   "metadata": {},
   "source": [
    "# 1. Load data\n",
    "- We load data from text file into X and y, while X is training features and y is training label\n",
    "- X has shape (47,2), which means there are 97 training examples and each has 2 features\n",
    "- y has shape (47,1): 97 training label corresponding to X"
   ]
  },
  {
   "cell_type": "code",
   "execution_count": 3,
   "metadata": {
    "colab": {
     "base_uri": "https://localhost:8080/",
     "height": 34
    },
    "colab_type": "code",
    "executionInfo": {
     "elapsed": 789,
     "status": "ok",
     "timestamp": 1529147082182,
     "user": {
      "displayName": "Nguyen Nam",
      "photoUrl": "https://lh3.googleusercontent.com/a/default-user=s128",
      "userId": "100974802585415237805"
     },
     "user_tz": -420
    },
    "id": "q5jGPJc7tsU-",
    "outputId": "506150b9-5d8d-46ea-b001-ee4771c47cbe"
   },
   "outputs": [
    {
     "name": "stdout",
     "output_type": "stream",
     "text": [
      "X shape:  (47, 2)\n",
      "y shape:  (47, 1)\n"
     ]
    }
   ],
   "source": [
    "#read data from txt\n",
    "mat = np.loadtxt('ex1data2.txt',delimiter=',')\n",
    "\n",
    "X = mat[:,0:2]\n",
    "y = mat[:,2]\n",
    "\n",
    "\n",
    "# m: number of training examples\n",
    "m = len(y)\n",
    "# n: number of features\n",
    "n = X.shape[1]\n",
    "\n",
    "X = X.reshape(m,n)\n",
    "y = y.reshape(m,1)\n",
    "\n",
    "#initialize w\n",
    "w = np.zeros((n+1,1))\n",
    "\n",
    "print(\"X shape: \", X.shape)\n",
    "print(\"y shape: \", y.shape)"
   ]
  },
  {
   "cell_type": "code",
   "execution_count": 4,
   "metadata": {
    "colab": {},
    "colab_type": "code",
    "id": "sW7P-yxCv6U2"
   },
   "outputs": [
    {
     "data": {
      "image/png": "[encoded data removed]",
      "text/plain": [
       "<matplotlib.figure.Figure at 0x7ffb613beba8>"
      ]
     },
     "metadata": {},
     "output_type": "display_data"
    }
   ],
   "source": [
    "# plot data\n",
    "def plot_data(X,y):\n",
    "    plt.figure(figsize=(12,6))\n",
    "    \n",
    "    plt.subplot(1, 2, 1)\n",
    "    plt.title('Distribution of each feature of X paired with y')\n",
    "    plt.plot(X[:,0], y, 'ro')\n",
    "    plt.xlabel('feature 0 of X')\n",
    "    plt.ylabel('label y')\n",
    "\n",
    "    plt.subplot(1, 2, 2)\n",
    "    plt.plot(X[:,1], y, 'bo')\n",
    "    plt.xlabel('feature 1 of X')\n",
    "    plt.ylabel('label y')\n",
    "    \n",
    "  \n",
    "plot_data(X,y)"
   ]
  },
  {
   "cell_type": "markdown",
   "metadata": {},
   "source": [
    "# 2. Feature normalization\n",
    "- First, compute the mean of each feature over all training example. \n",
    "- In this example, X has 2 features (or 2 columns), the mean is an array of 2 values\n",
    "- Then, compute the stddev of each feature, which has same shape as the mean. Look for np.std() on internet"
   ]
  },
  {
   "cell_type": "code",
   "execution_count": 5,
   "metadata": {
    "colab": {
     "base_uri": "https://localhost:8080/",
     "height": 806
    },
    "colab_type": "code",
    "executionInfo": {
     "elapsed": 1023,
     "status": "ok",
     "timestamp": 1529147083269,
     "user": {
      "displayName": "Nguyen Nam",
      "photoUrl": "https://lh3.googleusercontent.com/a/default-user=s128",
      "userId": "100974802585415237805"
     },
     "user_tz": -420
    },
    "id": "uGVTEcBFCZbq",
    "outputId": "4ad16787-de55-45fd-9b7a-c338306a8b98"
   },
   "outputs": [],
   "source": [
    "#feature normalize\n",
    "def feature_normalize(X):\n",
    "    '''Perform feature scaling by compute mean and standard deviation '''\n",
    "    \n",
    "    # =================== YOUR CODE HERE ==================\n",
    "    mean = None\n",
    "    stddev = None\n",
    "  \n",
    "    X_norm = None\n",
    "    \n",
    "    # =====================================================\n",
    "    # hint: using built in function of numpy: np.std(), np.mean()\n",
    "    return X_norm, mean, stddev\n",
    "\n",
    "\n",
    "X, mean_X, stddev_X = feature_normalize(X)\n",
    "y, mean_y, stddev_y = feature_normalize(y)\n",
    "\n",
    "# print(X)"
   ]
  },
  {
   "cell_type": "markdown",
   "metadata": {},
   "source": [
    "# 3. Make Xbar\n",
    "- Append columns of 1 to X to make computation more efficient"
   ]
  },
  {
   "cell_type": "code",
   "execution_count": 7,
   "metadata": {
    "colab": {
     "base_uri": "https://localhost:8080/",
     "height": 806
    },
    "colab_type": "code",
    "executionInfo": {
     "elapsed": 999,
     "status": "ok",
     "timestamp": 1529147085393,
     "user": {
      "displayName": "Nguyen Nam",
      "photoUrl": "https://lh3.googleusercontent.com/a/default-user=s128",
      "userId": "100974802585415237805"
     },
     "user_tz": -420
    },
    "id": "sJmwA1ZUw0Yy",
    "outputId": "4f0d0cb6-a987-4563-e34c-a1393eb56daa"
   },
   "outputs": [],
   "source": [
    "#append vector of all 1 to X\n",
    "# ============= YOUR CODE HERE ================\n",
    "vector_ones = None   # edit this line to create a column vector of all 1\n",
    "X = np.append(vector_ones, X, axis = 1)\n",
    "# =============================================\n",
    "\n",
    "#print(X.shape)"
   ]
  },
  {
   "cell_type": "markdown",
   "metadata": {},
   "source": [
    "# 4. Compute cost and gradients"
   ]
  },
  {
   "cell_type": "code",
   "execution_count": 8,
   "metadata": {
    "colab": {},
    "colab_type": "code",
    "id": "XGdQ0_Cp08kM"
   },
   "outputs": [],
   "source": [
    "#compute cost and gradient\n",
    "def compute_cost_and_gradient(X,y, w):\n",
    "    ''' J: cost,  grad: gradients \n",
    "        This function is to compute cost and gradients with respect to current w\n",
    "        with matrix operations, please not using for loop\n",
    "    '''\n",
    "    # =================== YOUR CODE HERE ==================\n",
    "    J = None\n",
    "    grad = None\n",
    "    # =====================================================\n",
    "    return J, grad\n",
    "  \n"
   ]
  },
  {
   "cell_type": "code",
   "execution_count": 122,
   "metadata": {
    "colab": {
     "base_uri": "https://localhost:8080/",
     "height": 67
    },
    "colab_type": "code",
    "executionInfo": {
     "elapsed": 866,
     "status": "ok",
     "timestamp": 1529147087168,
     "user": {
      "displayName": "Nguyen Nam",
      "photoUrl": "https://lh3.googleusercontent.com/a/default-user=s128",
      "userId": "100974802585415237805"
     },
     "user_tz": -420
    },
    "id": "2D5aaQHB2T1s",
    "outputId": "764a9c8f-4f8c-48d2-d09c-a3ffe5e5e4d4"
   },
   "outputs": [
    {
     "name": "stdout",
     "output_type": "stream",
     "text": [
      "Now tesing cost with theta = [-1,2, 3]\n",
      "This value should be about 7.82\n",
      "Cost computed by your function: 7.823044689123238\n"
     ]
    }
   ],
   "source": [
    "#Test function compute_cost_and_gradient with w = [-1,2, 3]\n",
    "print(\"Now tesing cost with w = [-1,2, 3]\\nThis value should be about 7.82\")\n",
    "cost, grad = compute_cost_and_gradient(X,y, np.array([-1,2,3]).reshape(3,1))\n",
    "print(\"Cost computed by your function: {}\".format(cost))\n"
   ]
  },
  {
   "cell_type": "markdown",
   "metadata": {},
   "source": [
    "# 5. Start training and update w after each iteration"
   ]
  },
  {
   "cell_type": "code",
   "execution_count": 121,
   "metadata": {
    "colab": {
     "base_uri": "https://localhost:8080/",
     "height": 571
    },
    "colab_type": "code",
    "executionInfo": {
     "elapsed": 817,
     "status": "ok",
     "timestamp": 1529147252331,
     "user": {
      "displayName": "Nguyen Nam",
      "photoUrl": "https://lh3.googleusercontent.com/a/default-user=s128",
      "userId": "100974802585415237805"
     },
     "user_tz": -420
    },
    "id": "0xm5kE9n6k85",
    "outputId": "b9d736b4-4433-4666-9e10-e6215f63ee11"
   },
   "outputs": [
    {
     "name": "stdout",
     "output_type": "stream",
     "text": [
      "Cost at iteration 0 : 0.5\n",
      "Cost at iteration 50 : 0.2517756317131742\n",
      "Cost at iteration 100 : 0.18520951660886317\n",
      "Cost at iteration 150 : 0.16171485631538346\n",
      "Cost at iteration 200 : 0.15061173588265697\n",
      "Cost at iteration 250 : 0.144301118524218\n",
      "Cost at iteration 300 : 0.14041384329729914\n",
      "Cost at iteration 350 : 0.13794870098105802\n",
      "Cost at iteration 400 : 0.13637010283773102\n",
      "Cost at iteration 450 : 0.13535599467793769\n",
      "Cost at iteration 500 : 0.13470384837630947\n",
      "Cost at iteration 550 : 0.13428433042785284\n",
      "Cost at iteration 600 : 0.13401443049425968\n",
      "Cost at iteration 650 : 0.1338407823746823\n",
      "Cost at iteration 700 : 0.13372905946039\n",
      "Cost at iteration 750 : 0.13365717814828124\n",
      "Cost at iteration 800 : 0.13361093043726577\n",
      "Cost at iteration 850 : 0.13358117511539044\n",
      "Cost at iteration 900 : 0.1335620308319675\n",
      "Cost at iteration 950 : 0.13354971358654627\n",
      "Cost at iteration 1000 : 0.13354178879075576\n",
      "Cost at iteration 1050 : 0.13353669005427454\n",
      "Cost at iteration 1100 : 0.13353340957684318\n",
      "Cost at iteration 1150 : 0.13353129894958832\n",
      "Cost at iteration 1200 : 0.13352994099255228\n",
      "Cost at iteration 1250 : 0.1335290672962104\n",
      "Cost at iteration 1300 : 0.1335285051684864\n",
      "Cost at iteration 1350 : 0.1335281435009792\n",
      "Cost at iteration 1400 : 0.1335279108076246\n",
      "Cost at iteration 1450 : 0.13352776109498476\n",
      "Theta after training: [[-7.33455849e-17]\n",
      " [ 8.84137547e-01]\n",
      " [-5.25503786e-02]]\n"
     ]
    }
   ],
   "source": [
    "#Start training\n",
    "iteration = 1500\n",
    "lnr = 0.01\n",
    "\n",
    "\n",
    "def train(iteration):\n",
    "    global w\n",
    "    for i in range(0,iteration):\n",
    "        cost, grad = compute_cost_and_gradient(X,y, w)\n",
    "        if(i % 50 == 0):\n",
    "            print(\"Cost at iteration {} : {}\".format(i, cost))\n",
    "    \n",
    "        #update w\n",
    "        # ============== YOUR CODE HERE ===============\n",
    "        w = None   # edit this line to assign new value to w\n",
    "        #=============================================\n",
    "    \n",
    "\n",
    "train(iteration)\n",
    "print(\"w after training: {}\".format(w))\n",
    "  "
   ]
  },
  {
   "cell_type": "markdown",
   "metadata": {},
   "source": [
    "# 6. Perform some prediction on train set\n",
    "- Complete predict function to return label if input x\n",
    "- You may want to print shape of x and w to choose the proper operation"
   ]
  },
  {
   "cell_type": "code",
   "execution_count": null,
   "metadata": {},
   "outputs": [],
   "source": [
    "# perform some prediction on training set\n",
    "\n",
    "def predict(x, w):\n",
    "    '''This function compute y_predict = cross product of x and w'''\n",
    "    # ================ YOUR CODE HERE ==================\n",
    "    return None # edit this line to return cross product of x and w\n",
    "    # ==================================================\n",
    "\n",
    "# choose 5 random training examples\n",
    "indices = np.random.permutation(m)[:5]\n",
    "for idx in indices:\n",
    "    x = X[idx, :]\n",
    "    y_predict = float(predict(x, w))\n",
    "    y_true = float(y[idx,:])\n",
    "    print(\"Your prediction on training examples %2d: %4.03f. \\tActual label is: %.03f\"%(idx, y_predict, y_true))"
   ]
  },
  {
   "cell_type": "code",
   "execution_count": null,
   "metadata": {},
   "outputs": [],
   "source": []
  },
  {
   "cell_type": "code",
   "execution_count": null,
   "metadata": {},
   "outputs": [],
   "source": []
  }
 ],
 "metadata": {
  "colab": {
   "collapsed_sections": [],
   "name": "Assignment1_MultipleFeatures.ipynb",
   "provenance": [],
   "toc_visible": true,
   "version": "0.3.2"
  },
  "kernelspec": {
   "display_name": "Python 3",
   "language": "python",
   "name": "python3"
  },
  "language_info": {
   "codemirror_mode": {
    "name": "ipython",
    "version": 3
   },
   "file_extension": ".py",
   "mimetype": "text/x-python",
   "name": "python",
   "nbconvert_exporter": "python",
   "pygments_lexer": "ipython3",
   "version": "3.6.3"
  }
 },
 "nbformat": 4,
 "nbformat_minor": 1
}
