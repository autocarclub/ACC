{
 "cells": [
  {
   "cell_type": "code",
   "execution_count": 3,
   "metadata": {},
   "outputs": [],
   "source": [
    "import numpy as np\n",
    "import matplotlib.pyplot as plt"
   ]
  },
  {
   "cell_type": "markdown",
   "metadata": {},
   "source": [
    "# 1. Generate data:\n",
    "- We only generate X with 1 feature\n",
    "- Number of training examples is 20"
   ]
  },
  {
   "cell_type": "code",
   "execution_count": 26,
   "metadata": {},
   "outputs": [
    {
     "name": "stdout",
     "output_type": "stream",
     "text": [
      "X shape:  (20, 1)\n",
      "y shape:  (20, 1)\n"
     ]
    }
   ],
   "source": [
    "# generate data\n",
    "m = 20\n",
    "np.random.seed(2)\n",
    "\n",
    "X = np.arange(-1,1,0.1).reshape(m,1)\n",
    "\n",
    "y = X**2 + 0.5*X + 3 + 0.1*np.random.randn(m,1)\n",
    "\n",
    "print(\"X shape: \", X.shape)\n",
    "print(\"y shape: \", y.shape)"
   ]
  },
  {
   "cell_type": "code",
   "execution_count": 27,
   "metadata": {},
   "outputs": [
    {
     "data": {
      "image/png": "[encoded data removed]",
      "text/plain": [
       "<matplotlib.figure.Figure at 0x7f441ecd5d30>"
      ]
     },
     "metadata": {},
     "output_type": "display_data"
    }
   ],
   "source": [
    "plt.scatter(X,y)\n",
    "plt.show()"
   ]
  },
  {
   "cell_type": "markdown",
   "metadata": {},
   "source": [
    "# 2. Generate polynomial feature\n",
    "- We use poly = 3 to denote maximun number of polynomial we use is X^3\n",
    "- You have to create X_poly = [1, X, X^2, X^3], which has shape (m, 4)"
   ]
  },
  {
   "cell_type": "code",
   "execution_count": null,
   "metadata": {},
   "outputs": [],
   "source": [
    "X_poly = None\n",
    "\n",
    "# edit this to assign proper value to X_poly\n",
    "# =============== YOUR CODE HERE ================\n",
    "\n",
    "\n",
    "# ==============================================="
   ]
  },
  {
   "cell_type": "markdown",
   "metadata": {},
   "source": [
    "# 3. Define linear model and training\n",
    "- Define a linear regression model using sklearn\n",
    "- Fit polynomial features adn label to linear model"
   ]
  },
  {
   "cell_type": "code",
   "execution_count": 23,
   "metadata": {},
   "outputs": [
    {
     "name": "stdout",
     "output_type": "stream",
     "text": [
      "None\n"
     ]
    }
   ],
   "source": [
    "# ============ YOUR CODE HERE ================\n",
    "model = None\n",
    "print(model)\n",
    "\n",
    "#fit data\n",
    "\n",
    "#print accuracy of training\n",
    "\n",
    "#============================================="
   ]
  },
  {
   "cell_type": "markdown",
   "metadata": {},
   "source": [
    "# 4. Make prediction on training set\n",
    "- Use function() predict of model to predict value for each row data of X_poly\n",
    "- Prediction is called y_hat which has the same shape to y"
   ]
  },
  {
   "cell_type": "code",
   "execution_count": null,
   "metadata": {},
   "outputs": [],
   "source": [
    "# ============ YOUR CODE HERE ================\n",
    "y_hat = None\n",
    "\n",
    "\n",
    "# ============================================"
   ]
  },
  {
   "cell_type": "markdown",
   "metadata": {},
   "source": [
    "# 5. Plot data:\n",
    "- Plot X and y points by points (scatter plot)\n",
    "- Plot the decision poly line\n",
    "- The 2 plot on the same figure"
   ]
  },
  {
   "cell_type": "code",
   "execution_count": null,
   "metadata": {},
   "outputs": [],
   "source": [
    "# ============ YOUR CODE HERE ================\n",
    "\n",
    "\n",
    "\n",
    "\n",
    "# ============================================"
   ]
  }
 ],
 "metadata": {
  "kernelspec": {
   "display_name": "Python 3",
   "language": "python",
   "name": "python3"
  },
  "language_info": {
   "codemirror_mode": {
    "name": "ipython",
    "version": 3
   },
   "file_extension": ".py",
   "mimetype": "text/x-python",
   "name": "python",
   "nbconvert_exporter": "python",
   "pygments_lexer": "ipython3",
   "version": "3.6.3"
  }
 },
 "nbformat": 4,
 "nbformat_minor": 2
}
