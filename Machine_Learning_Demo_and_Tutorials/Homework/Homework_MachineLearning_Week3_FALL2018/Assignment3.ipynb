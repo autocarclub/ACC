{
 "cells": [
  {
   "cell_type": "code",
   "execution_count": null,
   "metadata": {
    "colab": {
     "autoexec": {
      "startup": false,
      "wait_interval": 0
     }
    },
    "colab_type": "code",
    "id": "jJzfoqBpvjAx"
   },
   "outputs": [],
   "source": [
    "import numpy as np\n",
    "import matplotlib.pyplot as plt"
   ]
  },
  {
   "cell_type": "markdown",
   "metadata": {},
   "source": [
    "# 1. Load data:\n",
    "- We provide 'ex2data1.txt' which contains data and label we use in this exercise\n",
    "- As many previous exercise, we denote X as training data and y is training label\n",
    "- After perform some preprocessing, X has shape (100,2) and y has shape (100,1)\n",
    "- Number of training example: m = 100\n",
    "- Number of feature: n = 2"
   ]
  },
  {
   "cell_type": "code",
   "execution_count": null,
   "metadata": {
    "colab": {
     "autoexec": {
      "startup": false,
      "wait_interval": 0
     },
     "base_uri": "https://localhost:8080/",
     "height": 67
    },
    "colab_type": "code",
    "executionInfo": {
     "elapsed": 825,
     "status": "ok",
     "timestamp": 1529343446394,
     "user": {
      "displayName": "Nguyen Nam",
      "photoUrl": "https://lh3.googleusercontent.com/a/default-user=s128",
      "userId": "100974802585415237805"
     },
     "user_tz": -420
    },
    "id": "Kw5Ngolhw6aC",
    "outputId": "fa9af00f-be9f-4855-bcd5-2b013c7a2c0b"
   },
   "outputs": [],
   "source": [
    "#read data\n",
    "mat = np.loadtxt('ex2data1.txt', delimiter=',')\n",
    "\n",
    "X = mat[:,0:2]\n",
    "y = mat[:,2]\n",
    "\n",
    "# m: number of training examples\n",
    "# n: number of features\n",
    "m = X.shape[0]\n",
    "n = X.shape[1]\n",
    "\n",
    "y = np.reshape(y,(m,1))\n",
    "\n",
    "print(\"X.shape\", X.shape)\n",
    "print(\"y.shape: \", y.shape) "
   ]
  },
  {
   "cell_type": "markdown",
   "metadata": {},
   "source": [
    "# 2. Initialize w\n",
    "- w is parameter vector of our h(X) function\n",
    "- Because number of features n = 2 => w has shape (n+1, 1) or (3,1)\n",
    "- Your task is to initialize w = vector 0"
   ]
  },
  {
   "cell_type": "code",
   "execution_count": null,
   "metadata": {},
   "outputs": [],
   "source": [
    "#initialize w\n",
    "# =================== YOUR CODE HERE ====================\n",
    "w = None   # edit this line\n",
    "# =======================================================\n",
    "\n",
    "print(w)"
   ]
  },
  {
   "cell_type": "markdown",
   "metadata": {},
   "source": [
    "# 3. Plot data:\n",
    "- Complete plot_data() function wich take 2 parameters: X, y\n",
    "- Your task is to use matplotlib to plot data as picture \"plot.jpg\"\n",
    "    - Positive data (label == 1) will have color red\n",
    "    - Negative data (label == 0) will have color blue\n"
   ]
  },
  {
   "cell_type": "code",
   "execution_count": null,
   "metadata": {
    "colab": {
     "autoexec": {
      "startup": false,
      "wait_interval": 0
     },
     "base_uri": "https://localhost:8080/",
     "height": 347
    },
    "colab_type": "code",
    "executionInfo": {
     "elapsed": 879,
     "status": "ok",
     "timestamp": 1529343447379,
     "user": {
      "displayName": "Nguyen Nam",
      "photoUrl": "https://lh3.googleusercontent.com/a/default-user=s128",
      "userId": "100974802585415237805"
     },
     "user_tz": -420
    },
    "id": "VUlbAs4q1N7T",
    "outputId": "76c139cd-eb2f-4996-c652-c5166a90c99c"
   },
   "outputs": [],
   "source": [
    "def plot_data(X, y):\n",
    "    # =================== YOUR CODE HERE ====================\n",
    "    \n",
    "    \n",
    "    \n",
    "    # =======================================================\n",
    "  \n",
    "plot_data(X,y)"
   ]
  },
  {
   "cell_type": "markdown",
   "metadata": {},
   "source": [
    "# 4. Create Xbar from X\n",
    "- Append columns of 1 to X and assign it to variable Xbar"
   ]
  },
  {
   "cell_type": "code",
   "execution_count": null,
   "metadata": {
    "colab": {
     "autoexec": {
      "startup": false,
      "wait_interval": 0
     }
    },
    "colab_type": "code",
    "id": "AiBsO1nJ525a"
   },
   "outputs": [],
   "source": [
    "#append columns of 1 to X\n",
    "# ============== YOUR CODE HERE ==================\n",
    "vector_ones = None  # create a vector of all ones\n",
    "Xbar = None         # append it to X to create Xbar\n",
    "# ================================================"
   ]
  },
  {
   "cell_type": "markdown",
   "metadata": {},
   "source": [
    "# 5. Sigmoid function:\n",
    "- After perform linear transform, an activation function is use to map the value to 0 -> 1, which then represents the probalility of a training sample being positive\n",
    "- Finish sigmoid function which take input z (output of linear transform phase) "
   ]
  },
  {
   "cell_type": "code",
   "execution_count": null,
   "metadata": {
    "colab": {
     "autoexec": {
      "startup": false,
      "wait_interval": 0
     },
     "base_uri": "https://localhost:8080/",
     "height": 34
    },
    "colab_type": "code",
    "executionInfo": {
     "elapsed": 711,
     "status": "ok",
     "timestamp": 1529343449099,
     "user": {
      "displayName": "Nguyen Nam",
      "photoUrl": "https://lh3.googleusercontent.com/a/default-user=s128",
      "userId": "100974802585415237805"
     },
     "user_tz": -420
    },
    "id": "uPRAQAI-0tba",
    "outputId": "51cca682-4675-41b5-820c-1ab3c8250ff0"
   },
   "outputs": [],
   "source": [
    "# sigmoid function\n",
    "def sigmoid(z):\n",
    "    #=============== YOUR CODE HERE =================\n",
    "    return None   # edit this line of code to return right value of sigmoid function (work with both scalar and and matrix)\n",
    "    # ===============================================\n",
    "\n",
    "# test sigmoid function\n",
    "t = sigmoid(np.array([0,1,-3]))\n",
    "print(\"output of sigmoid at input = [0,1,-3]: {}\".format(t))\n",
    "print(\"This value should be about [0.5  0.731  0.0474]\")"
   ]
  },
  {
   "cell_type": "markdown",
   "metadata": {},
   "source": [
    "# 6. Compute cost and gradients:\n",
    "- Return J as the cost over all training example and grad is a vector having shape like w (gradients of cost function with respect to w)"
   ]
  },
  {
   "cell_type": "code",
   "execution_count": null,
   "metadata": {
    "colab": {
     "autoexec": {
      "startup": false,
      "wait_interval": 0
     },
     "base_uri": "https://localhost:8080/",
     "height": 386
    },
    "colab_type": "code",
    "executionInfo": {
     "elapsed": 708,
     "status": "ok",
     "timestamp": 1529343449865,
     "user": {
      "displayName": "Nguyen Nam",
      "photoUrl": "https://lh3.googleusercontent.com/a/default-user=s128",
      "userId": "100974802585415237805"
     },
     "user_tz": -420
    },
    "id": "ObxViQUvy1Vi",
    "outputId": "6508e09b-8f13-4b61-f37f-9ed9a032a879"
   },
   "outputs": [],
   "source": [
    "def compute_cost_and_gradient(X,y,w):\n",
    "    '''compute cost and gradients over all training examples\n",
    "        with respect to this current w'''\n",
    "    # =============== YOUR CODE HERE =================\n",
    "    J = None\n",
    "    grad = None\n",
    "    # ================================================\n",
    "    return J, grad\n",
    "  \n",
    "\n",
    "cost, grad = compute_cost_and_gradient(Xbar,y,w)\n",
    "print(\"cost at w = [[0],[0],[0]]: {}\".format(float(cost)))\n",
    "print(\"This value should be about 0.693\")\n",
    "print(\"Gradient at w  = [[0],[0],[0]]: \\n{}\".format(grad))\n",
    "print(\"This value should be about:\\n{}\".format(\"[[ -0.1],\\n[-12.00921659],\\n[-11.26284221]]\"))\n",
    "\n",
    "print(\"\\n\")\n",
    "\n",
    "test_w = np.reshape(np.array([-24, 0.2, 0.2]), (3,1))\n",
    "cost, grad = compute_cost_and_gradient(Xbar,y,test_w)\n",
    "print(\"cost at w = [[-24],[0.2],[0.2]]: {}\".format(float(cost)))\n",
    "print(\"This value should be about 0.218\")\n",
    "print(\"Gradient at w  = [[-24],[0.2],[0.2]]: \\n{}\".format(grad))\n",
    "print(\"This value should be about:\\n{}\".format(\"[[0.04290299],\\n[2.56623412],\\n[2.64679737]]\"))\n"
   ]
  },
  {
   "cell_type": "markdown",
   "metadata": {},
   "source": [
    "# 7. Updating w:"
   ]
  },
  {
   "cell_type": "code",
   "execution_count": null,
   "metadata": {
    "colab": {
     "autoexec": {
      "startup": false,
      "wait_interval": 0
     },
     "base_uri": "https://localhost:8080/",
     "height": 185
    },
    "colab_type": "code",
    "executionInfo": {
     "elapsed": 50761,
     "status": "ok",
     "timestamp": 1529343500688,
     "user": {
      "displayName": "Nguyen Nam",
      "photoUrl": "https://lh3.googleusercontent.com/a/default-user=s128",
      "userId": "100974802585415237805"
     },
     "user_tz": -420
    },
    "id": "-r6HB8c39rXa",
    "outputId": "1b43127e-8841-43c8-e498-0e32f06bcb11"
   },
   "outputs": [],
   "source": [
    "lnr = 0.002\n",
    "iters = 300000\n",
    "\n",
    "def train(iteration):\n",
    "    global w\n",
    "    for i in range(iters):\n",
    "        cost, grad = compute_cost_and_gradient(Xbar,y,w)\n",
    "        if(i%30000==0):\n",
    "            print(\"cost at iter {}: {}\".format(i,cost))\n",
    "    \n",
    "        #update weights\n",
    "        # ================= YOUR CODE HERE ==================\n",
    "        w = None   # edit this line to assign new value to w\n",
    "        # ===================================================\n",
    "    \n",
    "train(iters)"
   ]
  },
  {
   "cell_type": "markdown",
   "metadata": {},
   "source": [
    "# 8. Predict on an input X passed in"
   ]
  },
  {
   "cell_type": "code",
   "execution_count": null,
   "metadata": {
    "colab": {
     "autoexec": {
      "startup": false,
      "wait_interval": 0
     }
    },
    "colab_type": "code",
    "id": "qyQtlRi32xlX"
   },
   "outputs": [],
   "source": [
    "def predict(_X, w):\n",
    "    '''This function return prediction on an input matrix'''\n",
    "    # ================= YOUR CODE HERE ==================\n",
    "    prediction =  None     # edit this line to return right value of prediction\n",
    "    # ===================================================\n",
    "    return prediction"
   ]
  },
  {
   "cell_type": "code",
   "execution_count": null,
   "metadata": {
    "colab": {
     "autoexec": {
      "startup": false,
      "wait_interval": 0
     },
     "base_uri": "https://localhost:8080/",
     "height": 347
    },
    "colab_type": "code",
    "executionInfo": {
     "elapsed": 751,
     "status": "ok",
     "timestamp": 1529343761508,
     "user": {
      "displayName": "Nguyen Nam",
      "photoUrl": "https://lh3.googleusercontent.com/a/default-user=s128",
      "userId": "100974802585415237805"
     },
     "user_tz": -420
    },
    "id": "xXCw3_3FxR9h",
    "outputId": "6db9ed08-153c-47a9-e634-25751a017b29"
   },
   "outputs": [],
   "source": [
    "\n",
    "#plot data with seperating line\n",
    "plot_data(X,y)\n",
    "\n",
    "x1_plot = np.arange(25, 105, 1)\n",
    "x2_plot = np.arange(25, 105, 1)\n",
    "\n",
    "xx1, xx2 = np.meshgrid(x1_plot, x2_plot)\n",
    "#print(xx)\n",
    "x1 = np.reshape(xx1,(xx1.shape[0]*xx1.shape[1],1))\n",
    "x2 = np.reshape(xx2,(xx2.shape[0]*xx2.shape[1],1))\n",
    "\n",
    "_X = np.append(x1,x2,axis=1)\n",
    "_X = np.append(np.ones((x1.shape[0],1)), _X, axis=1)\n",
    "#print(_X)\n",
    "\n",
    "z = predict(_X,w)\n",
    "pos = z >= 0.5\n",
    "neg = z < 0.5\n",
    "z[pos] = 1\n",
    "z[neg] = 0\n",
    "\n",
    "z = np.reshape(z, (len(x1_plot), len(x2_plot)))\n",
    "\n",
    "h = plt.contourf(x1_plot,x2_plot,z,200, cmap='jet',  alpha=.2)"
   ]
  },
  {
   "cell_type": "code",
   "execution_count": null,
   "metadata": {},
   "outputs": [],
   "source": []
  },
  {
   "cell_type": "code",
   "execution_count": null,
   "metadata": {},
   "outputs": [],
   "source": []
  }
 ],
 "metadata": {
  "colab": {
   "collapsed_sections": [],
   "default_view": {},
   "name": "Assignment2.ipynb",
   "provenance": [],
   "version": "0.3.2",
   "views": {}
  },
  "kernelspec": {
   "display_name": "Python 3",
   "language": "python",
   "name": "python3"
  },
  "language_info": {
   "codemirror_mode": {
    "name": "ipython",
    "version": 3
   },
   "file_extension": ".py",
   "mimetype": "text/x-python",
   "name": "python",
   "nbconvert_exporter": "python",
   "pygments_lexer": "ipython3",
   "version": "3.6.3"
  }
 },
 "nbformat": 4,
 "nbformat_minor": 1
}
