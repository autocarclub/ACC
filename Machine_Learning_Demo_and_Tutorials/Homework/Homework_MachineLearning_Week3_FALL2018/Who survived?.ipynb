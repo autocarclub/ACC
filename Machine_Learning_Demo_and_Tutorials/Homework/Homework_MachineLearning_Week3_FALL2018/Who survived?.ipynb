{
 "cells": [
  {
   "cell_type": "code",
   "execution_count": null,
   "metadata": {},
   "outputs": [],
   "source": [
    "import pandas as pd\n",
    "import numpy as np\n",
    "from sklearn.linear_model import LogisticRegression"
   ]
  },
  {
   "cell_type": "markdown",
   "metadata": {},
   "source": [
    "# 1. Introduction:\n",
    "- Titanic survival prediction is a challenge in Kaggle which predict a person survived or not provided his or her feature\n",
    "- Link: https://www.kaggle.com/c/titanic/data\n",
    "- In this exercise we will use pandas to processing data (in format of a table) and LogisticRegression to train on this data\n",
    "- First you need to follow some basic tutorial of pandas: https://www.kaggle.com/learn/pandas (Don't need to learn all, in this exercise, we recommend you to learn part 1: Creating, Reading, Writing workbook and part 2: Indexing, Selecting and Assigning)\n"
   ]
  },
  {
   "cell_type": "markdown",
   "metadata": {},
   "source": [
    "# 2. Load data:\n",
    "- Load titanic_train from csv file\n",
    "- After processing, data contains 183 rows and 7 columns\n",
    "- Training data is stored in a dataframe variable called training_data and training label is stored in a variable called training_label"
   ]
  },
  {
   "cell_type": "code",
   "execution_count": null,
   "metadata": {},
   "outputs": [],
   "source": [
    "titanic_df = pd.read_csv(\"titanic_train.csv\", index_col=None)\n",
    "pd.set_option(\"display.max_rows\", 10)\n",
    "\n",
    "titanic_data = titanic_df.dropna().drop(['Survived','Name', 'PassengerId','Ticket', 'Cabin'], axis=1)\n",
    "titanic_label = titanic_df.dropna()['Survived']\n",
    "\n",
    "titanic_data"
   ]
  },
  {
   "cell_type": "code",
   "execution_count": null,
   "metadata": {},
   "outputs": [],
   "source": [
    "titanic_label"
   ]
  },
  {
   "cell_type": "markdown",
   "metadata": {},
   "source": [
    "# 3. Converting Sex and Emabarked to numeric\n",
    "- Unfortunately, machine learning models in sklearn don't accept data which is not number, such as: Sex (female, male), Embark (S,C,Q)\n",
    "- You need to convert them to number with the following rules:\n",
    "    - Sex:\n",
    "        - Female: 0\n",
    "        - Male : 1\n",
    "    - Embarked:\n",
    "        - C: 0\n",
    "        - Q: 1\n",
    "        - S: 2\n",
    "            \n",
    "- Output will look like picture \"titanic_data_numeric.png\"\n",
    "- Python dictionary is a list that you can access element by its key"
   ]
  },
  {
   "cell_type": "code",
   "execution_count": null,
   "metadata": {},
   "outputs": [],
   "source": [
    "sex_dictionary = {'male':1, 'female':0}\n",
    "embark_dictionary = {'C':0, 'Q':1, 'S':2}"
   ]
  },
  {
   "cell_type": "markdown",
   "metadata": {},
   "source": [
    "- Iterate over each row of titanic_data where index variable is index of each row at each loop and row variable is data of each row\n",
    "- Read this link: https://stackoverflow.com/questions/16476924/how-to-iterate-over-rows-in-a-dataframe-in-pandas\n",
    "- Convert data of Sex and Embarked columns to numeric using sex_dictionary and embark_dictionary and assign to corresponding row of titanic_data_numeric variable\n",
    "- Hint: Use dataframe.loc[] to access to an element at each row\n",
    "    - For example: titanic_data_numeric.loc[idx, 'Sex'] access to a cell which is at a row with index = idx, and 'Sex' column"
   ]
  },
  {
   "cell_type": "code",
   "execution_count": null,
   "metadata": {},
   "outputs": [],
   "source": [
    "titanic_data_numeric = titanic_data.copy()\n",
    "\n",
    "for index, row in titanic_data.iterrows():\n",
    "    # ==================== YOUR CODE HERE ==========================\n",
    "    \n",
    "    \n",
    "    # ==============================================================\n"
   ]
  },
  {
   "cell_type": "code",
   "execution_count": null,
   "metadata": {},
   "outputs": [],
   "source": [
    "titanic_data_numeric"
   ]
  },
  {
   "cell_type": "markdown",
   "metadata": {},
   "source": [
    "# 4. Train Logistic Regression\n",
    "- Define model\n",
    "- Fit titanic_data_numeric, titanic_label into this model"
   ]
  },
  {
   "cell_type": "code",
   "execution_count": null,
   "metadata": {},
   "outputs": [],
   "source": [
    "# ==================== YOUR CODE HERE ==========================\n",
    "logistic_reg = None  # define model\n",
    "\n",
    "# fit data\n",
    "\n",
    "# print accuracy score on train set\n",
    "\n",
    "# =============================================================="
   ]
  },
  {
   "cell_type": "code",
   "execution_count": null,
   "metadata": {},
   "outputs": [],
   "source": [
    "# make prediction on first 10 training examples\n",
    "data_first_ten = titanic_data_numeric.head(10)\n",
    "true_label_first_ten = titanic_label.head(10)\n",
    "predicted_label_first_ten = logistic_reg.predict(data_first_ten)\n",
    "\n",
    "data_first_ten['True Label'] = true_label_first_ten\n",
    "data_first_ten['Predicted Label'] = predicted_label_first_ten\n",
    "\n",
    "data_first_ten"
   ]
  },
  {
   "cell_type": "code",
   "execution_count": null,
   "metadata": {},
   "outputs": [],
   "source": []
  }
 ],
 "metadata": {
  "kernelspec": {
   "display_name": "Python 3",
   "language": "python",
   "name": "python3"
  },
  "language_info": {
   "codemirror_mode": {
    "name": "ipython",
    "version": 3
   },
   "file_extension": ".py",
   "mimetype": "text/x-python",
   "name": "python",
   "nbconvert_exporter": "python",
   "pygments_lexer": "ipython3",
   "version": "3.6.3"
  }
 },
 "nbformat": 4,
 "nbformat_minor": 2
}
