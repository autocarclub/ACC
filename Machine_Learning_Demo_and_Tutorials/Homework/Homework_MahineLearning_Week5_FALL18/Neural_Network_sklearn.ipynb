{
 "cells": [
  {
   "cell_type": "code",
   "execution_count": 2,
   "metadata": {},
   "outputs": [],
   "source": [
    "import numpy as np\n",
    "import matplotlib.pyplot as plt\n",
    "\n",
    "from sklearn.neural_network import MLPClassifier"
   ]
  },
  {
   "cell_type": "markdown",
   "metadata": {},
   "source": [
    "# 1. Introduction:\n",
    "- In this exercise, you will train a traffic sign classification using neural network\n",
    "- In the folder 'data', there are 2 sub folder called 'train' and 'test' containing images of 3 labels: left, right, stop\n"
   ]
  },
  {
   "cell_type": "markdown",
   "metadata": {},
   "source": [
    "# 2. Load data:\n",
    "- Your first task is to load images of the 2 folder to 2 numpy array 'train_data' and 'test_data', and corresponding label 'train_label' and 'test_label'\n",
    "- IMAGES ARE LOADED IN GRAYSCALE, AND RESIZE TO (width = W and height = H) BEFORE ANY STEP\n",
    "- Shape of those numpy array:\n",
    "    - train_data: (m_train, WxH) where m_train is total number of images in train folder\n",
    "    - test_data: (m_test, WxH) where m_test is total number of images in test folder\n",
    "    - train_label: (m_train, 1) \n",
    "    - test_label: (m_test, 1) \n",
    "- Note that:\n",
    "    - Each row of \"train_data\" is an image  which is flatten into array of shape(1, WxH), so with m_train number of images, 'train_data' will have shape (m_train, W*H)\n",
    "    - The same to 'test_data'\n",
    "    - 'train_label' only label of each corresponding image, taking value (0,1,2) where:\n",
    "        - Left: 0\n",
    "        - Right: 1\n",
    "        - Stop: 2\n",
    "    - The same to 'test_label'"
   ]
  },
  {
   "cell_type": "code",
   "execution_count": null,
   "metadata": {},
   "outputs": [],
   "source": [
    "W = H = 32\n",
    "train_folder = \"data/train\"\n",
    "test_folder = \"data/test\"\n",
    "\n",
    "\n",
    "# ======================YOUR CODE HERE ======================\n",
    "train_data, test_data, train_label, test_label = None, None, None, None\n",
    "\n",
    "\n",
    "\n",
    "\n",
    "\n",
    "# ==========================================================="
   ]
  },
  {
   "cell_type": "markdown",
   "metadata": {},
   "source": [
    "# 3. Define a sklearn Neural Network model (MLPClassifier)\n",
    "- I will not restrict you how to choose number of hidden layers and size of each, feel free to be creative\n",
    "- Your task is to trial-and-error to have pretty good acuracy on both train and test set"
   ]
  },
  {
   "cell_type": "code",
   "execution_count": null,
   "metadata": {},
   "outputs": [],
   "source": [
    "# ======================YOUR CODE HERE ======================\n",
    "net = None\n",
    "\n",
    "\n",
    "# fit train data to model\n",
    "\n",
    "\n",
    "# evaluate accuracy on both train and test set\n",
    "train_acc = None\n",
    "test_acc = None\n",
    "\n",
    "print(\"train accuracy\", train_acc)\n",
    "print(\"test accuracy\", test_acc)\n",
    "\n",
    "\n",
    "# IF YOU HAVE NOT YET ACHIVE HIGH ACCURACY, PLEASE ROLL BACK, CHOOSE ANOTHER PARAMETERS, \n",
    "# AND START OVER, GOOD LUCK MY FRIENDS\n",
    "\n",
    "\n",
    "# ==========================================================="
   ]
  }
 ],
 "metadata": {
  "kernelspec": {
   "display_name": "Python 3",
   "language": "python",
   "name": "python3"
  },
  "language_info": {
   "codemirror_mode": {
    "name": "ipython",
    "version": 3
   },
   "file_extension": ".py",
   "mimetype": "text/x-python",
   "name": "python",
   "nbconvert_exporter": "python",
   "pygments_lexer": "ipython3",
   "version": "3.6.3"
  }
 },
 "nbformat": 4,
 "nbformat_minor": 2
}
