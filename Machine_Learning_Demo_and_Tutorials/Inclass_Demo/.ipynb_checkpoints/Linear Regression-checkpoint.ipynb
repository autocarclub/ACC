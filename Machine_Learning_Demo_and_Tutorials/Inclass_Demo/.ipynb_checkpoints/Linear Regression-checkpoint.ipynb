{
 "cells": [
  {
   "cell_type": "code",
   "execution_count": 1,
   "metadata": {
    "colab": {},
    "colab_type": "code",
    "id": "JOQManhFv1ZA"
   },
   "outputs": [],
   "source": [
    "import numpy as np\n",
    "import matplotlib.pyplot as plt\n",
    "from sklearn.linear_model import LinearRegression"
   ]
  },
  {
   "cell_type": "code",
   "execution_count": 2,
   "metadata": {
    "colab": {
     "base_uri": "https://localhost:8080/",
     "height": 202
    },
    "colab_type": "code",
    "executionInfo": {
     "elapsed": 911,
     "status": "ok",
     "timestamp": 1536822552107,
     "user": {
      "displayName": "Nguyen Nam",
      "photoUrl": "https://lh3.googleusercontent.com/a/default-user=s128",
      "userId": "100974802585415237805"
     },
     "user_tz": -420
    },
    "id": "nY2k77jfweBo",
    "outputId": "5fec7808-edb9-4bc8-d54a-ad8d730eeb5b"
   },
   "outputs": [
    {
     "name": "stdout",
     "output_type": "stream",
     "text": [
      "X:\n",
      " [[1]\n",
      " [2]\n",
      " [3]\n",
      " [4]\n",
      " [5]\n",
      " [6]\n",
      " [7]\n",
      " [8]\n",
      " [9]]\n",
      "X.shape (9, 1)\n"
     ]
    }
   ],
   "source": [
    "# gen X - input\n",
    "X = np.arange(1,10,1).reshape(-1,1)\n",
    "print(\"X:\\n\", X)\n",
    "print(\"X.shape\", X.shape)"
   ]
  },
  {
   "cell_type": "code",
   "execution_count": 3,
   "metadata": {
    "colab": {
     "base_uri": "https://localhost:8080/",
     "height": 202
    },
    "colab_type": "code",
    "executionInfo": {
     "elapsed": 801,
     "status": "ok",
     "timestamp": 1536822746288,
     "user": {
      "displayName": "Nguyen Nam",
      "photoUrl": "https://lh3.googleusercontent.com/a/default-user=s128",
      "userId": "100974802585415237805"
     },
     "user_tz": -420
    },
    "id": "J4n-ALDXw0Ya",
    "outputId": "f2a77600-daa6-4eb4-b09a-6c9254fbab5d"
   },
   "outputs": [
    {
     "name": "stdout",
     "output_type": "stream",
     "text": [
      "y:\n",
      " [[  7.6132916 ]\n",
      " [  2.13439108]\n",
      " [ 13.15620845]\n",
      " [ 14.07377714]\n",
      " [ 20.91106148]\n",
      " [ 26.21362336]\n",
      " [ 23.44991989]\n",
      " [ 30.78127247]\n",
      " [ 28.97677247]]\n",
      "y.shape: (9, 1)\n"
     ]
    }
   ],
   "source": [
    "# gen y - label\n",
    "y = 3*X + 5 + 5*np.random.randn(9,1)\n",
    "print(\"y:\\n\", y)\n",
    "print(\"y.shape:\", y.shape)"
   ]
  },
  {
   "cell_type": "code",
   "execution_count": 4,
   "metadata": {
    "colab": {
     "base_uri": "https://localhost:8080/",
     "height": 364
    },
    "colab_type": "code",
    "executionInfo": {
     "elapsed": 878,
     "status": "ok",
     "timestamp": 1536822761391,
     "user": {
      "displayName": "Nguyen Nam",
      "photoUrl": "https://lh3.googleusercontent.com/a/default-user=s128",
      "userId": "100974802585415237805"
     },
     "user_tz": -420
    },
    "id": "DJfwF2nIxRe1",
    "outputId": "ed635d73-1f5c-4a10-9fa3-a9218b328098"
   },
   "outputs": [
    {
     "data": {
      "text/plain": [
       "<matplotlib.collections.PathCollection at 0x7ffa2b1f56a0>"
      ]
     },
     "execution_count": 4,
     "metadata": {},
     "output_type": "execute_result"
    },
    {
     "data": {
      "image/png": "[encoded data removed]",
      "text/plain": [
       "<matplotlib.figure.Figure at 0x7ffa33004278>"
      ]
     },
     "metadata": {},
     "output_type": "display_data"
    }
   ],
   "source": [
    "# plot data\n",
    "plt.scatter(X,y)"
   ]
  },
  {
   "cell_type": "code",
   "execution_count": 5,
   "metadata": {
    "colab": {
     "base_uri": "https://localhost:8080/",
     "height": 34
    },
    "colab_type": "code",
    "executionInfo": {
     "elapsed": 945,
     "status": "ok",
     "timestamp": 1536822799245,
     "user": {
      "displayName": "Nguyen Nam",
      "photoUrl": "https://lh3.googleusercontent.com/a/default-user=s128",
      "userId": "100974802585415237805"
     },
     "user_tz": -420
    },
    "id": "vp1EoMtExlQH",
    "outputId": "1a8a7b01-5fee-4b6b-c86f-0eead3e82448"
   },
   "outputs": [
    {
     "name": "stdout",
     "output_type": "stream",
     "text": [
      "LinearRegression(copy_X=True, fit_intercept=True, n_jobs=1, normalize=False)\n"
     ]
    }
   ],
   "source": [
    "#define model\n",
    "model = LinearRegression()\n",
    "model.fit(X,y)\n",
    "\n",
    "print(model)"
   ]
  },
  {
   "cell_type": "code",
   "execution_count": 6,
   "metadata": {
    "colab": {
     "base_uri": "https://localhost:8080/",
     "height": 50
    },
    "colab_type": "code",
    "executionInfo": {
     "elapsed": 737,
     "status": "ok",
     "timestamp": 1536823314495,
     "user": {
      "displayName": "Nguyen Nam",
      "photoUrl": "https://lh3.googleusercontent.com/a/default-user=s128",
      "userId": "100974802585415237805"
     },
     "user_tz": -420
    },
    "id": "4uxJsj44xuek",
    "outputId": "60853f1c-538a-436d-ec0c-cf8941101d2e"
   },
   "outputs": [
    {
     "name": "stdout",
     "output_type": "stream",
     "text": [
      "1.5798822679853615\n",
      "3.4020306118896713\n"
     ]
    }
   ],
   "source": [
    "# parameters\n",
    "a0 = float(model.intercept_)\n",
    "a1 = float(model.coef_)\n",
    "\n",
    "print(a0)\n",
    "print(a1)"
   ]
  },
  {
   "cell_type": "code",
   "execution_count": 7,
   "metadata": {
    "colab": {
     "base_uri": "https://localhost:8080/",
     "height": 364
    },
    "colab_type": "code",
    "executionInfo": {
     "elapsed": 755,
     "status": "ok",
     "timestamp": 1536823319718,
     "user": {
      "displayName": "Nguyen Nam",
      "photoUrl": "https://lh3.googleusercontent.com/a/default-user=s128",
      "userId": "100974802585415237805"
     },
     "user_tz": -420
    },
    "id": "Rr80UsEzyD6w",
    "outputId": "2d392734-0641-4f3d-f228-413ec888107c"
   },
   "outputs": [
    {
     "data": {
      "text/plain": [
       "[<matplotlib.lines.Line2D at 0x7ffa2b1f5b00>]"
      ]
     },
     "execution_count": 7,
     "metadata": {},
     "output_type": "execute_result"
    },
    {
     "data": {
      "image/png": "[encoded data removed]",
      "text/plain": [
       "<matplotlib.figure.Figure at 0x7ffa2b1f5dd8>"
      ]
     },
     "metadata": {},
     "output_type": "display_data"
    }
   ],
   "source": [
    "x0 = 1\n",
    "y_hat0 = a0 + a1*x0\n",
    "x9 = 9\n",
    "y_hat9 = a0 + a1*x9\n",
    "\n",
    "plt.scatter(X,y)\n",
    "plt.plot([x0, x9],[y_hat0, y_hat9])"
   ]
  },
  {
   "cell_type": "code",
   "execution_count": null,
   "metadata": {},
   "outputs": [],
   "source": []
  }
 ],
 "metadata": {
  "colab": {
   "collapsed_sections": [],
   "name": "Linear Regression.ipynb",
   "provenance": [],
   "version": "0.3.2"
  },
  "kernelspec": {
   "display_name": "Python 3",
   "language": "python",
   "name": "python3"
  },
  "language_info": {
   "codemirror_mode": {
    "name": "ipython",
    "version": 3
   },
   "file_extension": ".py",
   "mimetype": "text/x-python",
   "name": "python",
   "nbconvert_exporter": "python",
   "pygments_lexer": "ipython3",
   "version": "3.6.3"
  }
 },
 "nbformat": 4,
 "nbformat_minor": 1
}
