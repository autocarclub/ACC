{
 "cells": [
  {
   "cell_type": "code",
   "execution_count": 131,
   "metadata": {},
   "outputs": [],
   "source": [
    "import numpy as np\n",
    "import matplotlib.pyplot as plt\n",
    "from sklearn.linear_model import LinearRegression\n",
    "from sklearn.metrics import mean_squared_error\n",
    "\n",
    "from sklearn.model_selection import train_test_split"
   ]
  },
  {
   "cell_type": "code",
   "execution_count": 132,
   "metadata": {},
   "outputs": [
    {
     "name": "stdout",
     "output_type": "stream",
     "text": [
      "X shape:  (20, 2)\n",
      "y shape:  (20, 1)\n"
     ]
    }
   ],
   "source": [
    "# generate data\n",
    "np.random.seed(2)\n",
    "\n",
    "# number of training examples\n",
    "m = 20\n",
    "\n",
    "# number of features \n",
    "n = 2\n",
    "\n",
    "# generate X\n",
    "X = np.random.rand(m,n)\n",
    "print(\"X shape: \", X.shape)\n",
    "\n",
    "# generate y\n",
    "y = 3*X[:,0] + 6*X[:,1] + np.random.rand(m,)\n",
    "y = y.reshape(m,1)\n",
    "\n",
    "print(\"y shape: \", y.shape)"
   ]
  },
  {
   "cell_type": "code",
   "execution_count": 133,
   "metadata": {},
   "outputs": [],
   "source": [
    "# split train and validation set\n",
    "X_train, X_val, y_train, y_val = train_test_split(X,y,test_size=0.3,random_state=2)"
   ]
  },
  {
   "cell_type": "code",
   "execution_count": 134,
   "metadata": {},
   "outputs": [
    {
     "name": "stdout",
     "output_type": "stream",
     "text": [
      "Mean squared error of training set:  0.0749273833967\n",
      "Mean squared error of validation set:  0.241659973305\n"
     ]
    }
   ],
   "source": [
    "# define model \n",
    "linear_reg = LinearRegression()\n",
    "\n",
    "# fit data\n",
    "linear_reg.fit(X_train,y_train)\n",
    "\n",
    "# evaluate accuracy\n",
    "y_train_hat = linear_reg.predict(X_train)\n",
    "mse_train = mean_squared_error(y_train_hat,y_train)\n",
    "print(\"Mean squared error of training set: \", mse_train)\n",
    "\n",
    "y_val_hat = linear_reg.predict(X_val)\n",
    "mse_val = mean_squared_error(y_val_hat,y_val)\n",
    "print(\"Mean squared error of validation set: \", mse_val)"
   ]
  },
  {
   "cell_type": "code",
   "execution_count": 135,
   "metadata": {},
   "outputs": [],
   "source": [
    "# create Xbar train\n",
    "Xbar = np.hstack([np.ones((m,1)), X])\n",
    "\n",
    "Xbar_train, Xbar_val, y_train, y_val = train_test_split(Xbar, y, test_size=0.3, random_state=2)\n"
   ]
  },
  {
   "cell_type": "code",
   "execution_count": 136,
   "metadata": {},
   "outputs": [],
   "source": [
    "# hand code\n",
    "def h(X, w):\n",
    "    return X.dot(w)\n",
    "\n",
    "def cost_and_gradients(X,y,w):\n",
    "    diff = h(X,w) - y\n",
    "    J = 1/(2*m)*np.linalg.norm(diff)**2\n",
    "    #J = 1/(2*m)*np.sum(diff**2)\n",
    "    \n",
    "    grad = 2/m * X.T.dot(diff)\n",
    "    \n",
    "    return J, grad"
   ]
  },
  {
   "cell_type": "code",
   "execution_count": 137,
   "metadata": {},
   "outputs": [
    {
     "name": "stdout",
     "output_type": "stream",
     "text": [
      "cost at iter 0: 6.367283\n",
      "cost at iter 400: 0.283841\n",
      "cost at iter 800: 0.201034\n",
      "cost at iter 1200: 0.147766\n",
      "cost at iter 1600: 0.112474\n",
      "cost at iter 2000: 0.088445\n",
      "cost at iter 2400: 0.071690\n",
      "cost at iter 2800: 0.059773\n",
      "cost at iter 3200: 0.051160\n",
      "cost at iter 3600: 0.044857\n",
      "cost at iter 4000: 0.040201\n"
     ]
    }
   ],
   "source": [
    "def train():\n",
    "    lr = 0.01\n",
    "    n_iters = 4001\n",
    "    \n",
    "    # initilize w\n",
    "    w = np.zeros(shape=(n+1,1))\n",
    "    \n",
    "    for i in range(n_iters):\n",
    "        cost, grad = cost_and_gradients(Xbar_train, y_train, w)\n",
    "        \n",
    "        if(i % 400 == 0):\n",
    "            print(\"cost at iter %d: %f\" %(i,cost))\n",
    "        \n",
    "        # update w\n",
    "        w = w - lr*grad\n",
    "        \n",
    "    return w\n",
    "\n",
    "w_trained = train()"
   ]
  },
  {
   "cell_type": "code",
   "execution_count": 138,
   "metadata": {},
   "outputs": [
    {
     "name": "stdout",
     "output_type": "stream",
     "text": [
      "0.0401910512826\n",
      "Mean squared error of training set:  0.114831575093\n",
      "Mean squared error of validation set:  0.348499790732\n"
     ]
    }
   ],
   "source": [
    "# train error\n",
    "y_train_hat = h(Xbar_train, w_trained)\n",
    "mse_train = mean_squared_error( y_true=y_train, y_pred=y_train_hat)\n",
    "\n",
    "cost_train = np.sum((y_train_hat-y_train)**2) / (2*m)\n",
    "print(cost_train)\n",
    "\n",
    "# validation error\n",
    "y_val_hat = h(Xbar_val, w_trained)\n",
    "mse_val = mean_squared_error(y_val_hat, y_val)\n",
    "\n",
    "print(\"Mean squared error of training set: \", mse_train)\n",
    "\n",
    "print(\"Mean squared error of validation set: \", mse_val)"
   ]
  },
  {
   "cell_type": "code",
   "execution_count": 139,
   "metadata": {},
   "outputs": [
    {
     "data": {
      "text/plain": [
       "(14, 1)"
      ]
     },
     "execution_count": 139,
     "metadata": {},
     "output_type": "execute_result"
    }
   ],
   "source": [
    "y_train.shape"
   ]
  },
  {
   "cell_type": "code",
   "execution_count": 140,
   "metadata": {},
   "outputs": [
    {
     "data": {
      "text/plain": [
       "(14, 1)"
      ]
     },
     "execution_count": 140,
     "metadata": {},
     "output_type": "execute_result"
    }
   ],
   "source": [
    "y_train_hat.shape"
   ]
  },
  {
   "cell_type": "code",
   "execution_count": null,
   "metadata": {},
   "outputs": [],
   "source": []
  }
 ],
 "metadata": {
  "kernelspec": {
   "display_name": "Python 3",
   "language": "python",
   "name": "python3"
  },
  "language_info": {
   "codemirror_mode": {
    "name": "ipython",
    "version": 3
   },
   "file_extension": ".py",
   "mimetype": "text/x-python",
   "name": "python",
   "nbconvert_exporter": "python",
   "pygments_lexer": "ipython3",
   "version": "3.6.3"
  }
 },
 "nbformat": 4,
 "nbformat_minor": 2
}
