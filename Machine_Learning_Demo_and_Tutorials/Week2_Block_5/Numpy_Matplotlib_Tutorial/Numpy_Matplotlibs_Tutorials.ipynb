{
 "cells": [
  {
   "cell_type": "code",
   "execution_count": 1,
   "metadata": {},
   "outputs": [],
   "source": [
    "import numpy as np\n",
    "import matplotlib.pyplot as plt"
   ]
  },
  {
   "cell_type": "markdown",
   "metadata": {},
   "source": [
    "# 1. Intro to list in python"
   ]
  },
  {
   "cell_type": "code",
   "execution_count": 2,
   "metadata": {},
   "outputs": [
    {
     "name": "stdout",
     "output_type": "stream",
     "text": [
      "[1, 2, 3, 5, 7, 0]\n"
     ]
    }
   ],
   "source": [
    "# create a list\n",
    "my_list = [1,2,3,5,7,0]\n",
    "print(my_list)"
   ]
  },
  {
   "cell_type": "code",
   "execution_count": 3,
   "metadata": {},
   "outputs": [
    {
     "name": "stdout",
     "output_type": "stream",
     "text": [
      "1\n"
     ]
    }
   ],
   "source": [
    "print(my_list[0])"
   ]
  },
  {
   "cell_type": "code",
   "execution_count": 4,
   "metadata": {},
   "outputs": [
    {
     "name": "stdout",
     "output_type": "stream",
     "text": [
      "Before: [1, 2, 3, 5, 7, 0]\n",
      "After:  [1, 2, 3, 5, 7, 0, 1]\n"
     ]
    }
   ],
   "source": [
    "# add element to the end of list\n",
    "print(\"Before:\",my_list)\n",
    "my_list.append(1)\n",
    "print(\"After: \",my_list)"
   ]
  },
  {
   "cell_type": "code",
   "execution_count": 5,
   "metadata": {},
   "outputs": [
    {
     "name": "stdout",
     "output_type": "stream",
     "text": [
      "Before: [1, 2, 3, 5, 7, 0, 1]\n",
      "After:  [1, 4, 2, 3, 5, 7, 0, 1]\n"
     ]
    }
   ],
   "source": [
    "# add element to a position of list\n",
    "# insert(a,b):    a is position, b is value you want to insert\n",
    "print(\"Before:\",my_list)\n",
    "my_list.insert(1,4)    # insert 4 at index 1\n",
    "print(\"After: \",my_list)"
   ]
  },
  {
   "cell_type": "code",
   "execution_count": 7,
   "metadata": {},
   "outputs": [
    {
     "name": "stdout",
     "output_type": "stream",
     "text": [
      "Before: [4, 2, 3, 5, 7, 0, 1]\n",
      "After:  [4, 2, 3, 7, 0, 1]\n"
     ]
    }
   ],
   "source": [
    "# remove element at a position of list\n",
    "print(\"Before:\",my_list)\n",
    "my_list.pop(3)  # remove element at index = 0\n",
    "print(\"After: \",my_list)"
   ]
  },
  {
   "cell_type": "markdown",
   "metadata": {},
   "source": [
    "# 2. Intro to numpy"
   ]
  },
  {
   "cell_type": "code",
   "execution_count": 8,
   "metadata": {},
   "outputs": [
    {
     "name": "stdout",
     "output_type": "stream",
     "text": [
      "my_list: [[1, 2], [3, 4]]\n",
      "type of my_list: <class 'list'>\n",
      "len of my_list: 2\n",
      "\n",
      "\n",
      "np_array:\n",
      " [[1 2]\n",
      " [3 4]]\n",
      "type of np_array: <class 'numpy.ndarray'>\n",
      "shape of np_array: (2, 2)\n"
     ]
    }
   ],
   "source": [
    "# create a numpy array\n",
    "## create a 2D list\n",
    "my_list = [[1, 2],\n",
    "           [3, 4]]\n",
    "\n",
    "print(\"my_list:\",my_list)\n",
    "print(\"type of my_list:\",type(my_list))\n",
    "print(\"len of my_list:\", len(my_list))\n",
    "print(\"\\n\")\n",
    "\n",
    "## create a numpy array from my_list\n",
    "np_array = np.array(my_list)\n",
    "print(\"np_array:\\n\",np_array)\n",
    "print(\"type of np_array:\",type(np_array))\n",
    "print(\"shape of np_array:\", np_array.shape)"
   ]
  },
  {
   "cell_type": "code",
   "execution_count": 9,
   "metadata": {},
   "outputs": [
    {
     "name": "stdout",
     "output_type": "stream",
     "text": [
      "mat_A's shape: (2, 3)\n",
      "mat_B's shape: (2, 3)\n",
      "mat_C's shape: (3, 2)\n"
     ]
    }
   ],
   "source": [
    "# some operations with numpy\n",
    "mat_A = np.array([[1, 2, 3],\n",
    "                  [3, 4, 5]])\n",
    "                \n",
    "mat_B = np.array([[11, 22, 33],\n",
    "                  [33, 44, 55]])\n",
    "                 \n",
    "mat_C = np.array([[10, 20],\n",
    "                  [30, 40],\n",
    "                  [50, 60]])\n",
    "\n",
    "print(\"mat_A's shape:\", mat_A.shape)\n",
    "print(\"mat_B's shape:\", mat_B.shape)\n",
    "print(\"mat_C's shape:\", mat_C.shape)"
   ]
  },
  {
   "cell_type": "code",
   "execution_count": 53,
   "metadata": {},
   "outputs": [
    {
     "name": "stdout",
     "output_type": "stream",
     "text": [
      "mat_sum:\n",
      " [[12 24 36]\n",
      " [36 48 60]]\n"
     ]
    }
   ],
   "source": [
    "# add 2 numpy arrays\n",
    "mat_sum = mat_A + mat_B\n",
    "print(\"mat_sum:\\n\", mat_sum)"
   ]
  },
  {
   "cell_type": "code",
   "execution_count": 55,
   "metadata": {},
   "outputs": [
    {
     "name": "stdout",
     "output_type": "stream",
     "text": [
      "mat_diff:\n",
      " [[10 20 30]\n",
      " [30 40 50]]\n"
     ]
    }
   ],
   "source": [
    "# subtract 2 numpy arrays\n",
    "mat_diff = mat_B - mat_A\n",
    "print(\"mat_diff:\\n\", mat_diff)"
   ]
  },
  {
   "cell_type": "code",
   "execution_count": 62,
   "metadata": {},
   "outputs": [
    {
     "name": "stdout",
     "output_type": "stream",
     "text": [
      "mat_mul_BC:\n",
      " [[2420 3080]\n",
      " [4400 5720]] \n",
      "shape: (2, 2) \n",
      "\n",
      "mat_mul_CB:\n",
      " [[ 770 1100 1430]\n",
      " [1650 2420 3190]\n",
      " [2530 3740 4950]] \n",
      "shape: (3, 3)\n"
     ]
    }
   ],
   "source": [
    "# multiply 2 numpy arrays\n",
    "mat_mul_BC = mat_B.dot(mat_C)\n",
    "print(\"mat_mul_BC:\\n\", mat_mul_BC,\"\\nshape:\", mat_mul_BC.shape, \"\\n\")\n",
    "mat_mul_CB = mat_C.dot(mat_B)\n",
    "print(\"mat_mul_CB:\\n\", mat_mul_CB, \"\\nshape:\", mat_mul_CB.shape)"
   ]
  },
  {
   "cell_type": "code",
   "execution_count": 63,
   "metadata": {},
   "outputs": [
    {
     "name": "stdout",
     "output_type": "stream",
     "text": [
      "mat_mul_scalar:\n",
      " [[110 220 330]\n",
      " [330 440 550]] \n",
      "shape: (2, 3) \n",
      "\n"
     ]
    }
   ],
   "source": [
    "# multiply a numpy array with a scalar\n",
    "mat_mul_scalar = mat_B * 10\n",
    "print(\"mat_mul_scalar:\\n\", mat_mul_scalar,\"\\nshape:\", mat_mul_scalar.shape, \"\\n\")"
   ]
  },
  {
   "cell_type": "code",
   "execution_count": 64,
   "metadata": {},
   "outputs": [
    {
     "name": "stdout",
     "output_type": "stream",
     "text": [
      "mat_mul_bitwise:\n",
      " [[ 11  44  99]\n",
      " [ 99 176 275]] \n",
      "shape: (2, 3) \n",
      "\n"
     ]
    }
   ],
   "source": [
    "# bitwise multiply between 2 numpy arrays\n",
    "mat_mul_bitwise = mat_A * mat_B\n",
    "print(\"mat_mul_bitwise:\\n\", mat_mul_bitwise,\"\\nshape:\", mat_mul_bitwise.shape, \"\\n\")"
   ]
  },
  {
   "cell_type": "code",
   "execution_count": 71,
   "metadata": {},
   "outputs": [
    {
     "name": "stdout",
     "output_type": "stream",
     "text": [
      "mat_A_pow_2:\n",
      " [[ 1  4  9]\n",
      " [ 9 16 25]] \n",
      "\n",
      "mat_A_sqrt:\n",
      " [[ 1.          1.41421356  1.73205081]\n",
      " [ 1.73205081  2.          2.23606798]]\n"
     ]
    }
   ],
   "source": [
    "# function on each element\n",
    "mat_A_pow_2 = np.power(mat_A, 2)\n",
    "print(\"mat_A_pow_2:\\n\",mat_A_pow_2, \"\\n\")\n",
    "mat_A_sqrt = np.sqrt(mat_A)\n",
    "print(\"mat_A_sqrt:\\n\", mat_A_sqrt)"
   ]
  },
  {
   "cell_type": "markdown",
   "metadata": {},
   "source": [
    "# 3. Intro to matplotlib.pyplot"
   ]
  },
  {
   "cell_type": "code",
   "execution_count": 78,
   "metadata": {},
   "outputs": [
    {
     "data": {
      "image/png": "[encoded data removed]",
      "text/plain": [
       "<matplotlib.figure.Figure at 0x7fbec02c11d0>"
      ]
     },
     "metadata": {},
     "output_type": "display_data"
    },
    {
     "data": {
      "image/png": "[encoded data removed]",
      "text/plain": [
       "<matplotlib.figure.Figure at 0x7fbec028de80>"
      ]
     },
     "metadata": {},
     "output_type": "display_data"
    }
   ],
   "source": [
    "# using data from list\n",
    "list_x = [1,2,3,4,5,6]\n",
    "list_y = [3,15,7,9,4,13]\n",
    "\n",
    "# using plot \n",
    "plt.plot(list_x, list_y)\n",
    "plt.show()\n",
    "\n",
    "# using scatter\n",
    "plt.scatter(list_x, list_y)\n",
    "plt.show()"
   ]
  },
  {
   "cell_type": "code",
   "execution_count": 79,
   "metadata": {},
   "outputs": [
    {
     "data": {
      "image/png": "[encoded data removed]",
      "text/plain": [
       "<matplotlib.figure.Figure at 0x7fbec16dff98>"
      ]
     },
     "metadata": {},
     "output_type": "display_data"
    },
    {
     "data": {
      "image/png": "[encoded data removed]",
      "text/plain": [
       "<matplotlib.figure.Figure at 0x7fbec01d9048>"
      ]
     },
     "metadata": {},
     "output_type": "display_data"
    }
   ],
   "source": [
    "# using data from numpy array\n",
    "np_x = np.array(list_x)\n",
    "np_y = np.array(list_y)\n",
    "\n",
    "# using plot \n",
    "plt.plot(np_x, np_y)\n",
    "plt.show()\n",
    "\n",
    "# using scatter\n",
    "plt.scatter(np_x, np_y)\n",
    "plt.show()"
   ]
  },
  {
   "cell_type": "code",
   "execution_count": null,
   "metadata": {},
   "outputs": [],
   "source": []
  }
 ],
 "metadata": {
  "kernelspec": {
   "display_name": "Python 3",
   "language": "python",
   "name": "python3"
  },
  "language_info": {
   "codemirror_mode": {
    "name": "ipython",
    "version": 3
   },
   "file_extension": ".py",
   "mimetype": "text/x-python",
   "name": "python",
   "nbconvert_exporter": "python",
   "pygments_lexer": "ipython3",
   "version": "3.6.3"
  }
 },
 "nbformat": 4,
 "nbformat_minor": 2
}
