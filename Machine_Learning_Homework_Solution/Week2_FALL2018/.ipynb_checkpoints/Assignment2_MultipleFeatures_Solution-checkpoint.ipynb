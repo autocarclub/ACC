{
 "cells": [
  {
   "cell_type": "code",
   "execution_count": 1,
   "metadata": {
    "colab": {},
    "colab_type": "code",
    "id": "UDUm2uygr23c"
   },
   "outputs": [],
   "source": [
    "import numpy as np\n",
    "import matplotlib.pyplot as plt\n"
   ]
  },
  {
   "cell_type": "code",
   "execution_count": 2,
   "metadata": {
    "colab": {
     "base_uri": "https://localhost:8080/",
     "height": 34
    },
    "colab_type": "code",
    "executionInfo": {
     "elapsed": 789,
     "status": "ok",
     "timestamp": 1529147082182,
     "user": {
      "displayName": "Nguyen Nam",
      "photoUrl": "https://lh3.googleusercontent.com/a/default-user=s128",
      "userId": "100974802585415237805"
     },
     "user_tz": -420
    },
    "id": "q5jGPJc7tsU-",
    "outputId": "506150b9-5d8d-46ea-b001-ee4771c47cbe"
   },
   "outputs": [
    {
     "name": "stdout",
     "output_type": "stream",
     "text": [
      "(47, 2)\n"
     ]
    }
   ],
   "source": [
    "#read data from txt\n",
    "mat = np.loadtxt('ex1data2.txt',delimiter=',')\n",
    "\n",
    "X = mat[:,0:2]\n",
    "y = mat[:,2]\n",
    "print(X.shape)\n",
    "\n",
    "# m: number of training examples\n",
    "m = len(y)\n",
    "# n: number of features\n",
    "n = X.shape[1]\n",
    "\n",
    "X = X.reshape(m,n)\n",
    "y = y.reshape(m,1)\n",
    "\n",
    "#initialize w\n",
    "w = np.zeros((n+1,1))\n",
    "\n"
   ]
  },
  {
   "cell_type": "code",
   "execution_count": 3,
   "metadata": {
    "colab": {},
    "colab_type": "code",
    "id": "sW7P-yxCv6U2"
   },
   "outputs": [
    {
     "data": {
      "image/png": "[encoded data removed]",
      "text/plain": [
       "<matplotlib.figure.Figure at 0x7fb60086bac8>"
      ]
     },
     "metadata": {},
     "output_type": "display_data"
    }
   ],
   "source": [
    "# plot data\n",
    "def plot_data(X,y):\n",
    "    plt.figure(figsize=(12,6))\n",
    "    \n",
    "    plt.subplot(1, 2, 1)\n",
    "    plt.title('Distribution of each feature of X paired with y')\n",
    "    plt.plot(X[:,0], y, 'ro')\n",
    "    plt.xlabel('feature 0 of X')\n",
    "    plt.ylabel('y')\n",
    "\n",
    "    plt.subplot(1, 2, 2)\n",
    "    plt.plot(X[:,1], y, 'bo')\n",
    "    plt.xlabel('feature 1 of X')\n",
    "    plt.ylabel('y')\n",
    "    \n",
    "  \n",
    "plot_data(X,y)"
   ]
  },
  {
   "cell_type": "code",
   "execution_count": 4,
   "metadata": {
    "colab": {
     "base_uri": "https://localhost:8080/",
     "height": 806
    },
    "colab_type": "code",
    "executionInfo": {
     "elapsed": 1023,
     "status": "ok",
     "timestamp": 1529147083269,
     "user": {
      "displayName": "Nguyen Nam",
      "photoUrl": "https://lh3.googleusercontent.com/a/default-user=s128",
      "userId": "100974802585415237805"
     },
     "user_tz": -420
    },
    "id": "uGVTEcBFCZbq",
    "outputId": "4ad16787-de55-45fd-9b7a-c338306a8b98"
   },
   "outputs": [
    {
     "name": "stdout",
     "output_type": "stream",
     "text": [
      "[[  1.31415422e-01  -2.26093368e-01]\n",
      " [ -5.09640698e-01  -2.26093368e-01]\n",
      " [  5.07908699e-01  -2.26093368e-01]\n",
      " [ -7.43677059e-01  -1.55439190e+00]\n",
      " [  1.27107075e+00   1.10220517e+00]\n",
      " [ -1.99450507e-02   1.10220517e+00]\n",
      " [ -5.93588523e-01  -2.26093368e-01]\n",
      " [ -7.29685755e-01  -2.26093368e-01]\n",
      " [ -7.89466782e-01  -2.26093368e-01]\n",
      " [ -6.44465993e-01  -2.26093368e-01]\n",
      " [ -7.71822042e-02   1.10220517e+00]\n",
      " [ -8.65999486e-04  -2.26093368e-01]\n",
      " [ -1.40779041e-01  -2.26093368e-01]\n",
      " [  3.15099326e+00   2.43050370e+00]\n",
      " [ -9.31923697e-01  -2.26093368e-01]\n",
      " [  3.80715024e-01   1.10220517e+00]\n",
      " [ -8.65782986e-01  -1.55439190e+00]\n",
      " [ -9.72625673e-01  -2.26093368e-01]\n",
      " [  7.73743478e-01   1.10220517e+00]\n",
      " [  1.31050078e+00   1.10220517e+00]\n",
      " [ -2.97227261e-01  -2.26093368e-01]\n",
      " [ -1.43322915e-01  -1.55439190e+00]\n",
      " [ -5.04552951e-01  -2.26093368e-01]\n",
      " [ -4.91995958e-02   1.10220517e+00]\n",
      " [  2.40309445e+00  -2.26093368e-01]\n",
      " [ -1.14560907e+00  -2.26093368e-01]\n",
      " [ -6.90255715e-01  -2.26093368e-01]\n",
      " [  6.68172729e-01  -2.26093368e-01]\n",
      " [  2.53521350e-01  -2.26093368e-01]\n",
      " [  8.09357707e-01  -2.26093368e-01]\n",
      " [ -2.05647815e-01  -1.55439190e+00]\n",
      " [ -1.27280274e+00  -2.88269044e+00]\n",
      " [  5.00114703e-02   1.10220517e+00]\n",
      " [  1.44532608e+00  -2.26093368e-01]\n",
      " [ -2.41262044e-01   1.10220517e+00]\n",
      " [ -7.16966387e-01  -2.26093368e-01]\n",
      " [ -9.68809863e-01  -2.26093368e-01]\n",
      " [  1.67029651e-01   1.10220517e+00]\n",
      " [  2.81647389e+00   1.10220517e+00]\n",
      " [  2.05187753e-01   1.10220517e+00]\n",
      " [ -4.28236746e-01  -1.55439190e+00]\n",
      " [  3.01854946e-01  -2.26093368e-01]\n",
      " [  7.20322135e-01   1.10220517e+00]\n",
      " [ -1.01841540e+00  -2.26093368e-01]\n",
      " [ -1.46104938e+00  -1.55439190e+00]\n",
      " [ -1.89112638e-01   1.10220517e+00]\n",
      " [ -1.01459959e+00  -2.26093368e-01]]\n"
     ]
    }
   ],
   "source": [
    "#feature normalize\n",
    "def feature_normalize(X):\n",
    "    mean = np.mean(X,axis=0)\n",
    "    stddev = np.std(X, axis=0)\n",
    "  \n",
    "    X_norm = (X-mean)/stddev\n",
    "  \n",
    "    return X_norm, mean, stddev\n",
    "\n",
    "\n",
    "X, mean_X, stddev_X = feature_normalize(X)\n",
    "y, mean_y, stddev_y = feature_normalize(y)\n",
    "\n",
    "print(X)"
   ]
  },
  {
   "cell_type": "code",
   "execution_count": 5,
   "metadata": {
    "colab": {
     "base_uri": "https://localhost:8080/",
     "height": 806
    },
    "colab_type": "code",
    "executionInfo": {
     "elapsed": 999,
     "status": "ok",
     "timestamp": 1529147085393,
     "user": {
      "displayName": "Nguyen Nam",
      "photoUrl": "https://lh3.googleusercontent.com/a/default-user=s128",
      "userId": "100974802585415237805"
     },
     "user_tz": -420
    },
    "id": "sJmwA1ZUw0Yy",
    "outputId": "4f0d0cb6-a987-4563-e34c-a1393eb56daa"
   },
   "outputs": [
    {
     "name": "stdout",
     "output_type": "stream",
     "text": [
      "(47, 3)\n"
     ]
    }
   ],
   "source": [
    "#append vector of all 1 to X\n",
    "vector_ones = np.ones((m,1)) \n",
    "X = np.append(vector_ones, X, axis = 1)\n",
    "\n",
    "print(X.shape)"
   ]
  },
  {
   "cell_type": "code",
   "execution_count": 6,
   "metadata": {
    "colab": {},
    "colab_type": "code",
    "id": "XGdQ0_Cp08kM"
   },
   "outputs": [],
   "source": [
    "#compute cost and gradient\n",
    "def compute_cost_and_gradient(X,y, w):\n",
    "    hX = X.dot(w)\n",
    "    diff = hX - y   #diff or also y_hat\n",
    "    J = 1.0/(2*m)*np.linalg.norm(diff)**2\n",
    "    \n",
    "    \n",
    "    grad = 1.0/m*X.T.dot(diff)\n",
    "    return J, grad\n",
    "  \n"
   ]
  },
  {
   "cell_type": "code",
   "execution_count": 7,
   "metadata": {
    "colab": {
     "base_uri": "https://localhost:8080/",
     "height": 67
    },
    "colab_type": "code",
    "executionInfo": {
     "elapsed": 866,
     "status": "ok",
     "timestamp": 1529147087168,
     "user": {
      "displayName": "Nguyen Nam",
      "photoUrl": "https://lh3.googleusercontent.com/a/default-user=s128",
      "userId": "100974802585415237805"
     },
     "user_tz": -420
    },
    "id": "2D5aaQHB2T1s",
    "outputId": "764a9c8f-4f8c-48d2-d09c-a3ffe5e5e4d4"
   },
   "outputs": [
    {
     "name": "stdout",
     "output_type": "stream",
     "text": [
      "Now tesing cost with w = [-1,2, 3]\n",
      "This value should be about 7.82\n",
      "Cost computed by your function: 7.823044689123239\n"
     ]
    }
   ],
   "source": [
    "#Test function compute_cost_and_gradient with w = [-1,2, 3]\n",
    "print(\"Now tesing cost with w = [-1,2, 3]\\nThis value should be about 7.82\")\n",
    "cost, grad = compute_cost_and_gradient(X,y, np.array([-1,2,3]).reshape(3,1))\n",
    "print(\"Cost computed by your function: {}\".format(cost))\n"
   ]
  },
  {
   "cell_type": "code",
   "execution_count": 8,
   "metadata": {
    "colab": {
     "base_uri": "https://localhost:8080/",
     "height": 571
    },
    "colab_type": "code",
    "executionInfo": {
     "elapsed": 817,
     "status": "ok",
     "timestamp": 1529147252331,
     "user": {
      "displayName": "Nguyen Nam",
      "photoUrl": "https://lh3.googleusercontent.com/a/default-user=s128",
      "userId": "100974802585415237805"
     },
     "user_tz": -420
    },
    "id": "0xm5kE9n6k85",
    "outputId": "b9d736b4-4433-4666-9e10-e6215f63ee11"
   },
   "outputs": [
    {
     "name": "stdout",
     "output_type": "stream",
     "text": [
      "Cost at iteration 0 : 0.5\n",
      "Cost at iteration 50 : 0.2517756317131743\n",
      "Cost at iteration 100 : 0.1852095166088632\n",
      "Cost at iteration 150 : 0.16171485631538346\n",
      "Cost at iteration 200 : 0.15061173588265697\n",
      "Cost at iteration 250 : 0.144301118524218\n",
      "Cost at iteration 300 : 0.1404138432972991\n",
      "Cost at iteration 350 : 0.13794870098105805\n",
      "Cost at iteration 400 : 0.13637010283773102\n",
      "Cost at iteration 450 : 0.13535599467793763\n",
      "Cost at iteration 500 : 0.1347038483763095\n",
      "Cost at iteration 550 : 0.13428433042785287\n",
      "Cost at iteration 600 : 0.13401443049425968\n",
      "Cost at iteration 650 : 0.13384078237468228\n",
      "Cost at iteration 700 : 0.13372905946039\n",
      "Cost at iteration 750 : 0.1336571781482812\n",
      "Cost at iteration 800 : 0.13361093043726577\n",
      "Cost at iteration 850 : 0.13358117511539044\n",
      "Cost at iteration 900 : 0.1335620308319675\n",
      "Cost at iteration 950 : 0.1335497135865463\n",
      "Cost at iteration 1000 : 0.13354178879075576\n",
      "Cost at iteration 1050 : 0.13353669005427451\n",
      "Cost at iteration 1100 : 0.13353340957684312\n",
      "Cost at iteration 1150 : 0.13353129894958832\n",
      "Cost at iteration 1200 : 0.1335299409925523\n",
      "Cost at iteration 1250 : 0.1335290672962104\n",
      "Cost at iteration 1300 : 0.1335285051684864\n",
      "Cost at iteration 1350 : 0.13352814350097922\n",
      "Cost at iteration 1400 : 0.13352791080762466\n",
      "Cost at iteration 1450 : 0.13352776109498476\n",
      "w after training: [[ -8.18730426e-17]\n",
      " [  8.84137547e-01]\n",
      " [ -5.25503786e-02]]\n"
     ]
    }
   ],
   "source": [
    "#Start training\n",
    "iteration = 1500\n",
    "lnr = 0.01\n",
    "\n",
    "\n",
    "def train(iteration):\n",
    "    global w\n",
    "    for i in range(0,iteration):\n",
    "        cost, grad = compute_cost_and_gradient(X,y, w)\n",
    "        if(i % 50 == 0):\n",
    "            print(\"Cost at iteration {} : {}\".format(i, cost))\n",
    "    \n",
    "        #update w\n",
    "        w = w - lnr*grad\n",
    "    \n",
    "\n",
    "train(iteration)\n",
    "print(\"w after training: {}\".format(w))\n",
    "  "
   ]
  },
  {
   "cell_type": "code",
   "execution_count": 9,
   "metadata": {},
   "outputs": [
    {
     "name": "stdout",
     "output_type": "stream",
     "text": [
      "Your prediction on training examples  6: -0.513. \tActual label is: -0.206\n",
      "Your prediction on training examples 41: 0.279. \tActual label is: -0.085\n",
      "Your prediction on training examples  5: -0.076. \tActual label is: -0.328\n",
      "Your prediction on training examples 31: -0.974. \tActual label is: -1.378\n",
      "Your prediction on training examples 11: 0.011. \tActual label is: 0.053\n"
     ]
    }
   ],
   "source": [
    "# perform some prediction on training set\n",
    "\n",
    "def predict(x, w):\n",
    "    '''This function compute y_predict = cross product of x and w'''\n",
    "    return x.dot(w) \n",
    "\n",
    "\n",
    "# choose 5 random training examples\n",
    "indices = np.random.permutation(m)[:5]\n",
    "for idx in indices:\n",
    "    x = X[idx, :]\n",
    "    y_predict = float(predict(x, w))\n",
    "    y_true = float(y[idx,:])\n",
    "    print(\"Your prediction on training examples %2d: %4.03f. \\tActual label is: %.03f\"%(idx, y_predict, y_true))"
   ]
  },
  {
   "cell_type": "code",
   "execution_count": null,
   "metadata": {},
   "outputs": [],
   "source": []
  },
  {
   "cell_type": "code",
   "execution_count": null,
   "metadata": {},
   "outputs": [],
   "source": []
  }
 ],
 "metadata": {
  "colab": {
   "collapsed_sections": [],
   "name": "Assignment1_MultipleFeatures.ipynb",
   "provenance": [],
   "toc_visible": true,
   "version": "0.3.2"
  },
  "kernelspec": {
   "display_name": "Python 3",
   "language": "python",
   "name": "python3"
  },
  "language_info": {
   "codemirror_mode": {
    "name": "ipython",
    "version": 3
   },
   "file_extension": ".py",
   "mimetype": "text/x-python",
   "name": "python",
   "nbconvert_exporter": "python",
   "pygments_lexer": "ipython3",
   "version": "3.6.3"
  }
 },
 "nbformat": 4,
 "nbformat_minor": 1
}
