{
 "cells": [
  {
   "cell_type": "code",
   "execution_count": 1,
   "metadata": {
    "colab": {
     "autoexec": {
      "startup": false,
      "wait_interval": 0
     }
    },
    "colab_type": "code",
    "id": "UDUm2uygr23c"
   },
   "outputs": [],
   "source": [
    "import numpy as np\n",
    "import matplotlib.pyplot as plt\n"
   ]
  },
  {
   "cell_type": "code",
   "execution_count": 2,
   "metadata": {
    "colab": {
     "autoexec": {
      "startup": false,
      "wait_interval": 0
     }
    },
    "colab_type": "code",
    "id": "q5jGPJc7tsU-"
   },
   "outputs": [],
   "source": [
    "#read data from txt\n",
    "mat = np.loadtxt('ex1data1.txt',delimiter=',')\n",
    "X = mat[:,0]\n",
    "y = mat[:,1]\n",
    "\n",
    "# m: number of training examples\n",
    "m = len(y)\n",
    "\n",
    "X = X.reshape(m,1)\n",
    "y = y.reshape(m,1)\n",
    "\n",
    "#initialize w\n",
    "w = np.zeros((2,1))\n"
   ]
  },
  {
   "cell_type": "code",
   "execution_count": 3,
   "metadata": {
    "colab": {
     "autoexec": {
      "startup": false,
      "wait_interval": 0
     },
     "base_uri": "https://localhost:8080/",
     "height": 347
    },
    "colab_type": "code",
    "executionInfo": {
     "elapsed": 762,
     "status": "ok",
     "timestamp": 1529258229889,
     "user": {
      "displayName": "Nguyen Nam",
      "photoUrl": "https://lh3.googleusercontent.com/a/default-user=s128",
      "userId": "100974802585415237805"
     },
     "user_tz": -420
    },
    "id": "sW7P-yxCv6U2",
    "outputId": "c1c633d3-9de3-4ba1-d2fd-20d7f2543ece"
   },
   "outputs": [
    {
     "data": {
      "image/png": "[encoded data removed]",
      "text/plain": [
       "<matplotlib.figure.Figure at 0x7f8b7b027358>"
      ]
     },
     "metadata": {},
     "output_type": "display_data"
    }
   ],
   "source": [
    "#plot data\n",
    "def plot_data(X,y):\n",
    "    plt.scatter(X,y)\n",
    "  \n",
    "plot_data(X,y)"
   ]
  },
  {
   "cell_type": "code",
   "execution_count": 4,
   "metadata": {
    "colab": {
     "autoexec": {
      "startup": false,
      "wait_interval": 0
     }
    },
    "colab_type": "code",
    "id": "sJmwA1ZUw0Yy"
   },
   "outputs": [],
   "source": [
    "#append vector of all 1 to X\n",
    "vector_ones = np.ones((m,1)) \n",
    "X = np.append(vector_ones, X, axis = 1)"
   ]
  },
  {
   "cell_type": "code",
   "execution_count": 5,
   "metadata": {
    "colab": {
     "autoexec": {
      "startup": false,
      "wait_interval": 0
     }
    },
    "colab_type": "code",
    "id": "XGdQ0_Cp08kM"
   },
   "outputs": [],
   "source": [
    "#compute cost and gradient\n",
    "def compute_cost_and_gradient(X,y, w):\n",
    "    ''' J: cost,  grad: gradients \n",
    "        This function is to compute cost and gradients with respect to current w\n",
    "        with matrix operations, please not using for loop\n",
    "    '''\n",
    "    hX = X.dot(w)\n",
    "    diff = hX - y   #diff or also y_hat\n",
    "    J = 1.0/(2*m)*np.linalg.norm(diff)**2\n",
    "    \n",
    "    \n",
    "    grad = 1.0/m*X.T.dot(diff)\n",
    "    \n",
    "    return J, grad\n",
    "  "
   ]
  },
  {
   "cell_type": "code",
   "execution_count": 6,
   "metadata": {
    "colab": {
     "autoexec": {
      "startup": false,
      "wait_interval": 0
     },
     "base_uri": "https://localhost:8080/",
     "height": 67
    },
    "colab_type": "code",
    "executionInfo": {
     "elapsed": 1051,
     "status": "ok",
     "timestamp": 1529142089440,
     "user": {
      "displayName": "Nguyen Nam",
      "photoUrl": "https://lh3.googleusercontent.com/a/default-user=s128",
      "userId": "100974802585415237805"
     },
     "user_tz": -420
    },
    "id": "2D5aaQHB2T1s",
    "outputId": "10cc72ad-b536-40a2-e58c-ea4a9ed0883e"
   },
   "outputs": [
    {
     "name": "stdout",
     "output_type": "stream",
     "text": [
      "Now tesing cost with w = [-1,2]\n",
      "This value should be about 54.242\n",
      "Cost computed by your function: 54.24245508201236\n"
     ]
    }
   ],
   "source": [
    "#Test function compute_cost_and_gradient with w = [-1,2]\n",
    "w = np.array([-1,2]).reshape(2,1)\n",
    "print(\"Now tesing cost with w = [-1,2]\\nThis value should be about 54.242\")\n",
    "cost, grad = compute_cost_and_gradient(X,y, w)\n",
    "print(\"Cost computed by your function: {}\".format(cost))\n"
   ]
  },
  {
   "cell_type": "code",
   "execution_count": 7,
   "metadata": {
    "colab": {
     "autoexec": {
      "startup": false,
      "wait_interval": 0
     },
     "base_uri": "https://localhost:8080/",
     "height": 554
    },
    "colab_type": "code",
    "executionInfo": {
     "elapsed": 1015,
     "status": "ok",
     "timestamp": 1529142545668,
     "user": {
      "displayName": "Nguyen Nam",
      "photoUrl": "https://lh3.googleusercontent.com/a/default-user=s128",
      "userId": "100974802585415237805"
     },
     "user_tz": -420
    },
    "id": "0xm5kE9n6k85",
    "outputId": "65f45adb-c628-44c1-816a-58ffb54c04de"
   },
   "outputs": [
    {
     "name": "stdout",
     "output_type": "stream",
     "text": [
      "Cost at iteration 0 : 54.24245508201236\n",
      "Cost at iteration 50 : 5.067198171476362\n",
      "Cost at iteration 100 : 4.969762113763373\n",
      "Cost at iteration 150 : 4.888411034595941\n",
      "Cost at iteration 200 : 4.82048958706365\n",
      "Cost at iteration 250 : 4.763780775304847\n",
      "Cost at iteration 300 : 4.716433590462139\n",
      "Cost at iteration 350 : 4.676902592668285\n",
      "Cost at iteration 400 : 4.643897466983003\n",
      "Cost at iteration 450 : 4.616340906756979\n",
      "Cost at iteration 500 : 4.593333449711324\n",
      "Cost at iteration 550 : 4.574124118961555\n",
      "Cost at iteration 600 : 4.558085910691872\n",
      "Cost at iteration 650 : 4.544695328383072\n",
      "Cost at iteration 700 : 4.533515295579302\n",
      "Cost at iteration 750 : 4.524180889456335\n",
      "Cost at iteration 800 : 4.51638742952667\n",
      "Cost at iteration 850 : 4.509880532689836\n",
      "Cost at iteration 900 : 4.504447810018863\n",
      "Cost at iteration 950 : 4.499911934261216\n",
      "Cost at iteration 1000 : 4.496124851773325\n",
      "Cost at iteration 1050 : 4.492962949962873\n",
      "Cost at iteration 1100 : 4.490323022501322\n",
      "Cost at iteration 1150 : 4.488118900608856\n",
      "Cost at iteration 1200 : 4.486278640454889\n",
      "Cost at iteration 1250 : 4.484742174869274\n",
      "Cost at iteration 1300 : 4.483459352714651\n",
      "Cost at iteration 1350 : 4.482388301923928\n",
      "Cost at iteration 1400 : 4.481494062771466\n",
      "Cost at iteration 1450 : 4.480747446767143\n",
      "w after training: [[-3.70968912]\n",
      " [ 1.17433871]]\n"
     ]
    }
   ],
   "source": [
    "#Start training\n",
    "iteration = 1500\n",
    "lnr = 0.01\n",
    "\n",
    "\n",
    "def train(iteration):\n",
    "    global w\n",
    "    for i in range(0,iteration):\n",
    "        cost, grad = compute_cost_and_gradient(X,y, w)\n",
    "        if(i % 50 == 0):\n",
    "            print(\"Cost at iteration {} : {}\".format(i, cost))\n",
    "    \n",
    "        #update w\n",
    "        w = w - lnr*grad\n",
    "    \n",
    "\n",
    "train(iteration)\n",
    "print(\"w after training: {}\".format(w))\n",
    "  "
   ]
  },
  {
   "cell_type": "code",
   "execution_count": 8,
   "metadata": {
    "colab": {
     "autoexec": {
      "startup": false,
      "wait_interval": 0
     },
     "base_uri": "https://localhost:8080/",
     "height": 364
    },
    "colab_type": "code",
    "executionInfo": {
     "elapsed": 926,
     "status": "ok",
     "timestamp": 1529142459930,
     "user": {
      "displayName": "Nguyen Nam",
      "photoUrl": "https://lh3.googleusercontent.com/a/default-user=s128",
      "userId": "100974802585415237805"
     },
     "user_tz": -420
    },
    "id": "0vs8_V2e-THY",
    "outputId": "aceebc23-3332-48ff-c9ad-eeaa9cd956c6"
   },
   "outputs": [
    {
     "data": {
      "text/plain": [
       "[<matplotlib.lines.Line2D at 0x7f8b781307f0>]"
      ]
     },
     "execution_count": 8,
     "metadata": {},
     "output_type": "execute_result"
    },
    {
     "data": {
      "image/png": "[encoded data removed]",
      "text/plain": [
       "<matplotlib.figure.Figure at 0x7f8b7812b278>"
      ]
     },
     "metadata": {},
     "output_type": "display_data"
    }
   ],
   "source": [
    "#plot data and fit line\n",
    "plot_data(X[:,1],y)\n",
    "\n",
    "y_hat = np.dot(X,w)\n",
    "\n",
    "plt.plot(X[:,1], y_hat, 'g')"
   ]
  },
  {
   "cell_type": "code",
   "execution_count": 9,
   "metadata": {},
   "outputs": [
    {
     "name": "stdout",
     "output_type": "stream",
     "text": [
      "Your prediction on training examples 61: 2.373. \tActual label is: -0.743\n",
      "Your prediction on training examples  8: 3.907. \tActual label is: 6.599\n",
      "Your prediction on training examples 75: 3.980. \tActual label is: 0.297\n",
      "Your prediction on training examples 43: 3.071. \tActual label is: 2.441\n",
      "Your prediction on training examples 29: 22.364. \tActual label is: 24.147\n"
     ]
    }
   ],
   "source": [
    "# perform some prediction on training set\n",
    "def predict(x, w):\n",
    "    '''This function compute y_predict = cross product of x and w'''\n",
    "    return x.dot(w)\n",
    "\n",
    "# choose 5 random training examples\n",
    "indices = np.random.permutation(m)[:5]\n",
    "for idx in indices:\n",
    "    x = X[idx, :]\n",
    "    y_predict = float(predict(x, w))\n",
    "    y_true = float(y[idx,:])\n",
    "    print(\"Your prediction on training examples %2d: %4.03f. \\tActual label is: %.03f\"%(idx, y_predict, y_true))"
   ]
  },
  {
   "cell_type": "code",
   "execution_count": null,
   "metadata": {},
   "outputs": [],
   "source": []
  },
  {
   "cell_type": "code",
   "execution_count": null,
   "metadata": {},
   "outputs": [],
   "source": []
  },
  {
   "cell_type": "code",
   "execution_count": null,
   "metadata": {},
   "outputs": [],
   "source": []
  }
 ],
 "metadata": {
  "colab": {
   "collapsed_sections": [],
   "default_view": {},
   "name": "Assignment1.ipynb",
   "provenance": [],
   "toc_visible": true,
   "version": "0.3.2",
   "views": {}
  },
  "kernelspec": {
   "display_name": "Python 3",
   "language": "python",
   "name": "python3"
  },
  "language_info": {
   "codemirror_mode": {
    "name": "ipython",
    "version": 3
   },
   "file_extension": ".py",
   "mimetype": "text/x-python",
   "name": "python",
   "nbconvert_exporter": "python",
   "pygments_lexer": "ipython3",
   "version": "3.6.3"
  }
 },
 "nbformat": 4,
 "nbformat_minor": 1
}
