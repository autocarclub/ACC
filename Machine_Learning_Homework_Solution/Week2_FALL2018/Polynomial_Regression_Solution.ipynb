{
 "cells": [
  {
   "cell_type": "code",
   "execution_count": 1,
   "metadata": {},
   "outputs": [],
   "source": [
    "import numpy as np\n",
    "import matplotlib.pyplot as plt\n",
    "from sklearn.linear_model import LinearRegression\n",
    "from sklearn.metrics import mean_squared_error"
   ]
  },
  {
   "cell_type": "markdown",
   "metadata": {},
   "source": [
    "# 1. Generate data:\n",
    "- We only generate X with 1 feature\n",
    "- Number of training examples is 20"
   ]
  },
  {
   "cell_type": "code",
   "execution_count": 2,
   "metadata": {},
   "outputs": [
    {
     "name": "stdout",
     "output_type": "stream",
     "text": [
      "X shape:  (20, 1)\n",
      "y shape:  (20, 1)\n"
     ]
    }
   ],
   "source": [
    "# generate data\n",
    "m = 20\n",
    "np.random.seed(2)\n",
    "\n",
    "X = np.arange(-1,1,0.1).reshape(m,1)\n",
    "\n",
    "y = X**2 + 0.5*X + 3 + 0.1*np.random.randn(m,1)\n",
    "\n",
    "print(\"X shape: \", X.shape)\n",
    "print(\"y shape: \", y.shape)"
   ]
  },
  {
   "cell_type": "code",
   "execution_count": 3,
   "metadata": {},
   "outputs": [
    {
     "data": {
      "image/png": "[encoded data removed]",
      "text/plain": [
       "<matplotlib.figure.Figure at 0x7f91f1ade438>"
      ]
     },
     "metadata": {},
     "output_type": "display_data"
    }
   ],
   "source": [
    "plt.scatter(X,y)\n",
    "plt.show()"
   ]
  },
  {
   "cell_type": "markdown",
   "metadata": {},
   "source": [
    "# 2. Generate polynomial feature\n",
    "- We use poly = 3 to denote maximun number of polynomial we use is X^3\n",
    "- You have to create X_poly = [1, X, X^2, X^3], which has shape (m, 4)"
   ]
  },
  {
   "cell_type": "code",
   "execution_count": 4,
   "metadata": {},
   "outputs": [],
   "source": [
    "X_poly = None\n",
    "\n",
    "# edit this to assign proper value to X_poly\n",
    "# =============== YOUR CODE HERE ================\n",
    "X_poly = np.column_stack([X**0, X**1, X**2, X**3])\n",
    "\n",
    "# ==============================================="
   ]
  },
  {
   "cell_type": "markdown",
   "metadata": {},
   "source": [
    "# 3. Define linear model and training\n",
    "- Define a linear regression model using sklearn\n",
    "- Fit polynomial features adn label to linear model"
   ]
  },
  {
   "cell_type": "code",
   "execution_count": 5,
   "metadata": {},
   "outputs": [
    {
     "name": "stdout",
     "output_type": "stream",
     "text": [
      "LinearRegression(copy_X=True, fit_intercept=True, n_jobs=1, normalize=False)\n",
      "MSE:  0.0108737796494\n"
     ]
    }
   ],
   "source": [
    "# ============ YOUR CODE HERE ================\n",
    "model = LinearRegression()\n",
    "print(model)\n",
    "\n",
    "#fit data\n",
    "model.fit(X_poly, y)\n",
    "\n",
    "#should use mean squared error to see the loss of model over all training example \n",
    "y_hat = model.predict(X_poly)\n",
    "loss = mean_squared_error(y_hat, y)\n",
    "print(\"MSE: \", loss)\n",
    "\n",
    "#============================================="
   ]
  },
  {
   "cell_type": "markdown",
   "metadata": {},
   "source": [
    "# 4. Make prediction on training set\n",
    "- Use function() predict of model to predict value for each row data of X_poly\n",
    "- Prediction is called y_hat which has the same shape to y"
   ]
  },
  {
   "cell_type": "code",
   "execution_count": 6,
   "metadata": {},
   "outputs": [
    {
     "name": "stdout",
     "output_type": "stream",
     "text": [
      "[[ 3.4624809 ]\n",
      " [ 3.30838246]\n",
      " [ 3.17993077]\n",
      " [ 3.07641853]\n",
      " [ 2.99713844]\n",
      " [ 2.94138323]\n",
      " [ 2.90844558]\n",
      " [ 2.89761822]\n",
      " [ 2.90819385]\n",
      " [ 2.93946517]\n",
      " [ 2.99072489]\n",
      " [ 3.06126572]\n",
      " [ 3.15038037]\n",
      " [ 3.25736155]\n",
      " [ 3.38150195]\n",
      " [ 3.52209429]\n",
      " [ 3.67843128]\n",
      " [ 3.84980562]\n",
      " [ 4.03551002]\n",
      " [ 4.23483718]]\n"
     ]
    }
   ],
   "source": [
    "# ============ YOUR CODE HERE ================\n",
    "y_hat = model.predict(X_poly)\n",
    "print(y_hat)\n",
    "\n",
    "# ============================================"
   ]
  },
  {
   "cell_type": "markdown",
   "metadata": {},
   "source": [
    "# 5. Plot data:\n",
    "- Plot X and y points by points (scatter plot)\n",
    "- Plot the decision poly line\n",
    "- The 2 plot on the same figure"
   ]
  },
  {
   "cell_type": "code",
   "execution_count": 7,
   "metadata": {},
   "outputs": [
    {
     "data": {
      "image/png": "[encoded data removed]",
      "text/plain": [
       "<matplotlib.figure.Figure at 0x7f91e9c9d3c8>"
      ]
     },
     "metadata": {},
     "output_type": "display_data"
    }
   ],
   "source": [
    "# ============ YOUR CODE HERE ================\n",
    "plt.scatter(X, y)\n",
    "\n",
    "plt.plot(X, y_hat, 'r')\n",
    "\n",
    "plt.show()\n",
    "# ============================================"
   ]
  },
  {
   "cell_type": "code",
   "execution_count": null,
   "metadata": {},
   "outputs": [],
   "source": []
  }
 ],
 "metadata": {
  "kernelspec": {
   "display_name": "Python 3",
   "language": "python",
   "name": "python3"
  },
  "language_info": {
   "codemirror_mode": {
    "name": "ipython",
    "version": 3
   },
   "file_extension": ".py",
   "mimetype": "text/x-python",
   "name": "python",
   "nbconvert_exporter": "python",
   "pygments_lexer": "ipython3",
   "version": "3.6.3"
  }
 },
 "nbformat": 4,
 "nbformat_minor": 2
}
