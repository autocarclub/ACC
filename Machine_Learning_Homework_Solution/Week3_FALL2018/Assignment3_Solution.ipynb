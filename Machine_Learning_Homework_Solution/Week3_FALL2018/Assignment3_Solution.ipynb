{
 "cells": [
  {
   "cell_type": "code",
   "execution_count": 3,
   "metadata": {
    "colab": {
     "autoexec": {
      "startup": false,
      "wait_interval": 0
     }
    },
    "colab_type": "code",
    "id": "jJzfoqBpvjAx"
   },
   "outputs": [],
   "source": [
    "import numpy as np\n",
    "import matplotlib.pyplot as plt"
   ]
  },
  {
   "cell_type": "markdown",
   "metadata": {},
   "source": [
    "# 1. Load data:\n",
    "- We provide 'ex2data1.txt' which contains data and label we use in this exercise\n",
    "- As many previous exercise, we denote X as training data and y is training label\n",
    "- After perform some preprocessing, X has shape (100,2) and y has shape (100,1)\n",
    "- Number of training example: m = 100\n",
    "- Number of feature: n = 2"
   ]
  },
  {
   "cell_type": "code",
   "execution_count": 4,
   "metadata": {
    "colab": {
     "autoexec": {
      "startup": false,
      "wait_interval": 0
     },
     "base_uri": "https://localhost:8080/",
     "height": 67
    },
    "colab_type": "code",
    "executionInfo": {
     "elapsed": 825,
     "status": "ok",
     "timestamp": 1529343446394,
     "user": {
      "displayName": "Nguyen Nam",
      "photoUrl": "https://lh3.googleusercontent.com/a/default-user=s128",
      "userId": "100974802585415237805"
     },
     "user_tz": -420
    },
    "id": "Kw5Ngolhw6aC",
    "outputId": "fa9af00f-be9f-4855-bcd5-2b013c7a2c0b"
   },
   "outputs": [
    {
     "name": "stdout",
     "output_type": "stream",
     "text": [
      "X.shape (100, 2)\n",
      "y.shape:  (100, 1)\n"
     ]
    }
   ],
   "source": [
    "#read data\n",
    "mat = np.loadtxt('ex2data1.txt', delimiter=',')\n",
    "\n",
    "X = mat[:,0:2]\n",
    "y = mat[:,2]\n",
    "\n",
    "# m: number of training examples\n",
    "# n: number of features\n",
    "m = X.shape[0]\n",
    "n = X.shape[1]\n",
    "\n",
    "y = np.reshape(y,(m,1))\n",
    "\n",
    "print(\"X.shape\", X.shape)\n",
    "print(\"y.shape: \", y.shape) "
   ]
  },
  {
   "cell_type": "markdown",
   "metadata": {},
   "source": [
    "# 2. Initialize w\n",
    "- w is parameter vector of our h(X) function\n",
    "- Because number of features n = 2 => w has shape (n+1, 1) or (3,1)\n",
    "- Your task is to initialize w = vector 0"
   ]
  },
  {
   "cell_type": "code",
   "execution_count": 5,
   "metadata": {},
   "outputs": [
    {
     "name": "stdout",
     "output_type": "stream",
     "text": [
      "[[ 0.]\n",
      " [ 0.]\n",
      " [ 0.]]\n"
     ]
    }
   ],
   "source": [
    "#initialize w\n",
    "w = np.zeros((n+1,1))\n",
    "\n",
    "print(w)"
   ]
  },
  {
   "cell_type": "markdown",
   "metadata": {},
   "source": [
    "# 3. Plot data:\n",
    "- Complete plot_data() function wich take 2 parameters: X, y\n",
    "- Your task is to use matplotlib to plot data as picture \"plot.jpg\"\n",
    "    - Positive data (label == 1) will have color red\n",
    "    - Negative data (label == 0) will have color blue\n"
   ]
  },
  {
   "cell_type": "code",
   "execution_count": 6,
   "metadata": {
    "colab": {
     "autoexec": {
      "startup": false,
      "wait_interval": 0
     },
     "base_uri": "https://localhost:8080/",
     "height": 347
    },
    "colab_type": "code",
    "executionInfo": {
     "elapsed": 879,
     "status": "ok",
     "timestamp": 1529343447379,
     "user": {
      "displayName": "Nguyen Nam",
      "photoUrl": "https://lh3.googleusercontent.com/a/default-user=s128",
      "userId": "100974802585415237805"
     },
     "user_tz": -420
    },
    "id": "VUlbAs4q1N7T",
    "outputId": "76c139cd-eb2f-4996-c652-c5166a90c99c"
   },
   "outputs": [
    {
     "data": {
      "image/png": "[encoded data removed]",
      "text/plain": [
       "<matplotlib.figure.Figure at 0x7f37a0df7fd0>"
      ]
     },
     "metadata": {},
     "output_type": "display_data"
    }
   ],
   "source": [
    "def plot_data(X, y):\n",
    "    pos = y==1\n",
    "    neg = y==0\n",
    "  \n",
    "    pos_point_0 = np.reshape(X[:,0],(m,1))[pos]\n",
    "    pos_point_1 = np.reshape(X[:,1],(m,1))[pos]\n",
    "  \n",
    "    neg_point_0 = np.reshape(X[:,0],(m,1))[neg]\n",
    "    neg_point_1 = np.reshape(X[:,1],(m,1))[neg]\n",
    "  \n",
    "    plt.plot(pos_point_0, pos_point_1, 'ro')\n",
    "    plt.plot(neg_point_0, neg_point_1, 'bo')\n",
    "  \n",
    "#print(X)\n",
    "plot_data(X,y)"
   ]
  },
  {
   "cell_type": "markdown",
   "metadata": {},
   "source": [
    "# 4. Create Xbar from X\n",
    "- Append columns of 1 to X and assign it to variable Xbar"
   ]
  },
  {
   "cell_type": "code",
   "execution_count": 7,
   "metadata": {
    "colab": {
     "autoexec": {
      "startup": false,
      "wait_interval": 0
     }
    },
    "colab_type": "code",
    "id": "AiBsO1nJ525a"
   },
   "outputs": [],
   "source": [
    "#append columns of 1 to X\n",
    "vector_ones = np.ones((m,1))\n",
    "Xbar = np.append(vector_ones, X, axis=1)"
   ]
  },
  {
   "cell_type": "markdown",
   "metadata": {},
   "source": [
    "# 5. Sigmoid function:\n",
    "- After perform linear transform, an activation function is use to map the value to 0 -> 1, which then represents the probalility of a training sample being positive\n",
    "- Finish sigmoid function which take input z (output of linear transform phase) "
   ]
  },
  {
   "cell_type": "code",
   "execution_count": 8,
   "metadata": {
    "colab": {
     "autoexec": {
      "startup": false,
      "wait_interval": 0
     },
     "base_uri": "https://localhost:8080/",
     "height": 34
    },
    "colab_type": "code",
    "executionInfo": {
     "elapsed": 711,
     "status": "ok",
     "timestamp": 1529343449099,
     "user": {
      "displayName": "Nguyen Nam",
      "photoUrl": "https://lh3.googleusercontent.com/a/default-user=s128",
      "userId": "100974802585415237805"
     },
     "user_tz": -420
    },
    "id": "uPRAQAI-0tba",
    "outputId": "51cca682-4675-41b5-820c-1ab3c8250ff0"
   },
   "outputs": [
    {
     "name": "stdout",
     "output_type": "stream",
     "text": [
      "output of sigmoid at input = [0,1,-3]: [ 0.5         0.73105858  0.04742587]\n",
      "This value should be about [0.5  0.731  0.0474]\n"
     ]
    }
   ],
   "source": [
    "# sigmoid function\n",
    "def sigmoid(z):\n",
    "    return 1.0/(1+np.exp(-z))\n",
    "\n",
    "# test sigmoid function\n",
    "t = sigmoid(np.array([0,1,-3]))\n",
    "print(\"output of sigmoid at input = [0,1,-3]: {}\".format(t))\n",
    "print(\"This value should be about [0.5  0.731  0.0474]\")"
   ]
  },
  {
   "cell_type": "markdown",
   "metadata": {},
   "source": [
    "# 6. Compute cost and gradients:\n",
    "- Return J as the cost over all training example and grad is a vector having shape like w (gradients of cost function with respect to w)"
   ]
  },
  {
   "cell_type": "code",
   "execution_count": 9,
   "metadata": {
    "colab": {
     "autoexec": {
      "startup": false,
      "wait_interval": 0
     },
     "base_uri": "https://localhost:8080/",
     "height": 386
    },
    "colab_type": "code",
    "executionInfo": {
     "elapsed": 708,
     "status": "ok",
     "timestamp": 1529343449865,
     "user": {
      "displayName": "Nguyen Nam",
      "photoUrl": "https://lh3.googleusercontent.com/a/default-user=s128",
      "userId": "100974802585415237805"
     },
     "user_tz": -420
    },
    "id": "ObxViQUvy1Vi",
    "outputId": "6508e09b-8f13-4b61-f37f-9ed9a032a879"
   },
   "outputs": [
    {
     "name": "stdout",
     "output_type": "stream",
     "text": [
      "cost at w = [[0],[0],[0]]: 0.6931471805599452\n",
      "This value should be about 0.693\n",
      "Gradient at w  = [[0],[0],[0]]: \n",
      "[[ -0.1       ]\n",
      " [-12.00921659]\n",
      " [-11.26284221]]\n",
      "This value should be about:\n",
      "[[ -0.1],\n",
      "[-12.00921659],\n",
      "[-11.26284221]]\n",
      "\n",
      "\n",
      "cost at w = [[-24],[0.2],[0.2]]: 0.2183301938265977\n",
      "This value should be about 0.218\n",
      "Gradient at w  = [[-24],[0.2],[0.2]]: \n",
      "[[ 0.04290299]\n",
      " [ 2.56623412]\n",
      " [ 2.64679737]]\n",
      "This value should be about:\n",
      "[[0.04290299],\n",
      "[2.56623412],\n",
      "[2.64679737]]\n"
     ]
    }
   ],
   "source": [
    "def compute_cost_and_gradient(X,y,w):\n",
    "    '''compute cost and gradients over all training examples\n",
    "        with respect to this current w'''\n",
    "    J = 1.0/m*(-y.T.dot(np.log(sigmoid(X.dot(w)))) - (1.0-y).T.dot(np.log(1-sigmoid(X.dot(w)))))\n",
    "    grad = 1.0/m*X.T.dot(sigmoid(np.dot(X,w))-y)\n",
    "  \n",
    "    return J, grad\n",
    "  \n",
    "\n",
    "cost, grad = compute_cost_and_gradient(Xbar,y,w)\n",
    "print(\"cost at w = [[0],[0],[0]]: {}\".format(float(cost)))\n",
    "print(\"This value should be about 0.693\")\n",
    "print(\"Gradient at w  = [[0],[0],[0]]: \\n{}\".format(grad))\n",
    "print(\"This value should be about:\\n{}\".format(\"[[ -0.1],\\n[-12.00921659],\\n[-11.26284221]]\"))\n",
    "\n",
    "print(\"\\n\")\n",
    "\n",
    "test_w = np.reshape(np.array([-24, 0.2, 0.2]), (3,1))\n",
    "cost, grad = compute_cost_and_gradient(Xbar,y,test_w)\n",
    "print(\"cost at w = [[-24],[0.2],[0.2]]: {}\".format(float(cost)))\n",
    "print(\"This value should be about 0.218\")\n",
    "print(\"Gradient at w  = [[-24],[0.2],[0.2]]: \\n{}\".format(grad))\n",
    "print(\"This value should be about:\\n{}\".format(\"[[0.04290299],\\n[2.56623412],\\n[2.64679737]]\"))\n"
   ]
  },
  {
   "cell_type": "markdown",
   "metadata": {},
   "source": [
    "# 7. Updating theta:"
   ]
  },
  {
   "cell_type": "code",
   "execution_count": 10,
   "metadata": {
    "colab": {
     "autoexec": {
      "startup": false,
      "wait_interval": 0
     },
     "base_uri": "https://localhost:8080/",
     "height": 185
    },
    "colab_type": "code",
    "executionInfo": {
     "elapsed": 50761,
     "status": "ok",
     "timestamp": 1529343500688,
     "user": {
      "displayName": "Nguyen Nam",
      "photoUrl": "https://lh3.googleusercontent.com/a/default-user=s128",
      "userId": "100974802585415237805"
     },
     "user_tz": -420
    },
    "id": "-r6HB8c39rXa",
    "outputId": "1b43127e-8841-43c8-e498-0e32f06bcb11"
   },
   "outputs": [
    {
     "name": "stdout",
     "output_type": "stream",
     "text": [
      "cost at iter 0: [[ 0.69314718]]\n",
      "cost at iter 30000: [[ 1.48675037]]\n",
      "cost at iter 60000: [[ 0.83050281]]\n",
      "cost at iter 90000: [[ 0.52891759]]\n",
      "cost at iter 120000: [[ 0.32455863]]\n",
      "cost at iter 150000: [[ 0.26140436]]\n",
      "cost at iter 180000: [[ 0.25403679]]\n",
      "cost at iter 210000: [[ 0.24809216]]\n",
      "cost at iter 240000: [[ 0.24319655]]\n",
      "cost at iter 270000: [[ 0.23909754]]\n"
     ]
    }
   ],
   "source": [
    "lnr = 0.002\n",
    "iters = 300000\n",
    "\n",
    "def train(iteration):\n",
    "    global w\n",
    "    for i in range(iters):\n",
    "        cost, grad = compute_cost_and_gradient(Xbar,y,w)\n",
    "        if(i%30000==0):\n",
    "            print(\"cost at iter {}: {}\".format(i,cost))\n",
    "    \n",
    "        #update gradient\n",
    "        w = w - lnr*grad\n",
    "    \n",
    "train(iters)"
   ]
  },
  {
   "cell_type": "markdown",
   "metadata": {},
   "source": [
    "# 8. Predict on an input X passed in"
   ]
  },
  {
   "cell_type": "code",
   "execution_count": 11,
   "metadata": {
    "colab": {
     "autoexec": {
      "startup": false,
      "wait_interval": 0
     }
    },
    "colab_type": "code",
    "id": "qyQtlRi32xlX"
   },
   "outputs": [],
   "source": [
    "def predict(_X, w):\n",
    "    prediction = sigmoid(np.dot(_X,w))\n",
    "    return prediction"
   ]
  },
  {
   "cell_type": "code",
   "execution_count": 12,
   "metadata": {
    "colab": {
     "autoexec": {
      "startup": false,
      "wait_interval": 0
     },
     "base_uri": "https://localhost:8080/",
     "height": 347
    },
    "colab_type": "code",
    "executionInfo": {
     "elapsed": 751,
     "status": "ok",
     "timestamp": 1529343761508,
     "user": {
      "displayName": "Nguyen Nam",
      "photoUrl": "https://lh3.googleusercontent.com/a/default-user=s128",
      "userId": "100974802585415237805"
     },
     "user_tz": -420
    },
    "id": "xXCw3_3FxR9h",
    "outputId": "6db9ed08-153c-47a9-e634-25751a017b29"
   },
   "outputs": [
    {
     "data": {
      "image/png": "[encoded data removed]",
      "text/plain": [
       "<matplotlib.figure.Figure at 0x7f3798f758d0>"
      ]
     },
     "metadata": {},
     "output_type": "display_data"
    }
   ],
   "source": [
    "\n",
    "#plot data with seperating line\n",
    "plot_data(X,y)\n",
    "\n",
    "x1_plot = np.arange(25, 105, 1)\n",
    "x2_plot = np.arange(25, 105, 1)\n",
    "\n",
    "xx1, xx2 = np.meshgrid(x1_plot, x2_plot)\n",
    "#print(xx)\n",
    "x1 = np.reshape(xx1,(xx1.shape[0]*xx1.shape[1],1))\n",
    "x2 = np.reshape(xx2,(xx2.shape[0]*xx2.shape[1],1))\n",
    "\n",
    "_X = np.append(x1,x2,axis=1)\n",
    "_X = np.append(np.ones((x1.shape[0],1)), _X, axis=1)\n",
    "#print(_X)\n",
    "\n",
    "z = predict(_X,w)\n",
    "pos = z >= 0.5\n",
    "neg = z < 0.5\n",
    "z[pos] = 1\n",
    "z[neg] = 0\n",
    "\n",
    "z = np.reshape(z, (len(x1_plot), len(x2_plot)))\n",
    "\n",
    "h = plt.contourf(x1_plot,x2_plot,z,200, cmap='jet',  alpha=.2)"
   ]
  },
  {
   "cell_type": "code",
   "execution_count": null,
   "metadata": {},
   "outputs": [],
   "source": []
  },
  {
   "cell_type": "code",
   "execution_count": null,
   "metadata": {},
   "outputs": [],
   "source": []
  }
 ],
 "metadata": {
  "colab": {
   "collapsed_sections": [],
   "default_view": {},
   "name": "Assignment2.ipynb",
   "provenance": [],
   "version": "0.3.2",
   "views": {}
  },
  "kernelspec": {
   "display_name": "Python 3",
   "language": "python",
   "name": "python3"
  },
  "language_info": {
   "codemirror_mode": {
    "name": "ipython",
    "version": 3
   },
   "file_extension": ".py",
   "mimetype": "text/x-python",
   "name": "python",
   "nbconvert_exporter": "python",
   "pygments_lexer": "ipython3",
   "version": "3.6.3"
  }
 },
 "nbformat": 4,
 "nbformat_minor": 1
}
