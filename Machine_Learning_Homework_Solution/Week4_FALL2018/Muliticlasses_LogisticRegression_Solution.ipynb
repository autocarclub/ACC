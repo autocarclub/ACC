{
 "cells": [
  {
   "cell_type": "code",
   "execution_count": 2,
   "metadata": {
    "colab": {},
    "colab_type": "code",
    "id": "BtfKrH72V1Kb"
   },
   "outputs": [],
   "source": [
    "import numpy as np\n",
    "import matplotlib.pyplot as plt"
   ]
  },
  {
   "cell_type": "markdown",
   "metadata": {},
   "source": [
    "# 1. Generate data:\n",
    "- We train a classifier on 3 classes, labels : 0, 1, 2\n",
    "- Total number of training examples m = 30\n",
    "- Each class has 10 training examples\n",
    "- Print X and y to see the data\n",
    "- Number of features n = 2"
   ]
  },
  {
   "cell_type": "code",
   "execution_count": 10,
   "metadata": {
    "colab": {
     "base_uri": "https://localhost:8080/",
     "height": 521
    },
    "colab_type": "code",
    "id": "XVF34SgKWP4N",
    "outputId": "416be7e3-bc0d-4265-e58b-a43f9e1e7978"
   },
   "outputs": [
    {
     "name": "stdout",
     "output_type": "stream",
     "text": [
      "[[ 0.]\n",
      " [ 0.]\n",
      " [ 0.]\n",
      " [ 0.]\n",
      " [ 0.]\n",
      " [ 0.]\n",
      " [ 0.]\n",
      " [ 0.]\n",
      " [ 0.]\n",
      " [ 0.]\n",
      " [ 1.]\n",
      " [ 1.]\n",
      " [ 1.]\n",
      " [ 1.]\n",
      " [ 1.]\n",
      " [ 1.]\n",
      " [ 1.]\n",
      " [ 1.]\n",
      " [ 1.]\n",
      " [ 1.]\n",
      " [ 2.]\n",
      " [ 2.]\n",
      " [ 2.]\n",
      " [ 2.]\n",
      " [ 2.]\n",
      " [ 2.]\n",
      " [ 2.]\n",
      " [ 2.]\n",
      " [ 2.]\n",
      " [ 2.]]\n"
     ]
    }
   ],
   "source": [
    "np.random.seed(2)\n",
    "\n",
    "# generate data, X is training data and y is training label\n",
    "mean = [[1,1], [1,5],[5,1]]\n",
    "cov = [[1,0],[0,1]]\n",
    "\n",
    "n_classes = 3\n",
    "num_each_class = 10\n",
    "m = num_each_class * n_classes\n",
    "n_features = 2\n",
    "\n",
    "# generate data of class 0\n",
    "X0 = np.random.multivariate_normal(mean[0], cov, num_each_class)\n",
    "y0 = np.zeros((num_each_class,1))\n",
    "\n",
    "# generate data of class 1\n",
    "X1 = np.random.multivariate_normal(mean[1], cov, num_each_class)\n",
    "y1 = np.ones((num_each_class,1))\n",
    "\n",
    "# generate data of class 2\n",
    "X2 = np.random.multivariate_normal(mean[2], cov, num_each_class)\n",
    "y2 = np.array([2]*num_each_class).reshape(-1,1)\n",
    "\n",
    "# concatenate data of the three classes\n",
    "X = np.vstack([X0, X1, X2])\n",
    "y = np.vstack([y0,y1,y2])\n",
    "\n",
    "\n",
    "print(y)"
   ]
  },
  {
   "cell_type": "code",
   "execution_count": 11,
   "metadata": {
    "colab": {
     "base_uri": "https://localhost:8080/",
     "height": 364
    },
    "colab_type": "code",
    "id": "8rdUq2DqW8Bp",
    "outputId": "35986bee-4efe-445f-e2c7-b7eb5cc84813"
   },
   "outputs": [
    {
     "data": {
      "text/plain": [
       "[<matplotlib.lines.Line2D at 0x7f88dfa959b0>]"
      ]
     },
     "execution_count": 11,
     "metadata": {},
     "output_type": "execute_result"
    },
    {
     "data": {
      "image/png": "[encoded data removed]",
      "text/plain": [
       "<matplotlib.figure.Figure at 0x7f88dfade278>"
      ]
     },
     "metadata": {},
     "output_type": "display_data"
    }
   ],
   "source": [
    "# plot data of 2 classes\n",
    "\n",
    "# plot data of class 0\n",
    "plt.plot(X0[:,0], X0[:,1], 'b^')\n",
    "\n",
    "# plot data of class 1\n",
    "plt.plot(X1[:,0], X1[:,1], 'go')\n",
    "\n",
    "# plot data of class 2\n",
    "plt.plot(X2[:,0], X2[:,1], 'rs')"
   ]
  },
  {
   "cell_type": "markdown",
   "metadata": {},
   "source": [
    "# 2. Feature scaling:\n",
    "- Your first task is to complete feature scaling\n",
    "- This function return X_scaled, mean and standard deviation"
   ]
  },
  {
   "cell_type": "code",
   "execution_count": 12,
   "metadata": {
    "colab": {},
    "colab_type": "code",
    "id": "j8P2ucIqYYHT"
   },
   "outputs": [],
   "source": [
    "# perform feature scaling on X and assign it to X\n",
    "def feature_scaling(X):\n",
    "    #  =================== YOUR CODE HERE =======================\n",
    "    mean = np.mean(X,axis=0)\n",
    "    stddev = np.std(X,axis=0)\n",
    "    X_scaled = (X-mean)/stddev\n",
    "    # ===========================================================\n",
    "\n",
    "    return X_scaled, mean, stddev\n",
    "\n",
    "\n",
    "# assign value returned by feature_scaling() function to X\n",
    "X_scaled, mean, stddev = feature_scaling(X)"
   ]
  },
  {
   "cell_type": "code",
   "execution_count": 13,
   "metadata": {
    "colab": {},
    "colab_type": "code",
    "id": "wg_FfROsjkAr"
   },
   "outputs": [],
   "source": [
    "# create Xbar\n",
    "Xbar = np.hstack([np.ones((m,1)), X_scaled])"
   ]
  },
  {
   "cell_type": "markdown",
   "metadata": {},
   "source": [
    "# 3. Cost and gradients:\n",
    "- Complete sigmoid() function and h() function, remember that h() do 2 things: 1 is performing linear transform, and 2 is apply sigmoid function on that linear transform\n",
    "- Complete cost_and_gradient(), remember to use Xbar, not X"
   ]
  },
  {
   "cell_type": "code",
   "execution_count": 14,
   "metadata": {
    "colab": {},
    "colab_type": "code",
    "id": "yxMrRdQYa_fT"
   },
   "outputs": [],
   "source": [
    "def sigmoid(Z):\n",
    "  #  =================== YOUR CODE HERE =======================\n",
    "  return 1./(1+np.exp(-Z))\n",
    "  # ===========================================================\n",
    "\n",
    "    \n",
    "def h(Xbar, w):\n",
    "    #  =================== YOUR CODE HERE =======================\n",
    "    return sigmoid(Xbar.dot(w))\n",
    "    # ===========================================================\n",
    "  \n",
    "  \n",
    "def cost_and_gradients(Xbar,y,w):\n",
    "    J, grad = None, None\n",
    "    #  =================== YOUR CODE HERE =======================\n",
    "    J = 1/m*(- y.T.dot(np.log(h(Xbar,w))) - (1-y).T.dot(np.log(1-h(Xbar,w))) )\n",
    "    grad = 1/m*Xbar.T.dot(h(Xbar,w) - y)\n",
    "    # ===========================================================\n",
    "    return J, grad\n",
    "  \n",
    "  "
   ]
  },
  {
   "cell_type": "code",
   "execution_count": 15,
   "metadata": {
    "colab": {},
    "colab_type": "code",
    "id": "kc8UxFXzbNnq"
   },
   "outputs": [],
   "source": [
    "def train(Xbar,y,w):\n",
    "    lr = 0.02\n",
    "    n_iters = 1000\n",
    "    # ==================== YOUR CODE HERE ======================\n",
    "    for i in range(n_iters):\n",
    "        \n",
    "        # compute cost and gradients using cost_and_gradients() function\n",
    "        cost, grad = cost_and_gradients(Xbar, y,w)\n",
    "        \n",
    "        if(i % 100 == 0):\n",
    "            print(\"cost at iteration %d: %f:\"%(i,cost))\n",
    "    \n",
    "        # update w using grad\n",
    "        w -= lr*grad\n",
    "  \n",
    "    # ==========================================================\n",
    "\n",
    "    return w"
   ]
  },
  {
   "cell_type": "markdown",
   "metadata": {},
   "source": [
    "# 4. Train one-vs-rest model\n",
    "- What if we want to classify more than 2 classes, for example 3 classes? See this video to get the idea about one vs rest model: https://www.coursera.org/lecture/machine-learning/multiclass-classification-one-vs-all-68Pol\n",
    "- In one_vs_rest() function below, we define 3 binary sub models:\n",
    "    - Classifier: 0 vs (1,2)\n",
    "    - Classifier: 1 vs (0,2)\n",
    "    - Classifier: 2 vs (0,1)\n",
    "- With each model, convert its true label to 1 (positive), and the other labels to 0 (negative)\n",
    "    - For example: if y = [0 0 0 1 1 1 2 2 2]\n",
    "        - With classifier 0 vs (1,2), y_convert = [1 1 1 0 0 0 0 0 0]\n",
    "        - With classifier 1 vs (0,2), y_convert = [0 0 0 1 1 1 0 0 0]\n",
    "        - With classifier 2 vs (0,1), y_convert = [0 0 0 0 0 0 1 1 1]\n",
    "- Train each of these classifier on a different parameter vector:\n",
    "    - With classifier 0 vs (1,2): w0_12\n",
    "    - With classifier 1 vs (0,2): w1_02\n",
    "    - With classifier 2 vs (0,1): w2_01\n",
    "- Predict an input to be 0, 1 or 2?\n",
    "    - Compute y_hat on each classifier using corresponding parameter w\n",
    "    - Compare y_hat of these 3 classes, the input data will be labeled by the model having highest y_hat\n",
    "        - For example: \n",
    "            - With classifier 0 vs (1,2): y_hat = 0.82\n",
    "            - With classifier 1 vs (0,2): Y_hat = 0.55\n",
    "            - With classifier 2 vs (0,1): w2_01 = 0.12\n",
    "            - We conclude that this input's label will be 0\n",
    "        - For example: \n",
    "            - With classifier 0 vs (1,2): y_hat = 0.38\n",
    "            - With classifier 1 vs (0,2): Y_hat = 0.61\n",
    "            - With classifier 2 vs (0,1): w2_01 = 0.33\n",
    "            - We conclude that this input's label will be 1\n",
    "        - For example: \n",
    "            - With classifier 0 vs (1,2): y_hat = 0.23\n",
    "            - With classifier 1 vs (0,2): Y_hat = 0.44\n",
    "            - With classifier 2 vs (0,1): w2_01 = 0.67\n",
    "            - We conclude that this input's label will be 2"
   ]
  },
  {
   "cell_type": "code",
   "execution_count": 16,
   "metadata": {
    "colab": {
     "base_uri": "https://localhost:8080/",
     "height": 521
    },
    "colab_type": "code",
    "id": "1kYYDlJoZ-df",
    "outputId": "0930980c-44e8-483c-89a3-2f27a57c036a"
   },
   "outputs": [
    {
     "name": "stdout",
     "output_type": "stream",
     "text": [
      "cost at iteration 0: 0.582519:\n",
      "cost at iteration 100: 0.380010:\n",
      "cost at iteration 200: 0.299125:\n",
      "cost at iteration 300: 0.262290:\n",
      "cost at iteration 400: 0.242062:\n",
      "cost at iteration 500: 0.229101:\n",
      "cost at iteration 600: 0.219809:\n",
      "cost at iteration 700: 0.212619:\n",
      "cost at iteration 800: 0.206771:\n",
      "cost at iteration 900: 0.201856:\n",
      "cost at iteration 0: 1.409501:\n",
      "cost at iteration 100: 0.906465:\n",
      "cost at iteration 200: 0.589515:\n",
      "cost at iteration 300: 0.407340:\n",
      "cost at iteration 400: 0.309101:\n",
      "cost at iteration 500: 0.253800:\n",
      "cost at iteration 600: 0.219714:\n",
      "cost at iteration 700: 0.196764:\n",
      "cost at iteration 800: 0.180177:\n",
      "cost at iteration 900: 0.167526:\n",
      "cost at iteration 0: 1.304521:\n",
      "cost at iteration 100: 0.730349:\n",
      "cost at iteration 200: 0.467310:\n",
      "cost at iteration 300: 0.333849:\n",
      "cost at iteration 400: 0.259212:\n",
      "cost at iteration 500: 0.213107:\n",
      "cost at iteration 600: 0.182125:\n",
      "cost at iteration 700: 0.159913:\n",
      "cost at iteration 800: 0.143189:\n",
      "cost at iteration 900: 0.130117:\n"
     ]
    }
   ],
   "source": [
    "np.random.seed(2)\n",
    "\n",
    "# apply one-vs-rest model\n",
    "def one_vs_rest_model(Xbar,y):\n",
    "    w0_12 = np.random.randn(n_features+1, 1)\n",
    "    w1_02 = np.random.randn(n_features+1, 1)\n",
    "    w2_01 = np.random.randn(n_features+1, 1)\n",
    "\n",
    "    # model 0 vs (1,2)\n",
    "    idx0_12 = y == 0\n",
    "    y0_12 = y.copy()\n",
    "    y0_12[idx0_12] = 1\n",
    "    y0_12[~idx0_12] = 0\n",
    "\n",
    "\n",
    "    idx1_02 = y == 1\n",
    "    y1_02 = y.copy()\n",
    "    y1_02[idx1_02] = 1\n",
    "    y1_02[~idx1_02] = 0\n",
    "\n",
    "\n",
    "    idx2_01 = y == 2\n",
    "    y2_01 = y.copy()\n",
    "    y2_01[idx2_01] = 1\n",
    "    y2_01[~idx2_01] = 0\n",
    "\n",
    "\n",
    "    # train on model 0 vs 12\n",
    "    w0_12 = train(Xbar,y0_12,w0_12)\n",
    "\n",
    "    # train on model 1 vs 02\n",
    "    w1_02 = train(Xbar,y1_02,w1_02)\n",
    "\n",
    "    # train on model 2 vs 01\n",
    "    w2_01 = train(Xbar,y2_01,w2_01)\n",
    "  \n",
    "    return w0_12, w1_02, w2_01\n",
    "  \n",
    "w0_12, w1_02, w2_01 = one_vs_rest_model(Xbar, y)"
   ]
  },
  {
   "cell_type": "markdown",
   "metadata": {},
   "source": [
    "# 5. Predict:\n",
    "- Compute y_hat of each class\n",
    "- Compare those 3 y_hats and get label with highest y_hat\n",
    "- Remember _Xbar input can be a matrix, so variable 'label' should be a column vector of label"
   ]
  },
  {
   "cell_type": "code",
   "execution_count": 17,
   "metadata": {
    "colab": {
     "base_uri": "https://localhost:8080/",
     "height": 50
    },
    "colab_type": "code",
    "id": "vGiLgV8IeVaJ",
    "outputId": "ec13bc3a-0c1f-4414-f4fb-d111ca34dba6"
   },
   "outputs": [
    {
     "name": "stdout",
     "output_type": "stream",
     "text": [
      "True label: \n",
      "[ 0.  0.  0.  0.  0.  0.  0.  0.  0.  0.  1.  1.  1.  1.  1.  1.  1.  1.\n",
      "  1.  1.  2.  2.  2.  2.  2.  2.  2.  2.  2.  2.]\n",
      "Predicted label: \n",
      "[0 0 0 0 0 1 0 0 0 0 1 1 1 1 1 1 1 1 1 1 2 2 2 2 2 2 2 2 2 2]\n"
     ]
    }
   ],
   "source": [
    "def predict(_Xbar, w0_12, w1_02, w2_01):\n",
    "\n",
    "    y_hat_0_12  = h(_Xbar, w0_12)\n",
    "    y_hat_1_02  = h(_Xbar, w1_02)\n",
    "    y_hat_2_01  = h(_Xbar, w2_01)\n",
    "  \n",
    " \n",
    "  \n",
    "    # compare these 3 probability and return label of this point\n",
    "    #  =================== YOUR CODE HERE =======================\n",
    "\n",
    "    y_hat = np.hstack([y_hat_0_12, y_hat_1_02, y_hat_2_01])\n",
    "    label = np.argmax(y_hat, axis=1)\n",
    "\n",
    "    return label\n",
    "    # ===========================================================\n",
    "  \n",
    "  \n",
    "label = predict(Xbar, w0_12, w1_02, w2_01)\n",
    "print(\"True label: \")\n",
    "print(y.reshape(-1,))\n",
    "print(\"Predicted label: \")\n",
    "print(label)"
   ]
  },
  {
   "cell_type": "code",
   "execution_count": 18,
   "metadata": {
    "colab": {
     "base_uri": "https://localhost:8080/",
     "height": 34
    },
    "colab_type": "code",
    "id": "ZpSFI7xdGhfd",
    "outputId": "d271f1fd-c172-4a60-8ecf-df8099a3c30f"
   },
   "outputs": [],
   "source": [
    "y_hat = predict(Xbar, w0_12, w1_02, w2_01)"
   ]
  },
  {
   "cell_type": "code",
   "execution_count": 19,
   "metadata": {
    "colab": {
     "base_uri": "https://localhost:8080/",
     "height": 381
    },
    "colab_type": "code",
    "id": "iO_mSktiJhBb",
    "outputId": "393ab3ab-77d5-421d-955b-ebdfc98cc648"
   },
   "outputs": [
    {
     "name": "stdout",
     "output_type": "stream",
     "text": [
      "(1936, 3)\n"
     ]
    },
    {
     "data": {
      "image/png": "[encoded data removed]",
      "text/plain": [
       "<matplotlib.figure.Figure at 0x7f88dfa6db38>"
      ]
     },
     "metadata": {},
     "output_type": "display_data"
    }
   ],
   "source": [
    "def plot_contour():\n",
    "    # plot data of 2 classes\n",
    "\n",
    "    # plot data of class 0\n",
    "    plt.plot(X0[:,0], X0[:,1], 'b^')\n",
    "\n",
    "    # plot data of class 1\n",
    "    plt.plot(X1[:,0], X1[:,1], 'go')\n",
    "\n",
    "    # plot data of class 2\n",
    "    plt.plot(X2[:,0], X2[:,1], 'rs')\n",
    "\n",
    "    x1_plot = np.arange(-3, 8, 0.25)\n",
    "    x2_plot = np.arange(-3, 8, 0.25)\n",
    "\n",
    "    xx1, xx2 = np.meshgrid(x1_plot, x2_plot)\n",
    "    #print(xx)\n",
    "    x1 = np.reshape(xx1,(xx1.shape[0]*xx1.shape[1],1))\n",
    "    x2 = np.reshape(xx2,(xx2.shape[0]*xx2.shape[1],1))\n",
    "\n",
    "    _X = np.append(x1,x2,axis=1)\n",
    "    _X_scaled, _mean, _stddev = feature_scaling(_X)\n",
    "    _Xbar = np.append(np.ones((x1.shape[0],1)), _X_scaled, axis=1)\n",
    "\n",
    "\n",
    "    print(_Xbar.shape)\n",
    "\n",
    "    z = predict(_Xbar, w0_12, w1_02, w2_01)\n",
    "\n",
    "    z = np.reshape(z, (len(x1_plot), len(x2_plot)))\n",
    "\n",
    "    h = plt.contourf(x1_plot,x2_plot,z,200, cmap='jet',  alpha=.2)\n",
    "    \n",
    "plot_contour()"
   ]
  },
  {
   "cell_type": "code",
   "execution_count": 3,
   "metadata": {
    "colab": {},
    "colab_type": "code",
    "id": "TwSBRgYiNSwJ"
   },
   "outputs": [],
   "source": [
    "X = np.random.randn(3,3)*10"
   ]
  },
  {
   "cell_type": "code",
   "execution_count": 4,
   "metadata": {},
   "outputs": [
    {
     "data": {
      "text/plain": [
       "array([[ -5.03550453,   5.25482487,  -6.54731953],\n",
       "       [ -3.33511766,  -2.37943075,  15.14881523],\n",
       "       [  4.86011024,  10.689036  ,  16.98666523]])"
      ]
     },
     "execution_count": 4,
     "metadata": {},
     "output_type": "execute_result"
    }
   ],
   "source": [
    "X"
   ]
  },
  {
   "cell_type": "code",
   "execution_count": 6,
   "metadata": {},
   "outputs": [
    {
     "data": {
      "text/plain": [
       "array([2, 2, 2])"
      ]
     },
     "execution_count": 6,
     "metadata": {},
     "output_type": "execute_result"
    }
   ],
   "source": [
    "np.argmax(X,axis = 0)"
   ]
  },
  {
   "cell_type": "code",
   "execution_count": 9,
   "metadata": {},
   "outputs": [
    {
     "data": {
      "text/plain": [
       "(3,)"
      ]
     },
     "execution_count": 9,
     "metadata": {},
     "output_type": "execute_result"
    }
   ],
   "source": [
    "a = np.argmax(X,axis = 1)\n",
    "a.shape"
   ]
  },
  {
   "cell_type": "code",
   "execution_count": null,
   "metadata": {},
   "outputs": [],
   "source": []
  }
 ],
 "metadata": {
  "colab": {
   "collapsed_sections": [],
   "name": "Muliticlasses_LogisticRegression.ipynb",
   "provenance": [],
   "toc_visible": true,
   "version": "0.3.2"
  },
  "kernelspec": {
   "display_name": "Python 3",
   "language": "python",
   "name": "python3"
  },
  "language_info": {
   "codemirror_mode": {
    "name": "ipython",
    "version": 3
   },
   "file_extension": ".py",
   "mimetype": "text/x-python",
   "name": "python",
   "nbconvert_exporter": "python",
   "pygments_lexer": "ipython3",
   "version": "3.6.3"
  }
 },
 "nbformat": 4,
 "nbformat_minor": 1
}
